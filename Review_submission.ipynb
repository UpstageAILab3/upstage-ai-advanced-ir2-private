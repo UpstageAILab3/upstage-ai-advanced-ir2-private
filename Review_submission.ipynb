{
 "cells": [
  {
   "cell_type": "markdown",
   "metadata": {},
   "source": [
    "#### submission 파일을 편하게 분석해보자~"
   ]
  },
  {
   "cell_type": "code",
   "execution_count": 1,
   "metadata": {},
   "outputs": [
    {
     "name": "stdout",
     "output_type": "stream",
     "text": [
      "1\n"
     ]
    }
   ],
   "source": [
    "import json\n",
    "\n",
    "#csv_filepath = \"../../PrevResult/submission_003.csv\"\n",
    "csv_filepath = \"./submission_008.csv\"\n",
    "\n",
    "docs_dic = {}\n",
    "with open(csv_filepath) as f:\n",
    "    for line in f:\n",
    "        doc = json.loads(line)\n",
    "        docs_dic[doc[\"eval_id\"]] = doc\n",
    "\n",
    "print(len(docs_dic))"
   ]
  },
  {
   "cell_type": "code",
   "execution_count": 2,
   "metadata": {},
   "outputs": [
    {
     "name": "stderr",
     "output_type": "stream",
     "text": [
      "/opt/conda/lib/python3.10/site-packages/tqdm/auto.py:21: TqdmWarning: IProgress not found. Please update jupyter and ipywidgets. See https://ipywidgets.readthedocs.io/en/stable/user_install.html\n",
      "  from .autonotebook import tqdm as notebook_tqdm\n",
      "/opt/conda/lib/python3.10/site-packages/torch/_utils.py:831: UserWarning: TypedStorage is deprecated. It will be removed in the future and UntypedStorage will be the only storage class. This should only matter to you if you are using storages directly.  To access UntypedStorage directly, use tensor.untyped_storage() instead of tensor.storage()\n",
      "  return self.fget.__get__(instance, owner)()\n"
     ]
    }
   ],
   "source": [
    "from sentence_transformers import CrossEncoder\n",
    "\n",
    "cross_encoder_model = CrossEncoder(\"bongsoo/albert-small-kor-cross-encoder-v1\")\n",
    "# cross_encoder_model = CrossEncoder(\"bongsoo/klue-cross-encoder-v1\")"
   ]
  },
  {
   "cell_type": "code",
   "execution_count": 3,
   "metadata": {},
   "outputs": [],
   "source": [
    "def getFreshScore(standalone_query, reference):\n",
    "    pair_list = []    \n",
    "    pair_list.append( (standalone_query, reference) )\n",
    "    scores = cross_encoder_model.predict(pair_list)\n",
    "    return scores[0]"
   ]
  },
  {
   "cell_type": "code",
   "execution_count": 4,
   "metadata": {},
   "outputs": [],
   "source": [
    "import textwrap\n",
    "\n",
    "def printDoc(eval_id):\n",
    "    doc = docs_dic[eval_id]\n",
    "    answer = textwrap.fill(doc['answer'], width=60)\n",
    "    \n",
    "    print(f\"eval_id = {eval_id}\")\n",
    "    print(f\"standalone_query = [{doc['standalone_query']}]\")\n",
    "    print()\n",
    "    print(f\"answer = [{answer}]\")\n",
    "    print()\n",
    "    \n",
    "    for i, uuid in enumerate(doc[\"topk\"]):\n",
    "        score = doc['references'][i]['score']\n",
    "        content = textwrap.fill(doc['references'][i]['content'], width=60)\n",
    "        freshScore = getFreshScore(doc['standalone_query'], content)\n",
    "        \n",
    "        print(f\"UUID = [{uuid}]\")\n",
    "        print(f\"    Score = {score}, Fresh score = {freshScore}\")\n",
    "        print(f\"    Content = {content}\")\n",
    "        print()    "
   ]
  },
  {
   "cell_type": "code",
   "execution_count": 5,
   "metadata": {},
   "outputs": [
    {
     "name": "stdout",
     "output_type": "stream",
     "text": [
      "eval_id = 78\n",
      "standalone_query = [나무의 분류에 대해 조사해 보기 위한 방법은?]\n",
      "\n",
      "answer = [나무의 분류를 조사하기 위한 방법은 여러 가지가 있습니다. 먼저, 나무의 잎 모양, 줄기 모양, 꽃과 열매의\n",
      "유무 등을 관찰하여 나무를 분류할 수 있습니다. 또한, 식물학적 분류학의 관점에서는 꽃의 형태와 씨앗의\n",
      "특징을 통해 나무를 분류할 수 있습니다. 이러한 방법들을 통해 나무의 분류를 조사할 수 있습니다.]\n",
      "\n",
      "UUID = [c63b9e3a-716f-423a-9c9b-0bcaa1b9f35d]\n",
      "    Score = 0.7371218204498291, Fresh score = 0.3606286644935608\n",
      "    Content = 한 학생이 다양한 종류의 나무를 조사하고 있습니다. 이 학생은 성장 속도, 온도 범위, 크기가 비슷한 두\n",
      "나무를 발견했습니다. 그러나 이 두 나무의 잎과 꽃은 서로 다릅니다. 이러한 특징을 고려하면, 이 나무들은\n",
      "대체로 같은 속에 속해 있을 것으로 추측됩니다. 같은 속에 속한 나무들은 종류별로 유사한 특징을 가지고\n",
      "있으며, 이는 생물 분류학에서 중요한 기준 중 하나입니다. 따라서 이 학생의 조사 결과는 나무의 분류와\n",
      "관련된 중요한 정보를 제공할 수 있습니다. 이러한 조사는 나무의 성장과 생태에 대한 이해를 높이는 데 도움이\n",
      "될 것입니다.\n",
      "\n",
      "UUID = [4f11bc9b-1b9c-47f1-8600-bcdf78db5b92]\n",
      "    Score = 1.106360673904419, Fresh score = 0.07881946116685867\n",
      "    Content = 메인주의 발삼전나무는 바늘잎 길이가 비슷합니다. 이는 씨앗 내부의 유전 정보 때문입니다. 발삼전나무의 씨앗은\n",
      "유전 정보를 가지고 있으며, 이 정보는 바늘잎의 길이에 영향을 미칩니다. 따라서, 발삼전나무의 씨앗이 비슷한\n",
      "유전 정보를 가지고 있기 때문에 바늘잎의 길이도 비슷하게 나타납니다. 이러한 특성은 발삼전나무를 식별하는데\n",
      "도움을 줄 수 있습니다.\n",
      "\n",
      "UUID = [9712bdf6-9419-4953-a8f1-8a4015dee986]\n",
      "    Score = 1.134496808052063, Fresh score = 0.22303223609924316\n",
      "    Content = 생물학에서 일부 생물체의 분류 방법이 변경되었습니다. 이제 생물체를 재분류하는 데에는 구조보다는 분자\n",
      "수준에서의 조사가 사용됩니다. 이 새로운 방법은 생물체의 유전자나 단백질의 구조와 기능을 분석하여 그들의\n",
      "진화적 관계를 밝히는 데에 큰 도움이 됩니다. 이러한 분자 수준의 조사는 생물체의 유전적 유사성을 파악하고,\n",
      "서로 다른 종 간의 진화적 연결고리를 찾는 데에 중요한 역할을 합니다. 이 방법은 생물체의 분류를 더욱\n",
      "정확하고 명확하게 만들어주며, 생물 다양성 연구에도 큰 기여를 하고 있습니다. 이제 구조보다는 분자\n",
      "수준에서의 조사가 생물체의 재분류에 사용되고 있으며, 이는 생물학의 발전에 새로운 지평을 열어주고 있습니다.\n",
      "\n"
     ]
    }
   ],
   "source": [
    "printDoc(78)"
   ]
  }
 ],
 "metadata": {
  "kernelspec": {
   "display_name": "base",
   "language": "python",
   "name": "python3"
  },
  "language_info": {
   "codemirror_mode": {
    "name": "ipython",
    "version": 3
   },
   "file_extension": ".py",
   "mimetype": "text/x-python",
   "name": "python",
   "nbconvert_exporter": "python",
   "pygments_lexer": "ipython3",
   "version": "3.10.13"
  }
 },
 "nbformat": 4,
 "nbformat_minor": 2
}
