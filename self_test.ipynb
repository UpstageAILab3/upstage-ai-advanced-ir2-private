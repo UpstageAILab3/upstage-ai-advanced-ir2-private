{
 "cells": [
  {
   "cell_type": "markdown",
   "metadata": {},
   "source": [
    "팀내 평가 코드"
   ]
  },
  {
   "cell_type": "code",
   "execution_count": 15,
   "metadata": {},
   "outputs": [],
   "source": [
    "ground_truth_file = '8333.csv'\n",
    "prediction_file =  'submission_014.csv'"
   ]
  },
  {
   "cell_type": "code",
   "execution_count": 16,
   "metadata": {},
   "outputs": [],
   "source": [
    "import json\n",
    "\n",
    "# 두 파일에서 topk 항목을 불러옴\n",
    "def load_jsonl(file_path):\n",
    "    with open(file_path) as f:\n",
    "        ret = [json.loads(line) for line in f]\n",
    "    return ret"
   ]
  },
  {
   "cell_type": "code",
   "execution_count": 17,
   "metadata": {},
   "outputs": [],
   "source": [
    "# 파일 로드\n",
    "ground_truth_list = load_jsonl(ground_truth_file)\n",
    "prediction_list = load_jsonl(prediction_file)"
   ]
  },
  {
   "cell_type": "code",
   "execution_count": 18,
   "metadata": {},
   "outputs": [],
   "source": [
    "# gt 의 형태를 변형\n",
    "gt = {}\n",
    "\n",
    "for each in ground_truth_list:\n",
    "    key = each['eval_id']\n",
    "    gt[key] = each['topk']"
   ]
  },
  {
   "cell_type": "code",
   "execution_count": 19,
   "metadata": {},
   "outputs": [],
   "source": [
    "# 대회 소개 페이지에 있는 평가 코드\n",
    "def calc_map(gt, pred):    \n",
    "    sum_average_precision = 0    \n",
    "    \n",
    "    for j in pred:        \n",
    "        if gt[j[\"eval_id\"]]:            \n",
    "            hit_count = 0            \n",
    "            sum_precision = 0            \n",
    "            \n",
    "            for i, docid in enumerate(j[\"topk\"][:3]):                \n",
    "                if docid in gt[j[\"eval_id\"]]:                    \n",
    "                    hit_count += 1                    \n",
    "                    sum_precision += hit_count / (i+1)    \n",
    "                    \n",
    "            average_precision = sum_precision / hit_count if hit_count > 0 else 0        \n",
    "        else:            \n",
    "            average_precision = 0 if j[\"topk\"] else 1  \n",
    "            \n",
    "        sum_average_precision += average_precision    \n",
    "        \n",
    "    return sum_average_precision/len(pred)"
   ]
  },
  {
   "cell_type": "code",
   "execution_count": 20,
   "metadata": {},
   "outputs": [
    {
     "data": {
      "text/plain": [
       "0.7897727272727275"
      ]
     },
     "execution_count": 20,
     "metadata": {},
     "output_type": "execute_result"
    }
   ],
   "source": [
    "calc_map(gt, prediction_list)"
   ]
  }
 ],
 "metadata": {
  "kernelspec": {
   "display_name": "Python 3",
   "language": "python",
   "name": "python3"
  },
  "language_info": {
   "codemirror_mode": {
    "name": "ipython",
    "version": 3
   },
   "file_extension": ".py",
   "mimetype": "text/x-python",
   "name": "python",
   "nbconvert_exporter": "python",
   "pygments_lexer": "ipython3",
   "version": "3.8.20"
  }
 },
 "nbformat": 4,
 "nbformat_minor": 2
}
