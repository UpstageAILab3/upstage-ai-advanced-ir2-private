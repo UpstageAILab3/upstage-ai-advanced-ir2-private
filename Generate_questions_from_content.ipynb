{
 "cells": [
  {
   "cell_type": "markdown",
   "metadata": {},
   "source": [
    "content 로부터 다양한 질문을 생성해서 json 파일로 저장."
   ]
  },
  {
   "cell_type": "code",
   "execution_count": null,
   "metadata": {},
   "outputs": [],
   "source": [
    "import os\n",
    "from dotenv import load_dotenv\n",
    "load_dotenv()"
   ]
  },
  {
   "cell_type": "code",
   "execution_count": 2,
   "metadata": {},
   "outputs": [],
   "source": [
    "from openai import OpenAI\n",
    "import os\n",
    "import json\n",
    "os.environ[\"OPENAI_API_KEY\"] = os.getenv('OPENAI_API_KEY')\n",
    "llm_model = \"gpt-4o-2024-08-06\"\n",
    "client = OpenAI()"
   ]
  },
  {
   "cell_type": "code",
   "execution_count": 3,
   "metadata": {},
   "outputs": [],
   "source": [
    "with open(\"../../data/documents.jsonl\") as f:\n",
    "    docs = [json.loads(line) for line in f]"
   ]
  },
  {
   "cell_type": "code",
   "execution_count": null,
   "metadata": {},
   "outputs": [],
   "source": [
    "docs[0]"
   ]
  },
  {
   "cell_type": "code",
   "execution_count": 5,
   "metadata": {},
   "outputs": [],
   "source": [
    "augment_instruct = \"\"\"\n",
    "## Role\n",
    "가상 데이터 생성기\n",
    "\n",
    "## Instructions\n",
    "- 주어진 레퍼런스 정보를 보고 레퍼런스와 관련 있는 질문을 중복 없이 한국어로 최대 20개 생성해줘.\n",
    "- 아래 JSON 포맷으로 생성해줘.\n",
    "\n",
    "## Output format\n",
    "{\"questions\": [$question1, $question2, $question3, $question4, $question5, $question6, $question7, $question8, $question9, $question10, $question11, $question12, $question13, $question14, $question15, $question16, $question17, $question18, $question19, $question20]}\n",
    "\"\"\""
   ]
  },
  {
   "cell_type": "code",
   "execution_count": 6,
   "metadata": {},
   "outputs": [],
   "source": [
    "def autogen(messages, llm_model):\n",
    "  result = client.chat.completions.create(\n",
    "            model=llm_model,\n",
    "            messages=messages,\n",
    "            temperature=0.8,\n",
    "            response_format={\"type\": \"json_object\"},\n",
    "            timeout=10,\n",
    "            seed=1\n",
    "    )\n",
    "  return result"
   ]
  },
  {
   "cell_type": "code",
   "execution_count": null,
   "metadata": {},
   "outputs": [],
   "source": [
    "import time\n",
    "\n",
    "docOffset = 3086\n",
    "while docOffset < len(docs):\n",
    "    # if docOffset >= 2: break\n",
    "    \n",
    "    doc = docs[docOffset]\n",
    "    \n",
    "    messages = [\n",
    "        {\"role\": \"system\", \"content\": augment_instruct},\n",
    "        {\"role\": \"user\", \"content\": doc['content']}\n",
    "    ]\n",
    "\n",
    "    try:\n",
    "        result = autogen(messages, llm_model)\n",
    "    except Exception as e:\n",
    "        print(f\"Exception ocurred. {e}\")\n",
    "        print(f\"Let's retry!\")\n",
    "        time.sleep(5)\n",
    "        continue\n",
    "    \n",
    "    questions = json.loads(result.choices[0].message.content)['questions']\n",
    "    print(f'docOffset: {docOffset}, Gen counts: {len(questions)},  Gen questions: {questions}')\n",
    "    \n",
    "    if len(questions) <= 0:\n",
    "        assert False, \"hmm...\"\n",
    "    \n",
    "    dic_list = [\n",
    "        {\n",
    "            \"question\": question,\n",
    "            \"docOffset\": docOffset,\n",
    "        }\n",
    "        for question in questions\n",
    "    ]\n",
    "    \n",
    "    with open('questions_from_contents_20.jsonl', 'a') as f:\n",
    "        for item in dic_list:\n",
    "            json_line = json.dumps(item, ensure_ascii=False)  # JSON 객체를 문자열로 변환\n",
    "            f.write(json_line + '\\n')     # 각 객체를 한 줄에 작성\n",
    "    \n",
    "    docOffset += 1"
   ]
  }
 ],
 "metadata": {
  "kernelspec": {
   "display_name": "Python 3",
   "language": "python",
   "name": "python3"
  },
  "language_info": {
   "codemirror_mode": {
    "name": "ipython",
    "version": 3
   },
   "file_extension": ".py",
   "mimetype": "text/x-python",
   "name": "python",
   "nbconvert_exporter": "python",
   "pygments_lexer": "ipython3",
   "version": "3.8.20"
  }
 },
 "nbformat": 4,
 "nbformat_minor": 2
}
