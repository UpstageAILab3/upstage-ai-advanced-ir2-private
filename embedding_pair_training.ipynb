{
 "cells": [
  {
   "cell_type": "code",
   "execution_count": 2,
   "metadata": {},
   "outputs": [],
   "source": [
    "import torch\n",
    "import random\n",
    "import pandas as pd\n",
    "import json\n",
    "import numpy as np\n",
    "import torch.backends.cudnn as cudnn"
   ]
  },
  {
   "cell_type": "code",
   "execution_count": 3,
   "metadata": {},
   "outputs": [
    {
     "name": "stdout",
     "output_type": "stream",
     "text": [
      "device: cuda:0\n"
     ]
    }
   ],
   "source": [
    "seed = 42\n",
    "torch.manual_seed(seed)\n",
    "torch.cuda.manual_seed(seed)\n",
    "torch.cuda.manual_seed_all(seed)\n",
    "np.random.seed(seed)\n",
    "cudnn.benchmark = False\n",
    "cudnn.deterministic = True\n",
    "random.seed(seed)\n",
    "# seed 결과가달라짐 3~4%\n",
    "\n",
    "device = \"cuda:0\" if torch.cuda.is_available() else \"cpu\"\n",
    "print('device:', device)"
   ]
  },
  {
   "cell_type": "code",
   "execution_count": 4,
   "metadata": {},
   "outputs": [
    {
     "name": "stdout",
     "output_type": "stream",
     "text": [
      "----------\n",
      "Data Loading Start!!\n",
      "----------\n",
      "origin_data: (42720, 5)\n"
     ]
    }
   ],
   "source": [
    "print('-'*10)\n",
    "print('Data Loading Start!!')\n",
    "print('-'*10)\n",
    "\n",
    "## dataset class\n",
    "path = \"/data/ephemeral/home/data/aug_data_x10.jsonl\"\n",
    "\n",
    "with open(path) as f:\n",
    "    data = [json.loads(line) for line in f]\n",
    "data = pd.DataFrame(data)\n",
    "print('origin_data:', data.shape)\n"
   ]
  },
  {
   "cell_type": "code",
   "execution_count": 5,
   "metadata": {},
   "outputs": [
    {
     "data": {
      "text/plain": [
       "Index(['docid', 'question', 'content', 'src', 'new_domains'], dtype='object')"
      ]
     },
     "execution_count": 5,
     "metadata": {},
     "output_type": "execute_result"
    }
   ],
   "source": [
    "data.columns"
   ]
  },
  {
   "cell_type": "code",
   "execution_count": 6,
   "metadata": {},
   "outputs": [
    {
     "data": {
      "text/plain": [
       "array(['human_aging', 'medical_genetics', 'high_school_biology',\n",
       "       'college_chemistry', 'college_physics', 'conceptual_physics',\n",
       "       'global_facts', 'None', 'unknown', 'computer_security',\n",
       "       'high_school_chemistry', 'anatomy', 'nutrition', 'human_sexuality',\n",
       "       'astronomy', 'high_school_computer_science', 'virology',\n",
       "       'electrical_engineering', 'college_medicine', 'college_biology',\n",
       "       'college_computer_science', 'human_aging, nutrition',\n",
       "       'high_school_physics', 'geology', 'art', 'college_science',\n",
       "       'safety', 'civil_engineering', 'new_technology_in_industry',\n",
       "       'engineering', 'data_visualization',\n",
       "       'human_sexuality, medical_genetics', 'environmental_science',\n",
       "       'music_performance', 'logistics', 'None, medical_genetics',\n",
       "       'astronomy, college_physics', 'construction_tools',\n",
       "       'astronomy, college_biology', 'astronomy, conceptual_physics',\n",
       "       'anatomy, college_chemistry', 'safety_education',\n",
       "       'investigation_records'], dtype=object)"
      ]
     },
     "execution_count": 6,
     "metadata": {},
     "output_type": "execute_result"
    }
   ],
   "source": [
    "data['new_domains'].unique()"
   ]
  },
  {
   "cell_type": "code",
   "execution_count": 5,
   "metadata": {},
   "outputs": [],
   "source": [
    "data2 = data[~data['new_domains'].isin(['None','unknown'])]"
   ]
  },
  {
   "cell_type": "code",
   "execution_count": 6,
   "metadata": {},
   "outputs": [
    {
     "data": {
      "text/plain": [
       "(41580, 5)"
      ]
     },
     "execution_count": 6,
     "metadata": {},
     "output_type": "execute_result"
    }
   ],
   "source": [
    "data2.shape"
   ]
  },
  {
   "cell_type": "code",
   "execution_count": 18,
   "metadata": {},
   "outputs": [
    {
     "data": {
      "text/plain": [
       "array(['human_aging', 'medical_genetics', 'high_school_biology',\n",
       "       'college_chemistry', 'college_physics', 'conceptual_physics',\n",
       "       'global_facts', 'computer_security', 'high_school_chemistry',\n",
       "       'anatomy', 'nutrition', 'human_sexuality', 'astronomy',\n",
       "       'high_school_computer_science', 'virology',\n",
       "       'electrical_engineering', 'college_medicine', 'college_biology',\n",
       "       'college_computer_science', 'human_aging, nutrition',\n",
       "       'high_school_physics', 'geology', 'art', 'college_science',\n",
       "       'safety', 'civil_engineering', 'new_technology_in_industry',\n",
       "       'engineering', 'data_visualization',\n",
       "       'human_sexuality, medical_genetics', 'environmental_science',\n",
       "       'music_performance', 'logistics', 'None, medical_genetics',\n",
       "       'astronomy, college_physics', 'construction_tools',\n",
       "       'astronomy, college_biology', 'astronomy, conceptual_physics',\n",
       "       'anatomy, college_chemistry', 'safety_education',\n",
       "       'investigation_records'], dtype=object)"
      ]
     },
     "execution_count": 18,
     "metadata": {},
     "output_type": "execute_result"
    }
   ],
   "source": [
    "data2['new_domains'].unique()"
   ]
  },
  {
   "cell_type": "code",
   "execution_count": 127,
   "metadata": {},
   "outputs": [
    {
     "data": {
      "text/html": [
       "<div>\n",
       "<style scoped>\n",
       "    .dataframe tbody tr th:only-of-type {\n",
       "        vertical-align: middle;\n",
       "    }\n",
       "\n",
       "    .dataframe tbody tr th {\n",
       "        vertical-align: top;\n",
       "    }\n",
       "\n",
       "    .dataframe thead th {\n",
       "        text-align: right;\n",
       "    }\n",
       "</style>\n",
       "<table border=\"1\" class=\"dataframe\">\n",
       "  <thead>\n",
       "    <tr style=\"text-align: right;\">\n",
       "      <th></th>\n",
       "      <th>docid</th>\n",
       "      <th>question</th>\n",
       "      <th>content</th>\n",
       "      <th>src</th>\n",
       "      <th>new_domains</th>\n",
       "    </tr>\n",
       "  </thead>\n",
       "  <tbody>\n",
       "    <tr>\n",
       "      <th>33360</th>\n",
       "      <td>c73343e8-395d-40d0-854a-529d11c4e194</td>\n",
       "      <td>천문학자들은 어떤 대상을 연구하나요?</td>\n",
       "      <td>천문학자와 생물학자는 과학의 다른 영역을 연구합니다. 천문학자들은 하늘에 있는 매우 멀리 떨어진 천체를 관찰하고, 생물학자들은 극도로 작은 객체를 연구합니다. 이 두 분야의 연구자들은 다른 대상을 다루지만, 그들의 연구 방법에는 공통점이 있습니다. 천문학자와 생물학자들은 모두 광학 장치를 사용하여 발견을 합니다. 광학 장치는 망원경, 현미경 등 다양한 형태로 사용되며, 이를 통해 더 나은 관찰과 연구가 가능해집니다. 따라서 천문학자와 생물학자들은 공통적으로 광학 장치를 활용하여 자신들의 분야에서 발견을 이루고 있습니다.</td>\n",
       "      <td>ko_ai2_arc__ARC_Challenge__train</td>\n",
       "      <td>astronomy, college_biology</td>\n",
       "    </tr>\n",
       "    <tr>\n",
       "      <th>33361</th>\n",
       "      <td>c73343e8-395d-40d0-854a-529d11c4e194</td>\n",
       "      <td>생물학자들은 어떤 객체를 연구하나요?</td>\n",
       "      <td>천문학자와 생물학자는 과학의 다른 영역을 연구합니다. 천문학자들은 하늘에 있는 매우 멀리 떨어진 천체를 관찰하고, 생물학자들은 극도로 작은 객체를 연구합니다. 이 두 분야의 연구자들은 다른 대상을 다루지만, 그들의 연구 방법에는 공통점이 있습니다. 천문학자와 생물학자들은 모두 광학 장치를 사용하여 발견을 합니다. 광학 장치는 망원경, 현미경 등 다양한 형태로 사용되며, 이를 통해 더 나은 관찰과 연구가 가능해집니다. 따라서 천문학자와 생물학자들은 공통적으로 광학 장치를 활용하여 자신들의 분야에서 발견을 이루고 있습니다.</td>\n",
       "      <td>ko_ai2_arc__ARC_Challenge__train</td>\n",
       "      <td>astronomy, college_biology</td>\n",
       "    </tr>\n",
       "    <tr>\n",
       "      <th>33362</th>\n",
       "      <td>c73343e8-395d-40d0-854a-529d11c4e194</td>\n",
       "      <td>천문학자와 생물학자의 연구 방법에는 어떤 공통점이 있나요?</td>\n",
       "      <td>천문학자와 생물학자는 과학의 다른 영역을 연구합니다. 천문학자들은 하늘에 있는 매우 멀리 떨어진 천체를 관찰하고, 생물학자들은 극도로 작은 객체를 연구합니다. 이 두 분야의 연구자들은 다른 대상을 다루지만, 그들의 연구 방법에는 공통점이 있습니다. 천문학자와 생물학자들은 모두 광학 장치를 사용하여 발견을 합니다. 광학 장치는 망원경, 현미경 등 다양한 형태로 사용되며, 이를 통해 더 나은 관찰과 연구가 가능해집니다. 따라서 천문학자와 생물학자들은 공통적으로 광학 장치를 활용하여 자신들의 분야에서 발견을 이루고 있습니다.</td>\n",
       "      <td>ko_ai2_arc__ARC_Challenge__train</td>\n",
       "      <td>astronomy, college_biology</td>\n",
       "    </tr>\n",
       "    <tr>\n",
       "      <th>33363</th>\n",
       "      <td>c73343e8-395d-40d0-854a-529d11c4e194</td>\n",
       "      <td>광학 장치의 예시로 어떤 것들이 있나요?</td>\n",
       "      <td>천문학자와 생물학자는 과학의 다른 영역을 연구합니다. 천문학자들은 하늘에 있는 매우 멀리 떨어진 천체를 관찰하고, 생물학자들은 극도로 작은 객체를 연구합니다. 이 두 분야의 연구자들은 다른 대상을 다루지만, 그들의 연구 방법에는 공통점이 있습니다. 천문학자와 생물학자들은 모두 광학 장치를 사용하여 발견을 합니다. 광학 장치는 망원경, 현미경 등 다양한 형태로 사용되며, 이를 통해 더 나은 관찰과 연구가 가능해집니다. 따라서 천문학자와 생물학자들은 공통적으로 광학 장치를 활용하여 자신들의 분야에서 발견을 이루고 있습니다.</td>\n",
       "      <td>ko_ai2_arc__ARC_Challenge__train</td>\n",
       "      <td>astronomy, college_biology</td>\n",
       "    </tr>\n",
       "    <tr>\n",
       "      <th>33364</th>\n",
       "      <td>c73343e8-395d-40d0-854a-529d11c4e194</td>\n",
       "      <td>천문학자들이 사용하는 장치는 무엇인가요?</td>\n",
       "      <td>천문학자와 생물학자는 과학의 다른 영역을 연구합니다. 천문학자들은 하늘에 있는 매우 멀리 떨어진 천체를 관찰하고, 생물학자들은 극도로 작은 객체를 연구합니다. 이 두 분야의 연구자들은 다른 대상을 다루지만, 그들의 연구 방법에는 공통점이 있습니다. 천문학자와 생물학자들은 모두 광학 장치를 사용하여 발견을 합니다. 광학 장치는 망원경, 현미경 등 다양한 형태로 사용되며, 이를 통해 더 나은 관찰과 연구가 가능해집니다. 따라서 천문학자와 생물학자들은 공통적으로 광학 장치를 활용하여 자신들의 분야에서 발견을 이루고 있습니다.</td>\n",
       "      <td>ko_ai2_arc__ARC_Challenge__train</td>\n",
       "      <td>astronomy, college_biology</td>\n",
       "    </tr>\n",
       "    <tr>\n",
       "      <th>33365</th>\n",
       "      <td>c73343e8-395d-40d0-854a-529d11c4e194</td>\n",
       "      <td>생물학자들이 사용하는 장치는 무엇인가요?</td>\n",
       "      <td>천문학자와 생물학자는 과학의 다른 영역을 연구합니다. 천문학자들은 하늘에 있는 매우 멀리 떨어진 천체를 관찰하고, 생물학자들은 극도로 작은 객체를 연구합니다. 이 두 분야의 연구자들은 다른 대상을 다루지만, 그들의 연구 방법에는 공통점이 있습니다. 천문학자와 생물학자들은 모두 광학 장치를 사용하여 발견을 합니다. 광학 장치는 망원경, 현미경 등 다양한 형태로 사용되며, 이를 통해 더 나은 관찰과 연구가 가능해집니다. 따라서 천문학자와 생물학자들은 공통적으로 광학 장치를 활용하여 자신들의 분야에서 발견을 이루고 있습니다.</td>\n",
       "      <td>ko_ai2_arc__ARC_Challenge__train</td>\n",
       "      <td>astronomy, college_biology</td>\n",
       "    </tr>\n",
       "    <tr>\n",
       "      <th>33366</th>\n",
       "      <td>c73343e8-395d-40d0-854a-529d11c4e194</td>\n",
       "      <td>광학 장치를 사용하면 어떤 이점이 있나요?</td>\n",
       "      <td>천문학자와 생물학자는 과학의 다른 영역을 연구합니다. 천문학자들은 하늘에 있는 매우 멀리 떨어진 천체를 관찰하고, 생물학자들은 극도로 작은 객체를 연구합니다. 이 두 분야의 연구자들은 다른 대상을 다루지만, 그들의 연구 방법에는 공통점이 있습니다. 천문학자와 생물학자들은 모두 광학 장치를 사용하여 발견을 합니다. 광학 장치는 망원경, 현미경 등 다양한 형태로 사용되며, 이를 통해 더 나은 관찰과 연구가 가능해집니다. 따라서 천문학자와 생물학자들은 공통적으로 광학 장치를 활용하여 자신들의 분야에서 발견을 이루고 있습니다.</td>\n",
       "      <td>ko_ai2_arc__ARC_Challenge__train</td>\n",
       "      <td>astronomy, college_biology</td>\n",
       "    </tr>\n",
       "    <tr>\n",
       "      <th>33367</th>\n",
       "      <td>c73343e8-395d-40d0-854a-529d11c4e194</td>\n",
       "      <td>천문학자와 생물학자는 어떤 분야의 연구자들인가요?</td>\n",
       "      <td>천문학자와 생물학자는 과학의 다른 영역을 연구합니다. 천문학자들은 하늘에 있는 매우 멀리 떨어진 천체를 관찰하고, 생물학자들은 극도로 작은 객체를 연구합니다. 이 두 분야의 연구자들은 다른 대상을 다루지만, 그들의 연구 방법에는 공통점이 있습니다. 천문학자와 생물학자들은 모두 광학 장치를 사용하여 발견을 합니다. 광학 장치는 망원경, 현미경 등 다양한 형태로 사용되며, 이를 통해 더 나은 관찰과 연구가 가능해집니다. 따라서 천문학자와 생물학자들은 공통적으로 광학 장치를 활용하여 자신들의 분야에서 발견을 이루고 있습니다.</td>\n",
       "      <td>ko_ai2_arc__ARC_Challenge__train</td>\n",
       "      <td>astronomy, college_biology</td>\n",
       "    </tr>\n",
       "    <tr>\n",
       "      <th>33368</th>\n",
       "      <td>c73343e8-395d-40d0-854a-529d11c4e194</td>\n",
       "      <td>천문학자와 생물학자가 연구하는 대상은 어떻게 다르나요?</td>\n",
       "      <td>천문학자와 생물학자는 과학의 다른 영역을 연구합니다. 천문학자들은 하늘에 있는 매우 멀리 떨어진 천체를 관찰하고, 생물학자들은 극도로 작은 객체를 연구합니다. 이 두 분야의 연구자들은 다른 대상을 다루지만, 그들의 연구 방법에는 공통점이 있습니다. 천문학자와 생물학자들은 모두 광학 장치를 사용하여 발견을 합니다. 광학 장치는 망원경, 현미경 등 다양한 형태로 사용되며, 이를 통해 더 나은 관찰과 연구가 가능해집니다. 따라서 천문학자와 생물학자들은 공통적으로 광학 장치를 활용하여 자신들의 분야에서 발견을 이루고 있습니다.</td>\n",
       "      <td>ko_ai2_arc__ARC_Challenge__train</td>\n",
       "      <td>astronomy, college_biology</td>\n",
       "    </tr>\n",
       "    <tr>\n",
       "      <th>33369</th>\n",
       "      <td>c73343e8-395d-40d0-854a-529d11c4e194</td>\n",
       "      <td>광학 장치가 발견에 미치는 영향은 무엇인가요?</td>\n",
       "      <td>천문학자와 생물학자는 과학의 다른 영역을 연구합니다. 천문학자들은 하늘에 있는 매우 멀리 떨어진 천체를 관찰하고, 생물학자들은 극도로 작은 객체를 연구합니다. 이 두 분야의 연구자들은 다른 대상을 다루지만, 그들의 연구 방법에는 공통점이 있습니다. 천문학자와 생물학자들은 모두 광학 장치를 사용하여 발견을 합니다. 광학 장치는 망원경, 현미경 등 다양한 형태로 사용되며, 이를 통해 더 나은 관찰과 연구가 가능해집니다. 따라서 천문학자와 생물학자들은 공통적으로 광학 장치를 활용하여 자신들의 분야에서 발견을 이루고 있습니다.</td>\n",
       "      <td>ko_ai2_arc__ARC_Challenge__train</td>\n",
       "      <td>astronomy, college_biology</td>\n",
       "    </tr>\n",
       "  </tbody>\n",
       "</table>\n",
       "</div>"
      ],
      "text/plain": [
       "                                      docid                          question  \\\n",
       "33360  c73343e8-395d-40d0-854a-529d11c4e194              천문학자들은 어떤 대상을 연구하나요?   \n",
       "33361  c73343e8-395d-40d0-854a-529d11c4e194              생물학자들은 어떤 객체를 연구하나요?   \n",
       "33362  c73343e8-395d-40d0-854a-529d11c4e194  천문학자와 생물학자의 연구 방법에는 어떤 공통점이 있나요?   \n",
       "33363  c73343e8-395d-40d0-854a-529d11c4e194            광학 장치의 예시로 어떤 것들이 있나요?   \n",
       "33364  c73343e8-395d-40d0-854a-529d11c4e194            천문학자들이 사용하는 장치는 무엇인가요?   \n",
       "33365  c73343e8-395d-40d0-854a-529d11c4e194            생물학자들이 사용하는 장치는 무엇인가요?   \n",
       "33366  c73343e8-395d-40d0-854a-529d11c4e194           광학 장치를 사용하면 어떤 이점이 있나요?   \n",
       "33367  c73343e8-395d-40d0-854a-529d11c4e194       천문학자와 생물학자는 어떤 분야의 연구자들인가요?   \n",
       "33368  c73343e8-395d-40d0-854a-529d11c4e194    천문학자와 생물학자가 연구하는 대상은 어떻게 다르나요?   \n",
       "33369  c73343e8-395d-40d0-854a-529d11c4e194         광학 장치가 발견에 미치는 영향은 무엇인가요?   \n",
       "\n",
       "                                                                                                                                                                                                                                                                                                     content  \\\n",
       "33360  천문학자와 생물학자는 과학의 다른 영역을 연구합니다. 천문학자들은 하늘에 있는 매우 멀리 떨어진 천체를 관찰하고, 생물학자들은 극도로 작은 객체를 연구합니다. 이 두 분야의 연구자들은 다른 대상을 다루지만, 그들의 연구 방법에는 공통점이 있습니다. 천문학자와 생물학자들은 모두 광학 장치를 사용하여 발견을 합니다. 광학 장치는 망원경, 현미경 등 다양한 형태로 사용되며, 이를 통해 더 나은 관찰과 연구가 가능해집니다. 따라서 천문학자와 생물학자들은 공통적으로 광학 장치를 활용하여 자신들의 분야에서 발견을 이루고 있습니다.   \n",
       "33361  천문학자와 생물학자는 과학의 다른 영역을 연구합니다. 천문학자들은 하늘에 있는 매우 멀리 떨어진 천체를 관찰하고, 생물학자들은 극도로 작은 객체를 연구합니다. 이 두 분야의 연구자들은 다른 대상을 다루지만, 그들의 연구 방법에는 공통점이 있습니다. 천문학자와 생물학자들은 모두 광학 장치를 사용하여 발견을 합니다. 광학 장치는 망원경, 현미경 등 다양한 형태로 사용되며, 이를 통해 더 나은 관찰과 연구가 가능해집니다. 따라서 천문학자와 생물학자들은 공통적으로 광학 장치를 활용하여 자신들의 분야에서 발견을 이루고 있습니다.   \n",
       "33362  천문학자와 생물학자는 과학의 다른 영역을 연구합니다. 천문학자들은 하늘에 있는 매우 멀리 떨어진 천체를 관찰하고, 생물학자들은 극도로 작은 객체를 연구합니다. 이 두 분야의 연구자들은 다른 대상을 다루지만, 그들의 연구 방법에는 공통점이 있습니다. 천문학자와 생물학자들은 모두 광학 장치를 사용하여 발견을 합니다. 광학 장치는 망원경, 현미경 등 다양한 형태로 사용되며, 이를 통해 더 나은 관찰과 연구가 가능해집니다. 따라서 천문학자와 생물학자들은 공통적으로 광학 장치를 활용하여 자신들의 분야에서 발견을 이루고 있습니다.   \n",
       "33363  천문학자와 생물학자는 과학의 다른 영역을 연구합니다. 천문학자들은 하늘에 있는 매우 멀리 떨어진 천체를 관찰하고, 생물학자들은 극도로 작은 객체를 연구합니다. 이 두 분야의 연구자들은 다른 대상을 다루지만, 그들의 연구 방법에는 공통점이 있습니다. 천문학자와 생물학자들은 모두 광학 장치를 사용하여 발견을 합니다. 광학 장치는 망원경, 현미경 등 다양한 형태로 사용되며, 이를 통해 더 나은 관찰과 연구가 가능해집니다. 따라서 천문학자와 생물학자들은 공통적으로 광학 장치를 활용하여 자신들의 분야에서 발견을 이루고 있습니다.   \n",
       "33364  천문학자와 생물학자는 과학의 다른 영역을 연구합니다. 천문학자들은 하늘에 있는 매우 멀리 떨어진 천체를 관찰하고, 생물학자들은 극도로 작은 객체를 연구합니다. 이 두 분야의 연구자들은 다른 대상을 다루지만, 그들의 연구 방법에는 공통점이 있습니다. 천문학자와 생물학자들은 모두 광학 장치를 사용하여 발견을 합니다. 광학 장치는 망원경, 현미경 등 다양한 형태로 사용되며, 이를 통해 더 나은 관찰과 연구가 가능해집니다. 따라서 천문학자와 생물학자들은 공통적으로 광학 장치를 활용하여 자신들의 분야에서 발견을 이루고 있습니다.   \n",
       "33365  천문학자와 생물학자는 과학의 다른 영역을 연구합니다. 천문학자들은 하늘에 있는 매우 멀리 떨어진 천체를 관찰하고, 생물학자들은 극도로 작은 객체를 연구합니다. 이 두 분야의 연구자들은 다른 대상을 다루지만, 그들의 연구 방법에는 공통점이 있습니다. 천문학자와 생물학자들은 모두 광학 장치를 사용하여 발견을 합니다. 광학 장치는 망원경, 현미경 등 다양한 형태로 사용되며, 이를 통해 더 나은 관찰과 연구가 가능해집니다. 따라서 천문학자와 생물학자들은 공통적으로 광학 장치를 활용하여 자신들의 분야에서 발견을 이루고 있습니다.   \n",
       "33366  천문학자와 생물학자는 과학의 다른 영역을 연구합니다. 천문학자들은 하늘에 있는 매우 멀리 떨어진 천체를 관찰하고, 생물학자들은 극도로 작은 객체를 연구합니다. 이 두 분야의 연구자들은 다른 대상을 다루지만, 그들의 연구 방법에는 공통점이 있습니다. 천문학자와 생물학자들은 모두 광학 장치를 사용하여 발견을 합니다. 광학 장치는 망원경, 현미경 등 다양한 형태로 사용되며, 이를 통해 더 나은 관찰과 연구가 가능해집니다. 따라서 천문학자와 생물학자들은 공통적으로 광학 장치를 활용하여 자신들의 분야에서 발견을 이루고 있습니다.   \n",
       "33367  천문학자와 생물학자는 과학의 다른 영역을 연구합니다. 천문학자들은 하늘에 있는 매우 멀리 떨어진 천체를 관찰하고, 생물학자들은 극도로 작은 객체를 연구합니다. 이 두 분야의 연구자들은 다른 대상을 다루지만, 그들의 연구 방법에는 공통점이 있습니다. 천문학자와 생물학자들은 모두 광학 장치를 사용하여 발견을 합니다. 광학 장치는 망원경, 현미경 등 다양한 형태로 사용되며, 이를 통해 더 나은 관찰과 연구가 가능해집니다. 따라서 천문학자와 생물학자들은 공통적으로 광학 장치를 활용하여 자신들의 분야에서 발견을 이루고 있습니다.   \n",
       "33368  천문학자와 생물학자는 과학의 다른 영역을 연구합니다. 천문학자들은 하늘에 있는 매우 멀리 떨어진 천체를 관찰하고, 생물학자들은 극도로 작은 객체를 연구합니다. 이 두 분야의 연구자들은 다른 대상을 다루지만, 그들의 연구 방법에는 공통점이 있습니다. 천문학자와 생물학자들은 모두 광학 장치를 사용하여 발견을 합니다. 광학 장치는 망원경, 현미경 등 다양한 형태로 사용되며, 이를 통해 더 나은 관찰과 연구가 가능해집니다. 따라서 천문학자와 생물학자들은 공통적으로 광학 장치를 활용하여 자신들의 분야에서 발견을 이루고 있습니다.   \n",
       "33369  천문학자와 생물학자는 과학의 다른 영역을 연구합니다. 천문학자들은 하늘에 있는 매우 멀리 떨어진 천체를 관찰하고, 생물학자들은 극도로 작은 객체를 연구합니다. 이 두 분야의 연구자들은 다른 대상을 다루지만, 그들의 연구 방법에는 공통점이 있습니다. 천문학자와 생물학자들은 모두 광학 장치를 사용하여 발견을 합니다. 광학 장치는 망원경, 현미경 등 다양한 형태로 사용되며, 이를 통해 더 나은 관찰과 연구가 가능해집니다. 따라서 천문학자와 생물학자들은 공통적으로 광학 장치를 활용하여 자신들의 분야에서 발견을 이루고 있습니다.   \n",
       "\n",
       "                                    src                 new_domains  \n",
       "33360  ko_ai2_arc__ARC_Challenge__train  astronomy, college_biology  \n",
       "33361  ko_ai2_arc__ARC_Challenge__train  astronomy, college_biology  \n",
       "33362  ko_ai2_arc__ARC_Challenge__train  astronomy, college_biology  \n",
       "33363  ko_ai2_arc__ARC_Challenge__train  astronomy, college_biology  \n",
       "33364  ko_ai2_arc__ARC_Challenge__train  astronomy, college_biology  \n",
       "33365  ko_ai2_arc__ARC_Challenge__train  astronomy, college_biology  \n",
       "33366  ko_ai2_arc__ARC_Challenge__train  astronomy, college_biology  \n",
       "33367  ko_ai2_arc__ARC_Challenge__train  astronomy, college_biology  \n",
       "33368  ko_ai2_arc__ARC_Challenge__train  astronomy, college_biology  \n",
       "33369  ko_ai2_arc__ARC_Challenge__train  astronomy, college_biology  "
      ]
     },
     "execution_count": 127,
     "metadata": {},
     "output_type": "execute_result"
    }
   ],
   "source": [
    "data2[data2['new_domains']=='astronomy, college_biology']"
   ]
  },
  {
   "cell_type": "code",
   "execution_count": 7,
   "metadata": {},
   "outputs": [],
   "source": [
    "data2_expanded = data2.copy()\n",
    "data2_expanded['new_domains'] = data2_expanded['new_domains'].str.split(', ')\n",
    "data2_expanded = data2_expanded.explode('new_domains').reset_index(drop=True)\n"
   ]
  },
  {
   "cell_type": "code",
   "execution_count": 20,
   "metadata": {},
   "outputs": [
    {
     "data": {
      "text/html": [
       "<div>\n",
       "<style scoped>\n",
       "    .dataframe tbody tr th:only-of-type {\n",
       "        vertical-align: middle;\n",
       "    }\n",
       "\n",
       "    .dataframe tbody tr th {\n",
       "        vertical-align: top;\n",
       "    }\n",
       "\n",
       "    .dataframe thead th {\n",
       "        text-align: right;\n",
       "    }\n",
       "</style>\n",
       "<table border=\"1\" class=\"dataframe\">\n",
       "  <thead>\n",
       "    <tr style=\"text-align: right;\">\n",
       "      <th></th>\n",
       "      <th>docid</th>\n",
       "      <th>question</th>\n",
       "      <th>content</th>\n",
       "      <th>src</th>\n",
       "      <th>new_domains</th>\n",
       "    </tr>\n",
       "  </thead>\n",
       "  <tbody>\n",
       "    <tr>\n",
       "      <th>32520</th>\n",
       "      <td>c73343e8-395d-40d0-854a-529d11c4e194</td>\n",
       "      <td>천문학자들은 어떤 대상을 연구하나요?</td>\n",
       "      <td>천문학자와 생물학자는 과학의 다른 영역을 연구합니다. 천문학자들은 하늘에 있는 매우...</td>\n",
       "      <td>ko_ai2_arc__ARC_Challenge__train</td>\n",
       "      <td>astronomy</td>\n",
       "    </tr>\n",
       "    <tr>\n",
       "      <th>32521</th>\n",
       "      <td>c73343e8-395d-40d0-854a-529d11c4e194</td>\n",
       "      <td>천문학자들은 어떤 대상을 연구하나요?</td>\n",
       "      <td>천문학자와 생물학자는 과학의 다른 영역을 연구합니다. 천문학자들은 하늘에 있는 매우...</td>\n",
       "      <td>ko_ai2_arc__ARC_Challenge__train</td>\n",
       "      <td>college_biology</td>\n",
       "    </tr>\n",
       "    <tr>\n",
       "      <th>32522</th>\n",
       "      <td>c73343e8-395d-40d0-854a-529d11c4e194</td>\n",
       "      <td>생물학자들은 어떤 객체를 연구하나요?</td>\n",
       "      <td>천문학자와 생물학자는 과학의 다른 영역을 연구합니다. 천문학자들은 하늘에 있는 매우...</td>\n",
       "      <td>ko_ai2_arc__ARC_Challenge__train</td>\n",
       "      <td>astronomy</td>\n",
       "    </tr>\n",
       "    <tr>\n",
       "      <th>32523</th>\n",
       "      <td>c73343e8-395d-40d0-854a-529d11c4e194</td>\n",
       "      <td>생물학자들은 어떤 객체를 연구하나요?</td>\n",
       "      <td>천문학자와 생물학자는 과학의 다른 영역을 연구합니다. 천문학자들은 하늘에 있는 매우...</td>\n",
       "      <td>ko_ai2_arc__ARC_Challenge__train</td>\n",
       "      <td>college_biology</td>\n",
       "    </tr>\n",
       "    <tr>\n",
       "      <th>32524</th>\n",
       "      <td>c73343e8-395d-40d0-854a-529d11c4e194</td>\n",
       "      <td>천문학자와 생물학자의 연구 방법에는 어떤 공통점이 있나요?</td>\n",
       "      <td>천문학자와 생물학자는 과학의 다른 영역을 연구합니다. 천문학자들은 하늘에 있는 매우...</td>\n",
       "      <td>ko_ai2_arc__ARC_Challenge__train</td>\n",
       "      <td>astronomy</td>\n",
       "    </tr>\n",
       "    <tr>\n",
       "      <th>32525</th>\n",
       "      <td>c73343e8-395d-40d0-854a-529d11c4e194</td>\n",
       "      <td>천문학자와 생물학자의 연구 방법에는 어떤 공통점이 있나요?</td>\n",
       "      <td>천문학자와 생물학자는 과학의 다른 영역을 연구합니다. 천문학자들은 하늘에 있는 매우...</td>\n",
       "      <td>ko_ai2_arc__ARC_Challenge__train</td>\n",
       "      <td>college_biology</td>\n",
       "    </tr>\n",
       "    <tr>\n",
       "      <th>32526</th>\n",
       "      <td>c73343e8-395d-40d0-854a-529d11c4e194</td>\n",
       "      <td>광학 장치의 예시로 어떤 것들이 있나요?</td>\n",
       "      <td>천문학자와 생물학자는 과학의 다른 영역을 연구합니다. 천문학자들은 하늘에 있는 매우...</td>\n",
       "      <td>ko_ai2_arc__ARC_Challenge__train</td>\n",
       "      <td>astronomy</td>\n",
       "    </tr>\n",
       "    <tr>\n",
       "      <th>32527</th>\n",
       "      <td>c73343e8-395d-40d0-854a-529d11c4e194</td>\n",
       "      <td>광학 장치의 예시로 어떤 것들이 있나요?</td>\n",
       "      <td>천문학자와 생물학자는 과학의 다른 영역을 연구합니다. 천문학자들은 하늘에 있는 매우...</td>\n",
       "      <td>ko_ai2_arc__ARC_Challenge__train</td>\n",
       "      <td>college_biology</td>\n",
       "    </tr>\n",
       "    <tr>\n",
       "      <th>32528</th>\n",
       "      <td>c73343e8-395d-40d0-854a-529d11c4e194</td>\n",
       "      <td>천문학자들이 사용하는 장치는 무엇인가요?</td>\n",
       "      <td>천문학자와 생물학자는 과학의 다른 영역을 연구합니다. 천문학자들은 하늘에 있는 매우...</td>\n",
       "      <td>ko_ai2_arc__ARC_Challenge__train</td>\n",
       "      <td>astronomy</td>\n",
       "    </tr>\n",
       "    <tr>\n",
       "      <th>32529</th>\n",
       "      <td>c73343e8-395d-40d0-854a-529d11c4e194</td>\n",
       "      <td>천문학자들이 사용하는 장치는 무엇인가요?</td>\n",
       "      <td>천문학자와 생물학자는 과학의 다른 영역을 연구합니다. 천문학자들은 하늘에 있는 매우...</td>\n",
       "      <td>ko_ai2_arc__ARC_Challenge__train</td>\n",
       "      <td>college_biology</td>\n",
       "    </tr>\n",
       "    <tr>\n",
       "      <th>32530</th>\n",
       "      <td>c73343e8-395d-40d0-854a-529d11c4e194</td>\n",
       "      <td>생물학자들이 사용하는 장치는 무엇인가요?</td>\n",
       "      <td>천문학자와 생물학자는 과학의 다른 영역을 연구합니다. 천문학자들은 하늘에 있는 매우...</td>\n",
       "      <td>ko_ai2_arc__ARC_Challenge__train</td>\n",
       "      <td>astronomy</td>\n",
       "    </tr>\n",
       "    <tr>\n",
       "      <th>32531</th>\n",
       "      <td>c73343e8-395d-40d0-854a-529d11c4e194</td>\n",
       "      <td>생물학자들이 사용하는 장치는 무엇인가요?</td>\n",
       "      <td>천문학자와 생물학자는 과학의 다른 영역을 연구합니다. 천문학자들은 하늘에 있는 매우...</td>\n",
       "      <td>ko_ai2_arc__ARC_Challenge__train</td>\n",
       "      <td>college_biology</td>\n",
       "    </tr>\n",
       "    <tr>\n",
       "      <th>32532</th>\n",
       "      <td>c73343e8-395d-40d0-854a-529d11c4e194</td>\n",
       "      <td>광학 장치를 사용하면 어떤 이점이 있나요?</td>\n",
       "      <td>천문학자와 생물학자는 과학의 다른 영역을 연구합니다. 천문학자들은 하늘에 있는 매우...</td>\n",
       "      <td>ko_ai2_arc__ARC_Challenge__train</td>\n",
       "      <td>astronomy</td>\n",
       "    </tr>\n",
       "    <tr>\n",
       "      <th>32533</th>\n",
       "      <td>c73343e8-395d-40d0-854a-529d11c4e194</td>\n",
       "      <td>광학 장치를 사용하면 어떤 이점이 있나요?</td>\n",
       "      <td>천문학자와 생물학자는 과학의 다른 영역을 연구합니다. 천문학자들은 하늘에 있는 매우...</td>\n",
       "      <td>ko_ai2_arc__ARC_Challenge__train</td>\n",
       "      <td>college_biology</td>\n",
       "    </tr>\n",
       "    <tr>\n",
       "      <th>32534</th>\n",
       "      <td>c73343e8-395d-40d0-854a-529d11c4e194</td>\n",
       "      <td>천문학자와 생물학자는 어떤 분야의 연구자들인가요?</td>\n",
       "      <td>천문학자와 생물학자는 과학의 다른 영역을 연구합니다. 천문학자들은 하늘에 있는 매우...</td>\n",
       "      <td>ko_ai2_arc__ARC_Challenge__train</td>\n",
       "      <td>astronomy</td>\n",
       "    </tr>\n",
       "    <tr>\n",
       "      <th>32535</th>\n",
       "      <td>c73343e8-395d-40d0-854a-529d11c4e194</td>\n",
       "      <td>천문학자와 생물학자는 어떤 분야의 연구자들인가요?</td>\n",
       "      <td>천문학자와 생물학자는 과학의 다른 영역을 연구합니다. 천문학자들은 하늘에 있는 매우...</td>\n",
       "      <td>ko_ai2_arc__ARC_Challenge__train</td>\n",
       "      <td>college_biology</td>\n",
       "    </tr>\n",
       "    <tr>\n",
       "      <th>32536</th>\n",
       "      <td>c73343e8-395d-40d0-854a-529d11c4e194</td>\n",
       "      <td>천문학자와 생물학자가 연구하는 대상은 어떻게 다르나요?</td>\n",
       "      <td>천문학자와 생물학자는 과학의 다른 영역을 연구합니다. 천문학자들은 하늘에 있는 매우...</td>\n",
       "      <td>ko_ai2_arc__ARC_Challenge__train</td>\n",
       "      <td>astronomy</td>\n",
       "    </tr>\n",
       "    <tr>\n",
       "      <th>32537</th>\n",
       "      <td>c73343e8-395d-40d0-854a-529d11c4e194</td>\n",
       "      <td>천문학자와 생물학자가 연구하는 대상은 어떻게 다르나요?</td>\n",
       "      <td>천문학자와 생물학자는 과학의 다른 영역을 연구합니다. 천문학자들은 하늘에 있는 매우...</td>\n",
       "      <td>ko_ai2_arc__ARC_Challenge__train</td>\n",
       "      <td>college_biology</td>\n",
       "    </tr>\n",
       "    <tr>\n",
       "      <th>32538</th>\n",
       "      <td>c73343e8-395d-40d0-854a-529d11c4e194</td>\n",
       "      <td>광학 장치가 발견에 미치는 영향은 무엇인가요?</td>\n",
       "      <td>천문학자와 생물학자는 과학의 다른 영역을 연구합니다. 천문학자들은 하늘에 있는 매우...</td>\n",
       "      <td>ko_ai2_arc__ARC_Challenge__train</td>\n",
       "      <td>astronomy</td>\n",
       "    </tr>\n",
       "    <tr>\n",
       "      <th>32539</th>\n",
       "      <td>c73343e8-395d-40d0-854a-529d11c4e194</td>\n",
       "      <td>광학 장치가 발견에 미치는 영향은 무엇인가요?</td>\n",
       "      <td>천문학자와 생물학자는 과학의 다른 영역을 연구합니다. 천문학자들은 하늘에 있는 매우...</td>\n",
       "      <td>ko_ai2_arc__ARC_Challenge__train</td>\n",
       "      <td>college_biology</td>\n",
       "    </tr>\n",
       "  </tbody>\n",
       "</table>\n",
       "</div>"
      ],
      "text/plain": [
       "                                      docid                          question  \\\n",
       "32520  c73343e8-395d-40d0-854a-529d11c4e194              천문학자들은 어떤 대상을 연구하나요?   \n",
       "32521  c73343e8-395d-40d0-854a-529d11c4e194              천문학자들은 어떤 대상을 연구하나요?   \n",
       "32522  c73343e8-395d-40d0-854a-529d11c4e194              생물학자들은 어떤 객체를 연구하나요?   \n",
       "32523  c73343e8-395d-40d0-854a-529d11c4e194              생물학자들은 어떤 객체를 연구하나요?   \n",
       "32524  c73343e8-395d-40d0-854a-529d11c4e194  천문학자와 생물학자의 연구 방법에는 어떤 공통점이 있나요?   \n",
       "32525  c73343e8-395d-40d0-854a-529d11c4e194  천문학자와 생물학자의 연구 방법에는 어떤 공통점이 있나요?   \n",
       "32526  c73343e8-395d-40d0-854a-529d11c4e194            광학 장치의 예시로 어떤 것들이 있나요?   \n",
       "32527  c73343e8-395d-40d0-854a-529d11c4e194            광학 장치의 예시로 어떤 것들이 있나요?   \n",
       "32528  c73343e8-395d-40d0-854a-529d11c4e194            천문학자들이 사용하는 장치는 무엇인가요?   \n",
       "32529  c73343e8-395d-40d0-854a-529d11c4e194            천문학자들이 사용하는 장치는 무엇인가요?   \n",
       "32530  c73343e8-395d-40d0-854a-529d11c4e194            생물학자들이 사용하는 장치는 무엇인가요?   \n",
       "32531  c73343e8-395d-40d0-854a-529d11c4e194            생물학자들이 사용하는 장치는 무엇인가요?   \n",
       "32532  c73343e8-395d-40d0-854a-529d11c4e194           광학 장치를 사용하면 어떤 이점이 있나요?   \n",
       "32533  c73343e8-395d-40d0-854a-529d11c4e194           광학 장치를 사용하면 어떤 이점이 있나요?   \n",
       "32534  c73343e8-395d-40d0-854a-529d11c4e194       천문학자와 생물학자는 어떤 분야의 연구자들인가요?   \n",
       "32535  c73343e8-395d-40d0-854a-529d11c4e194       천문학자와 생물학자는 어떤 분야의 연구자들인가요?   \n",
       "32536  c73343e8-395d-40d0-854a-529d11c4e194    천문학자와 생물학자가 연구하는 대상은 어떻게 다르나요?   \n",
       "32537  c73343e8-395d-40d0-854a-529d11c4e194    천문학자와 생물학자가 연구하는 대상은 어떻게 다르나요?   \n",
       "32538  c73343e8-395d-40d0-854a-529d11c4e194         광학 장치가 발견에 미치는 영향은 무엇인가요?   \n",
       "32539  c73343e8-395d-40d0-854a-529d11c4e194         광학 장치가 발견에 미치는 영향은 무엇인가요?   \n",
       "\n",
       "                                                 content  \\\n",
       "32520  천문학자와 생물학자는 과학의 다른 영역을 연구합니다. 천문학자들은 하늘에 있는 매우...   \n",
       "32521  천문학자와 생물학자는 과학의 다른 영역을 연구합니다. 천문학자들은 하늘에 있는 매우...   \n",
       "32522  천문학자와 생물학자는 과학의 다른 영역을 연구합니다. 천문학자들은 하늘에 있는 매우...   \n",
       "32523  천문학자와 생물학자는 과학의 다른 영역을 연구합니다. 천문학자들은 하늘에 있는 매우...   \n",
       "32524  천문학자와 생물학자는 과학의 다른 영역을 연구합니다. 천문학자들은 하늘에 있는 매우...   \n",
       "32525  천문학자와 생물학자는 과학의 다른 영역을 연구합니다. 천문학자들은 하늘에 있는 매우...   \n",
       "32526  천문학자와 생물학자는 과학의 다른 영역을 연구합니다. 천문학자들은 하늘에 있는 매우...   \n",
       "32527  천문학자와 생물학자는 과학의 다른 영역을 연구합니다. 천문학자들은 하늘에 있는 매우...   \n",
       "32528  천문학자와 생물학자는 과학의 다른 영역을 연구합니다. 천문학자들은 하늘에 있는 매우...   \n",
       "32529  천문학자와 생물학자는 과학의 다른 영역을 연구합니다. 천문학자들은 하늘에 있는 매우...   \n",
       "32530  천문학자와 생물학자는 과학의 다른 영역을 연구합니다. 천문학자들은 하늘에 있는 매우...   \n",
       "32531  천문학자와 생물학자는 과학의 다른 영역을 연구합니다. 천문학자들은 하늘에 있는 매우...   \n",
       "32532  천문학자와 생물학자는 과학의 다른 영역을 연구합니다. 천문학자들은 하늘에 있는 매우...   \n",
       "32533  천문학자와 생물학자는 과학의 다른 영역을 연구합니다. 천문학자들은 하늘에 있는 매우...   \n",
       "32534  천문학자와 생물학자는 과학의 다른 영역을 연구합니다. 천문학자들은 하늘에 있는 매우...   \n",
       "32535  천문학자와 생물학자는 과학의 다른 영역을 연구합니다. 천문학자들은 하늘에 있는 매우...   \n",
       "32536  천문학자와 생물학자는 과학의 다른 영역을 연구합니다. 천문학자들은 하늘에 있는 매우...   \n",
       "32537  천문학자와 생물학자는 과학의 다른 영역을 연구합니다. 천문학자들은 하늘에 있는 매우...   \n",
       "32538  천문학자와 생물학자는 과학의 다른 영역을 연구합니다. 천문학자들은 하늘에 있는 매우...   \n",
       "32539  천문학자와 생물학자는 과학의 다른 영역을 연구합니다. 천문학자들은 하늘에 있는 매우...   \n",
       "\n",
       "                                    src      new_domains  \n",
       "32520  ko_ai2_arc__ARC_Challenge__train        astronomy  \n",
       "32521  ko_ai2_arc__ARC_Challenge__train  college_biology  \n",
       "32522  ko_ai2_arc__ARC_Challenge__train        astronomy  \n",
       "32523  ko_ai2_arc__ARC_Challenge__train  college_biology  \n",
       "32524  ko_ai2_arc__ARC_Challenge__train        astronomy  \n",
       "32525  ko_ai2_arc__ARC_Challenge__train  college_biology  \n",
       "32526  ko_ai2_arc__ARC_Challenge__train        astronomy  \n",
       "32527  ko_ai2_arc__ARC_Challenge__train  college_biology  \n",
       "32528  ko_ai2_arc__ARC_Challenge__train        astronomy  \n",
       "32529  ko_ai2_arc__ARC_Challenge__train  college_biology  \n",
       "32530  ko_ai2_arc__ARC_Challenge__train        astronomy  \n",
       "32531  ko_ai2_arc__ARC_Challenge__train  college_biology  \n",
       "32532  ko_ai2_arc__ARC_Challenge__train        astronomy  \n",
       "32533  ko_ai2_arc__ARC_Challenge__train  college_biology  \n",
       "32534  ko_ai2_arc__ARC_Challenge__train        astronomy  \n",
       "32535  ko_ai2_arc__ARC_Challenge__train  college_biology  \n",
       "32536  ko_ai2_arc__ARC_Challenge__train        astronomy  \n",
       "32537  ko_ai2_arc__ARC_Challenge__train  college_biology  \n",
       "32538  ko_ai2_arc__ARC_Challenge__train        astronomy  \n",
       "32539  ko_ai2_arc__ARC_Challenge__train  college_biology  "
      ]
     },
     "execution_count": 20,
     "metadata": {},
     "output_type": "execute_result"
    }
   ],
   "source": [
    "data2_expanded[data2_expanded['docid']=='c73343e8-395d-40d0-854a-529d11c4e194']"
   ]
  },
  {
   "cell_type": "code",
   "execution_count": 8,
   "metadata": {},
   "outputs": [
    {
     "data": {
      "text/plain": [
       "(41650, 5)"
      ]
     },
     "execution_count": 8,
     "metadata": {},
     "output_type": "execute_result"
    }
   ],
   "source": [
    "data2_expanded.shape"
   ]
  },
  {
   "cell_type": "code",
   "execution_count": 13,
   "metadata": {},
   "outputs": [
    {
     "data": {
      "text/plain": [
       "array(['human_aging', 'medical_genetics', 'high_school_biology',\n",
       "       'college_chemistry', 'college_physics', 'conceptual_physics',\n",
       "       'global_facts', 'computer_security', 'high_school_chemistry',\n",
       "       'anatomy', 'nutrition', 'human_sexuality', 'astronomy',\n",
       "       'high_school_computer_science', 'virology',\n",
       "       'electrical_engineering', 'college_medicine', 'college_biology',\n",
       "       'college_computer_science', 'high_school_physics', 'geology',\n",
       "       'art', 'college_science', 'safety', 'civil_engineering',\n",
       "       'new_technology_in_industry', 'engineering', 'data_visualization',\n",
       "       'environmental_science', 'music_performance', 'logistics', 'None',\n",
       "       'construction_tools', 'safety_education', 'investigation_records'],\n",
       "      dtype=object)"
      ]
     },
     "execution_count": 13,
     "metadata": {},
     "output_type": "execute_result"
    }
   ],
   "source": [
    "data2_expanded.new_domains.unique()"
   ]
  },
  {
   "cell_type": "code",
   "execution_count": 9,
   "metadata": {},
   "outputs": [],
   "source": [
    "data2 = data2_expanded[~data2_expanded['new_domains'].isin(['None'])]"
   ]
  },
  {
   "cell_type": "code",
   "execution_count": 10,
   "metadata": {},
   "outputs": [
    {
     "data": {
      "text/plain": [
       "41640"
      ]
     },
     "execution_count": 10,
     "metadata": {},
     "output_type": "execute_result"
    }
   ],
   "source": [
    "len(data2)"
   ]
  },
  {
   "cell_type": "code",
   "execution_count": 11,
   "metadata": {},
   "outputs": [],
   "source": [
    "import pandas as pd\n",
    "aug10 = pd.read_json('/data/ephemeral/home/sample_submission_aug10.csv', lines=True)"
   ]
  },
  {
   "cell_type": "code",
   "execution_count": 69,
   "metadata": {},
   "outputs": [
    {
     "data": {
      "text/plain": [
       "0      [c63b9e3a-716f-423a-9c9b-0bcaa1b9f35d, e227a02...\n",
       "1      [79c93deb-fe60-4c81-8d51-cb7400a0a156, 4f0ea39...\n",
       "2      [25de4ffd-cee4-4f27-907e-fd6b802c6ede, 0c2d526...\n",
       "3      [bd91bda8-351e-4683-bb1a-8254f93e2376, 5d48fa4...\n",
       "4      [38686456-b993-4cbb-af0d-1c53df2f3e12, e532908...\n",
       "                             ...                        \n",
       "215    [fed07bdf-90e8-4236-bc5e-43eb5fe17061, 2452823...\n",
       "216    [a662feb5-e069-44d8-b148-4641039d2329, e216195...\n",
       "217    [dc398ded-03b2-4113-8ae6-9161cb5a545c, 5973b08...\n",
       "218    [466f5811-9b37-4589-9571-bafadd92c349, 6c21a0d...\n",
       "219    [bf023a9d-47f3-4d77-8bf1-5a854b5403a7, 25eee08...\n",
       "Name: topk, Length: 220, dtype: object"
      ]
     },
     "execution_count": 69,
     "metadata": {},
     "output_type": "execute_result"
    }
   ],
   "source": [
    "aug10['topk']"
   ]
  },
  {
   "cell_type": "code",
   "execution_count": 12,
   "metadata": {},
   "outputs": [
    {
     "name": "stdout",
     "output_type": "stream",
     "text": [
      "1999\n",
      "1545\n"
     ]
    }
   ],
   "source": [
    "import pandas as pd\n",
    "\n",
    "# 각 row의 리스트에서 앞의 5개 항목만 가져오기\n",
    "aug10['topk'] = aug10['topk'].apply(lambda x: x[:10] if isinstance(x, list) else x)\n",
    "\n",
    "# Merging the lists in the 'topk' column into a single string\n",
    "aug10['topk_combined'] = aug10['topk'].apply(lambda x: ', '.join(x))\n",
    "\n",
    "combined_list = [item.strip() for sublist in aug10['topk_combined'].str.split(',') for item in sublist]\n",
    "\n",
    "print(len(combined_list))\n",
    "\n",
    "# Remove empty strings and strip any trailing commas from the combined list\n",
    "cleaned_combined_list = set([item.strip() for item in combined_list if item.strip()])\n",
    "\n",
    "print(len(cleaned_combined_list))\n",
    "\n"
   ]
  },
  {
   "cell_type": "code",
   "execution_count": 13,
   "metadata": {},
   "outputs": [],
   "source": [
    "data3 = data2[data2['docid'].isin(cleaned_combined_list)]"
   ]
  },
  {
   "cell_type": "code",
   "execution_count": 14,
   "metadata": {},
   "outputs": [
    {
     "data": {
      "text/plain": [
       "15140"
      ]
     },
     "execution_count": 14,
     "metadata": {},
     "output_type": "execute_result"
    }
   ],
   "source": [
    "len(data3)"
   ]
  },
  {
   "cell_type": "code",
   "execution_count": 17,
   "metadata": {},
   "outputs": [
    {
     "name": "stderr",
     "output_type": "stream",
     "text": [
      "/opt/conda/lib/python3.10/site-packages/transformers/tokenization_utils_base.py:1617: FutureWarning: `clean_up_tokenization_spaces` was not set. It will be set to `True` by default. This behavior will be deprecated in transformers v4.45, and will be then set to `False` by default. For more details check this issue: https://github.com/huggingface/transformers/issues/31884\n",
      "  warnings.warn(\n",
      "Processing domains: 100%|██████████| 26/26 [24:18<00:00, 56.11s/it] \n"
     ]
    }
   ],
   "source": [
    "import torch\n",
    "from sentence_transformers import SentenceTransformer, util, InputExample\n",
    "from tqdm import tqdm\n",
    "from itertools import combinations \n",
    "\n",
    "# Sentence-BERT 모델을 사용해 질문 임베딩 생성\n",
    "device = 'cuda' if torch.cuda.is_available() else 'cpu'  # GPU가 있으면 'cuda', 없으면 'cpu'\n",
    "model = SentenceTransformer('jhgan/ko-sroberta-multitask').to(device)  # 모델을 GPU로 전송\n",
    "\n",
    "def create_labelled_pairs_with_similarity(data, threshold=0.7):\n",
    "    # 데이터를 도메인별로 그룹화\n",
    "    grouped_by_domain = data.groupby('new_domains')\n",
    "    positive_pairs = []\n",
    "    negative_pairs = []\n",
    "\n",
    "    # 도메인별로 긍정 쌍 생성\n",
    "    for domain, group in tqdm(grouped_by_domain, desc=\"Processing domains\"):\n",
    "        grouped_by_doc = group.groupby('docid')\n",
    "        \n",
    "        # 동일 문서 내의 질문들로 긍정적인 쌍 생성\n",
    "        for docid, questions_in_doc in grouped_by_doc:\n",
    "            questions = list(questions_in_doc['question'])\n",
    "            for q1, q2 in combinations(questions, 2):\n",
    "                positive_pairs.append(InputExample(texts=[q1, q2], label=1))\n",
    "        \n",
    "        # 도메인 내 다른 문서 간 부정적인 쌍 생성 (유사도 기반 필터링)\n",
    "        docids = list(grouped_by_doc.groups.keys())\n",
    "        for i in range(len(docids)):\n",
    "            for j in range(i + 1, len(docids)):\n",
    "                questions1 = list(grouped_by_doc.get_group(docids[i])['question'])\n",
    "                questions2 = list(grouped_by_doc.get_group(docids[j])['question'])\n",
    "                \n",
    "                # 질문 임베딩 생성 (GPU에서 수행)\n",
    "                embeddings1 = model.encode(questions1, convert_to_tensor=True, device=device)\n",
    "                embeddings2 = model.encode(questions2, convert_to_tensor=True, device=device)\n",
    "\n",
    "                # 유사도 계산 (임계값보다 높은 쌍만 부정 쌍으로 추가)\n",
    "                cosine_scores = util.pytorch_cos_sim(embeddings1, embeddings2)\n",
    "                for idx1, q1 in enumerate(questions1):\n",
    "                    for idx2, q2 in enumerate(questions2):\n",
    "                        if cosine_scores[idx1, idx2] > threshold:  # 유사도가 일정 임계값 이상일 때만\n",
    "                            negative_pairs.append(InputExample(texts=[q1, q2], label=0))\n",
    "\n",
    "    return positive_pairs + negative_pairs\n",
    "\n",
    "# 데이터 생성\n",
    "training_pairs = create_labelled_pairs_with_similarity(data3, threshold=0.7)  # 유사도 임계값을 0.7로 설정"
   ]
  },
  {
   "cell_type": "code",
   "execution_count": 18,
   "metadata": {},
   "outputs": [
    {
     "data": {
      "text/plain": [
       "138102"
      ]
     },
     "execution_count": 18,
     "metadata": {},
     "output_type": "execute_result"
    }
   ],
   "source": [
    "len(training_pairs)"
   ]
  },
  {
   "cell_type": "code",
   "execution_count": 21,
   "metadata": {},
   "outputs": [],
   "source": [
    "import pickle\n",
    "\n",
    "# training_pairs 저장\n",
    "with open('training_pairs.pkl', 'wb') as f:\n",
    "    pickle.dump(training_pairs, f)\n"
   ]
  },
  {
   "cell_type": "code",
   "execution_count": 25,
   "metadata": {},
   "outputs": [],
   "source": [
    "import pickle\n",
    "\n",
    "# training_pairs 불러오기\n",
    "with open('training_pairs.pkl', 'rb') as f:\n",
    "    training_pairs = pickle.load(f)\n",
    "\n",
    "# 이제 loaded_training_pairs를 사용할 수 있습니다."
   ]
  },
  {
   "cell_type": "code",
   "execution_count": 26,
   "metadata": {},
   "outputs": [
    {
     "name": "stdout",
     "output_type": "stream",
     "text": [
      "Query: 뇌, 척수, 신경의 역할은 무엇인가요?\n",
      "Document: 기관계는 어떤 기능을 조절하나요?\n",
      "Label: 1\n",
      "------------------------------\n",
      "Query: 뇌, 척수, 신경의 역할은 무엇인가요?\n",
      "Document: 뇌는 어떤 신호를 생성하고 전달하나요?\n",
      "Label: 1\n",
      "------------------------------\n",
      "Query: 뇌, 척수, 신경의 역할은 무엇인가요?\n",
      "Document: 척수의 주요 기능은 무엇인가요?\n",
      "Label: 1\n",
      "------------------------------\n",
      "Query: 뇌, 척수, 신경의 역할은 무엇인가요?\n",
      "Document: 신경은 어떻게 신호를 전달하나요?\n",
      "Label: 1\n",
      "------------------------------\n",
      "Query: 뇌, 척수, 신경의 역할은 무엇인가요?\n",
      "Document: 뇌와 척수는 어떤 관계가 있나요?\n",
      "Label: 1\n",
      "------------------------------\n",
      "Query: 뇌, 척수, 신경의 역할은 무엇인가요?\n",
      "Document: 기관계는 왜 중요한가요?\n",
      "Label: 1\n",
      "------------------------------\n",
      "Query: 뇌, 척수, 신경의 역할은 무엇인가요?\n",
      "Document: 아그네스는 무엇을 배웠나요?\n",
      "Label: 1\n",
      "------------------------------\n",
      "Query: 뇌, 척수, 신경의 역할은 무엇인가요?\n",
      "Document: 신경은 신체의 어떤 부분과 연결되나요?\n",
      "Label: 1\n",
      "------------------------------\n",
      "Query: 뇌, 척수, 신경의 역할은 무엇인가요?\n",
      "Document: 뇌, 척수, 신경이 함께 협력하는 이유는 무엇인가요?\n",
      "Label: 1\n",
      "------------------------------\n",
      "Query: 기관계는 어떤 기능을 조절하나요?\n",
      "Document: 뇌는 어떤 신호를 생성하고 전달하나요?\n",
      "Label: 1\n",
      "------------------------------\n",
      "Query: 기관계는 어떤 기능을 조절하나요?\n",
      "Document: 척수의 주요 기능은 무엇인가요?\n",
      "Label: 1\n",
      "------------------------------\n",
      "Query: 기관계는 어떤 기능을 조절하나요?\n",
      "Document: 신경은 어떻게 신호를 전달하나요?\n",
      "Label: 1\n",
      "------------------------------\n",
      "Query: 기관계는 어떤 기능을 조절하나요?\n",
      "Document: 뇌와 척수는 어떤 관계가 있나요?\n",
      "Label: 1\n",
      "------------------------------\n",
      "Query: 기관계는 어떤 기능을 조절하나요?\n",
      "Document: 기관계는 왜 중요한가요?\n",
      "Label: 1\n",
      "------------------------------\n",
      "Query: 기관계는 어떤 기능을 조절하나요?\n",
      "Document: 아그네스는 무엇을 배웠나요?\n",
      "Label: 1\n",
      "------------------------------\n",
      "Query: 기관계는 어떤 기능을 조절하나요?\n",
      "Document: 신경은 신체의 어떤 부분과 연결되나요?\n",
      "Label: 1\n",
      "------------------------------\n",
      "Query: 기관계는 어떤 기능을 조절하나요?\n",
      "Document: 뇌, 척수, 신경이 함께 협력하는 이유는 무엇인가요?\n",
      "Label: 1\n",
      "------------------------------\n",
      "Query: 뇌는 어떤 신호를 생성하고 전달하나요?\n",
      "Document: 척수의 주요 기능은 무엇인가요?\n",
      "Label: 1\n",
      "------------------------------\n",
      "Query: 뇌는 어떤 신호를 생성하고 전달하나요?\n",
      "Document: 신경은 어떻게 신호를 전달하나요?\n",
      "Label: 1\n",
      "------------------------------\n",
      "Query: 뇌는 어떤 신호를 생성하고 전달하나요?\n",
      "Document: 뇌와 척수는 어떤 관계가 있나요?\n",
      "Label: 1\n",
      "------------------------------\n",
      "Query: 뇌는 어떤 신호를 생성하고 전달하나요?\n",
      "Document: 기관계는 왜 중요한가요?\n",
      "Label: 1\n",
      "------------------------------\n",
      "Query: 뇌는 어떤 신호를 생성하고 전달하나요?\n",
      "Document: 아그네스는 무엇을 배웠나요?\n",
      "Label: 1\n",
      "------------------------------\n",
      "Query: 뇌는 어떤 신호를 생성하고 전달하나요?\n",
      "Document: 신경은 신체의 어떤 부분과 연결되나요?\n",
      "Label: 1\n",
      "------------------------------\n",
      "Query: 뇌는 어떤 신호를 생성하고 전달하나요?\n",
      "Document: 뇌, 척수, 신경이 함께 협력하는 이유는 무엇인가요?\n",
      "Label: 1\n",
      "------------------------------\n",
      "Query: 척수의 주요 기능은 무엇인가요?\n",
      "Document: 신경은 어떻게 신호를 전달하나요?\n",
      "Label: 1\n",
      "------------------------------\n",
      "Query: 척수의 주요 기능은 무엇인가요?\n",
      "Document: 뇌와 척수는 어떤 관계가 있나요?\n",
      "Label: 1\n",
      "------------------------------\n",
      "Query: 척수의 주요 기능은 무엇인가요?\n",
      "Document: 기관계는 왜 중요한가요?\n",
      "Label: 1\n",
      "------------------------------\n",
      "Query: 척수의 주요 기능은 무엇인가요?\n",
      "Document: 아그네스는 무엇을 배웠나요?\n",
      "Label: 1\n",
      "------------------------------\n",
      "Query: 척수의 주요 기능은 무엇인가요?\n",
      "Document: 신경은 신체의 어떤 부분과 연결되나요?\n",
      "Label: 1\n",
      "------------------------------\n",
      "Query: 척수의 주요 기능은 무엇인가요?\n",
      "Document: 뇌, 척수, 신경이 함께 협력하는 이유는 무엇인가요?\n",
      "Label: 1\n",
      "------------------------------\n"
     ]
    }
   ],
   "source": [
    "# Print the first 10 pairs to see their content and labels\n",
    "for example in training_pairs[:30]:\n",
    "    print(\"Query:\", example.texts[0])\n",
    "    print(\"Document:\", example.texts[1])\n",
    "    print(\"Label:\", example.label)\n",
    "    print(\"-\" * 30)\n"
   ]
  },
  {
   "cell_type": "code",
   "execution_count": 24,
   "metadata": {},
   "outputs": [
    {
     "name": "stdout",
     "output_type": "stream",
     "text": [
      "Query: 신경은 어떻게 신호를 전달하나요?\n",
      "Document: 뇌와 척수는 어떤 관계가 있나요?\n",
      "Label: 1\n",
      "------------------------------\n",
      "Query: 신경은 어떻게 신호를 전달하나요?\n",
      "Document: 기관계는 왜 중요한가요?\n",
      "Label: 1\n",
      "------------------------------\n",
      "Query: 신경은 어떻게 신호를 전달하나요?\n",
      "Document: 아그네스는 무엇을 배웠나요?\n",
      "Label: 1\n",
      "------------------------------\n",
      "Query: 신경은 어떻게 신호를 전달하나요?\n",
      "Document: 신경은 신체의 어떤 부분과 연결되나요?\n",
      "Label: 1\n",
      "------------------------------\n",
      "Query: 신경은 어떻게 신호를 전달하나요?\n",
      "Document: 뇌, 척수, 신경이 함께 협력하는 이유는 무엇인가요?\n",
      "Label: 1\n",
      "------------------------------\n",
      "Query: 뇌와 척수는 어떤 관계가 있나요?\n",
      "Document: 기관계는 왜 중요한가요?\n",
      "Label: 1\n",
      "------------------------------\n",
      "Query: 뇌와 척수는 어떤 관계가 있나요?\n",
      "Document: 아그네스는 무엇을 배웠나요?\n",
      "Label: 1\n",
      "------------------------------\n",
      "Query: 뇌와 척수는 어떤 관계가 있나요?\n",
      "Document: 신경은 신체의 어떤 부분과 연결되나요?\n",
      "Label: 1\n",
      "------------------------------\n",
      "Query: 뇌와 척수는 어떤 관계가 있나요?\n",
      "Document: 뇌, 척수, 신경이 함께 협력하는 이유는 무엇인가요?\n",
      "Label: 1\n",
      "------------------------------\n",
      "Query: 기관계는 왜 중요한가요?\n",
      "Document: 아그네스는 무엇을 배웠나요?\n",
      "Label: 1\n",
      "------------------------------\n",
      "Query: 기관계는 왜 중요한가요?\n",
      "Document: 신경은 신체의 어떤 부분과 연결되나요?\n",
      "Label: 1\n",
      "------------------------------\n",
      "Query: 기관계는 왜 중요한가요?\n",
      "Document: 뇌, 척수, 신경이 함께 협력하는 이유는 무엇인가요?\n",
      "Label: 1\n",
      "------------------------------\n",
      "Query: 아그네스는 무엇을 배웠나요?\n",
      "Document: 신경은 신체의 어떤 부분과 연결되나요?\n",
      "Label: 1\n",
      "------------------------------\n",
      "Query: 아그네스는 무엇을 배웠나요?\n",
      "Document: 뇌, 척수, 신경이 함께 협력하는 이유는 무엇인가요?\n",
      "Label: 1\n",
      "------------------------------\n",
      "Query: 신경은 신체의 어떤 부분과 연결되나요?\n",
      "Document: 뇌, 척수, 신경이 함께 협력하는 이유는 무엇인가요?\n",
      "Label: 1\n",
      "------------------------------\n",
      "Query: 내분비계의 주요 역할은 무엇인가요?\n",
      "Document: 내분비계는 어떤 방식으로 메시지를 전달하나요?\n",
      "Label: 1\n",
      "------------------------------\n",
      "Query: 내분비계의 주요 역할은 무엇인가요?\n",
      "Document: 내분비계가 조절하는 생리적 기능은 무엇인가요?\n",
      "Label: 1\n",
      "------------------------------\n",
      "Query: 내분비계의 주요 역할은 무엇인가요?\n",
      "Document: 호르몬은 내분비계에서 어떤 역할을 하나요?\n",
      "Label: 1\n",
      "------------------------------\n",
      "Query: 내분비계의 주요 역할은 무엇인가요?\n",
      "Document: 내분비계는 신체의 어떤 기능을 조정하나요?\n",
      "Label: 1\n",
      "------------------------------\n",
      "Query: 내분비계의 주요 역할은 무엇인가요?\n",
      "Document: 세포 내부에서 발생하는 신호는 어떻게 전달되나요?\n",
      "Label: 1\n",
      "------------------------------\n"
     ]
    }
   ],
   "source": [
    "for example in training_pairs[30:50]:\n",
    "    print(\"Query:\", example.texts[0])\n",
    "    print(\"Document:\", example.texts[1])\n",
    "    print(\"Label:\", example.label)\n",
    "    print(\"-\" * 30)"
   ]
  },
  {
   "cell_type": "code",
   "execution_count": null,
   "metadata": {},
   "outputs": [],
   "source": [
    "# https://github.com/UKPLab/sentence-transformers/blob/master/examples/training/cross-encoder/training_stsbenchmark.py"
   ]
  },
  {
   "cell_type": "code",
   "execution_count": 28,
   "metadata": {},
   "outputs": [
    {
     "name": "stderr",
     "output_type": "stream",
     "text": [
      "Some weights of RobertaForSequenceClassification were not initialized from the model checkpoint at jhgan/ko-sroberta-multitask and are newly initialized: ['classifier.dense.bias', 'classifier.dense.weight', 'classifier.out_proj.bias', 'classifier.out_proj.weight']\n",
      "You should probably TRAIN this model on a down-stream task to be able to use it for predictions and inference.\n"
     ]
    },
    {
     "name": "stdout",
     "output_type": "stream",
     "text": [
      "2024-10-09 15:36:16 - Use pytorch device: cuda\n",
      "2024-10-09 15:36:17 - Starting training...\n"
     ]
    },
    {
     "name": "stderr",
     "output_type": "stream",
     "text": [
      "                                                                         \r"
     ]
    },
    {
     "name": "stdout",
     "output_type": "stream",
     "text": [
      "2024-10-09 15:39:08 - Save model to output/training_jhgan-ko-sroberta-multitask_binary_2024-10-09_15-36-16-epoch-1\n",
      "2024-10-09 15:39:09 - Model saved after epoch 1 to output/training_jhgan-ko-sroberta-multitask_binary_2024-10-09_15-36-16-epoch-1\n",
      "2024-10-09 15:39:09 - CECorrelationEvaluator: Evaluating the model on aug-dev dataset:\n",
      "2024-10-09 15:39:22 - Correlation:\tPearson: 0.8666\tSpearman: 0.8231\n",
      "2024-10-09 15:39:22 - Epoch 1: Correlation: 0.8230537371159695\n"
     ]
    },
    {
     "name": "stderr",
     "output_type": "stream",
     "text": [
      "                                                                          \r"
     ]
    },
    {
     "name": "stdout",
     "output_type": "stream",
     "text": [
      "2024-10-09 15:42:13 - Save model to output/training_jhgan-ko-sroberta-multitask_binary_2024-10-09_15-36-16-epoch-2\n",
      "2024-10-09 15:42:14 - Model saved after epoch 2 to output/training_jhgan-ko-sroberta-multitask_binary_2024-10-09_15-36-16-epoch-2\n",
      "2024-10-09 15:42:14 - CECorrelationEvaluator: Evaluating the model on aug-dev dataset:\n",
      "2024-10-09 15:42:27 - Correlation:\tPearson: 0.8912\tSpearman: 0.8362\n",
      "2024-10-09 15:42:27 - Epoch 2: Correlation: 0.8361504895354516\n"
     ]
    },
    {
     "name": "stderr",
     "output_type": "stream",
     "text": [
      "                                                                          \r"
     ]
    },
    {
     "name": "stdout",
     "output_type": "stream",
     "text": [
      "2024-10-09 15:45:19 - Save model to output/training_jhgan-ko-sroberta-multitask_binary_2024-10-09_15-36-16-epoch-3\n",
      "2024-10-09 15:45:20 - Model saved after epoch 3 to output/training_jhgan-ko-sroberta-multitask_binary_2024-10-09_15-36-16-epoch-3\n",
      "2024-10-09 15:45:20 - CECorrelationEvaluator: Evaluating the model on aug-dev dataset:\n",
      "2024-10-09 15:45:33 - Correlation:\tPearson: 0.9021\tSpearman: 0.8399\n",
      "2024-10-09 15:45:33 - Epoch 3: Correlation: 0.8398835531855577\n"
     ]
    },
    {
     "name": "stderr",
     "output_type": "stream",
     "text": [
      "                                                                          \r"
     ]
    },
    {
     "name": "stdout",
     "output_type": "stream",
     "text": [
      "2024-10-09 15:48:25 - Save model to output/training_jhgan-ko-sroberta-multitask_binary_2024-10-09_15-36-16-epoch-4\n",
      "2024-10-09 15:48:25 - Model saved after epoch 4 to output/training_jhgan-ko-sroberta-multitask_binary_2024-10-09_15-36-16-epoch-4\n",
      "2024-10-09 15:48:25 - CECorrelationEvaluator: Evaluating the model on aug-dev dataset:\n",
      "2024-10-09 15:48:38 - Correlation:\tPearson: 0.9049\tSpearman: 0.8426\n",
      "2024-10-09 15:48:38 - Epoch 4: Correlation: 0.8425630542382219\n"
     ]
    },
    {
     "name": "stderr",
     "output_type": "stream",
     "text": [
      "                                                                          \r"
     ]
    },
    {
     "name": "stdout",
     "output_type": "stream",
     "text": [
      "2024-10-09 15:51:30 - Save model to output/training_jhgan-ko-sroberta-multitask_binary_2024-10-09_15-36-16-epoch-5\n",
      "2024-10-09 15:51:30 - Model saved after epoch 5 to output/training_jhgan-ko-sroberta-multitask_binary_2024-10-09_15-36-16-epoch-5\n",
      "2024-10-09 15:51:30 - CECorrelationEvaluator: Evaluating the model on aug-dev dataset:\n",
      "2024-10-09 15:51:43 - Correlation:\tPearson: 0.9041\tSpearman: 0.8453\n",
      "2024-10-09 15:51:43 - Epoch 5: Correlation: 0.8452513077957116\n"
     ]
    },
    {
     "name": "stderr",
     "output_type": "stream",
     "text": [
      "                                                                           \r"
     ]
    },
    {
     "name": "stdout",
     "output_type": "stream",
     "text": [
      "2024-10-09 15:54:35 - Save model to output/training_jhgan-ko-sroberta-multitask_binary_2024-10-09_15-36-16-epoch-6\n",
      "2024-10-09 15:54:35 - Model saved after epoch 6 to output/training_jhgan-ko-sroberta-multitask_binary_2024-10-09_15-36-16-epoch-6\n",
      "2024-10-09 15:54:35 - CECorrelationEvaluator: Evaluating the model on aug-dev dataset:\n",
      "2024-10-09 15:54:48 - Correlation:\tPearson: 0.9155\tSpearman: 0.8457\n",
      "2024-10-09 15:54:48 - Epoch 6: Correlation: 0.8457410050085337\n"
     ]
    },
    {
     "name": "stderr",
     "output_type": "stream",
     "text": [
      "                                                                           \r"
     ]
    },
    {
     "name": "stdout",
     "output_type": "stream",
     "text": [
      "2024-10-09 15:57:40 - Save model to output/training_jhgan-ko-sroberta-multitask_binary_2024-10-09_15-36-16-epoch-7\n",
      "2024-10-09 15:57:41 - Model saved after epoch 7 to output/training_jhgan-ko-sroberta-multitask_binary_2024-10-09_15-36-16-epoch-7\n",
      "2024-10-09 15:57:41 - CECorrelationEvaluator: Evaluating the model on aug-dev dataset:\n",
      "2024-10-09 15:57:54 - Correlation:\tPearson: 0.9166\tSpearman: 0.8425\n",
      "2024-10-09 15:57:54 - Epoch 7: Correlation: 0.8425036993982152\n"
     ]
    },
    {
     "name": "stderr",
     "output_type": "stream",
     "text": [
      "                                                                           \r"
     ]
    },
    {
     "name": "stdout",
     "output_type": "stream",
     "text": [
      "2024-10-09 16:00:45 - Save model to output/training_jhgan-ko-sroberta-multitask_binary_2024-10-09_15-36-16-epoch-8\n",
      "2024-10-09 16:00:46 - Model saved after epoch 8 to output/training_jhgan-ko-sroberta-multitask_binary_2024-10-09_15-36-16-epoch-8\n",
      "2024-10-09 16:00:46 - CECorrelationEvaluator: Evaluating the model on aug-dev dataset:\n",
      "2024-10-09 16:00:59 - Correlation:\tPearson: 0.9163\tSpearman: 0.8342\n",
      "2024-10-09 16:00:59 - Epoch 8: Correlation: 0.8341547722933927\n"
     ]
    },
    {
     "name": "stderr",
     "output_type": "stream",
     "text": [
      "                                                                           \r"
     ]
    },
    {
     "name": "stdout",
     "output_type": "stream",
     "text": [
      "2024-10-09 16:03:50 - Save model to output/training_jhgan-ko-sroberta-multitask_binary_2024-10-09_15-36-16-epoch-9\n",
      "2024-10-09 16:03:51 - Model saved after epoch 9 to output/training_jhgan-ko-sroberta-multitask_binary_2024-10-09_15-36-16-epoch-9\n",
      "2024-10-09 16:03:51 - CECorrelationEvaluator: Evaluating the model on aug-dev dataset:\n",
      "2024-10-09 16:04:04 - Correlation:\tPearson: 0.9208\tSpearman: 0.8460\n",
      "2024-10-09 16:04:04 - Epoch 9: Correlation: 0.846029466621202\n"
     ]
    },
    {
     "name": "stderr",
     "output_type": "stream",
     "text": [
      "                                                                            \r"
     ]
    },
    {
     "name": "stdout",
     "output_type": "stream",
     "text": [
      "2024-10-09 16:06:55 - Save model to output/training_jhgan-ko-sroberta-multitask_binary_2024-10-09_15-36-16-epoch-10\n",
      "2024-10-09 16:06:55 - Model saved after epoch 10 to output/training_jhgan-ko-sroberta-multitask_binary_2024-10-09_15-36-16-epoch-10\n",
      "2024-10-09 16:06:55 - CECorrelationEvaluator: Evaluating the model on aug-dev dataset:\n",
      "2024-10-09 16:07:08 - Correlation:\tPearson: 0.9172\tSpearman: 0.8438\n",
      "2024-10-09 16:07:08 - Epoch 10: Correlation: 0.8438370429863699\n",
      "2024-10-09 16:07:08 - Save model to output/training_jhgan-ko-sroberta-multitask_binary_2024-10-09_15-36-16-final\n",
      "2024-10-09 16:07:09 - Training complete. Final model saved to output/training_jhgan-ko-sroberta-multitask_binary_2024-10-09_15-36-16-final\n"
     ]
    }
   ],
   "source": [
    "import logging\n",
    "import math\n",
    "from datetime import datetime\n",
    "import torch\n",
    "from torch.utils.data import DataLoader\n",
    "from torch.nn import BCEWithLogitsLoss\n",
    "from sentence_transformers import LoggingHandler\n",
    "from sentence_transformers.cross_encoder import CrossEncoder\n",
    "from sentence_transformers.cross_encoder.evaluation import CECorrelationEvaluator\n",
    "from transformers import AutoTokenizer\n",
    "from sklearn.model_selection import train_test_split\n",
    "from tqdm import tqdm  # Import tqdm for the progress bar\n",
    "\n",
    "# Setup logging\n",
    "logging.basicConfig(format=\"%(asctime)s - %(message)s\", datefmt=\"%Y-%m-%d %H:%M:%S\", level=logging.INFO, handlers=[LoggingHandler()])\n",
    "\n",
    "# Define model parameters\n",
    "model_name = \"jhgan/ko-sroberta-multitask\"\n",
    "#model_name = \"/data/ephemeral/home/code/sroberta_finetuned_epoch_1\"\n",
    "train_batch_size = 32\n",
    "num_epochs = 10\n",
    "model_save_path = f\"output/training_{model_name.replace('/', '-')}_binary_{datetime.now().strftime('%Y-%m-%d_%H-%M-%S')}\"\n",
    "\n",
    "# Initialize the model and tokenizer\n",
    "model = CrossEncoder(model_name, num_labels=1)\n",
    "tokenizer = AutoTokenizer.from_pretrained(model_name)\n",
    "\n",
    "# Split the data into train, validation, and test sets\n",
    "train_val_pairs, test_pairs = train_test_split(training_pairs, test_size=0.2, random_state=42)\n",
    "train_pairs, validation_pairs = train_test_split(train_val_pairs, test_size=0.2, random_state=42)\n",
    "\n",
    "# Custom collate function to tokenize the data\n",
    "def collate_fn(batch):\n",
    "    texts = [pair.texts for pair in batch]\n",
    "    labels = [pair.label for pair in batch]\n",
    "    \n",
    "    # Tokenize the texts\n",
    "    inputs = tokenizer(texts, padding=True, truncation=True, return_tensors=\"pt\", max_length=512)\n",
    "    \n",
    "    # Convert labels to tensors\n",
    "    labels = torch.tensor(labels, dtype=torch.float)\n",
    "    \n",
    "    return inputs, labels\n",
    "\n",
    "# Create DataLoader for train, validation, and test sets with custom collate function\n",
    "train_dataloader = DataLoader(train_pairs, shuffle=True, batch_size=train_batch_size, collate_fn=collate_fn)\n",
    "validation_dataloader = DataLoader(validation_pairs, shuffle=False, batch_size=train_batch_size, collate_fn=collate_fn)\n",
    "test_dataloader = DataLoader(test_pairs, shuffle=False, batch_size=train_batch_size, collate_fn=collate_fn)\n",
    "\n",
    "# Prepare evaluator with validation set\n",
    "dev_samples = [pair for pair in validation_pairs]\n",
    "evaluator = CECorrelationEvaluator.from_input_examples(dev_samples, name=\"aug-dev\")\n",
    "# Correlation 값은 모델이 예측한 값과 실제 레이블 사이의 상관관계\n",
    "# Pearson 값이 0.9021인 경우, 모델이 예측한 값과 실제 레이블 간에 강한 양의 선형 관계가 있다는 것을 의미\n",
    "# Spearman 값이 0.8399인 경우, 모델이 예측한 값과 실제 값의 순위 간에 높은 일관성이 있다는 것을 의미\n",
    "\n",
    "# Configure warmup steps (10% of training steps)\n",
    "warmup_steps = math.ceil(len(train_dataloader) * num_epochs * 0.1)\n",
    "\n",
    "# Loss function: BCEWithLogitsLoss (which includes sigmoid activation)\n",
    "loss_fn = BCEWithLogitsLoss()\n",
    "\n",
    "# Train the model using the fit method with tqdm progress bar\n",
    "logging.info(\"Starting training...\")\n",
    "import torch.optim as optim\n",
    "\n",
    "# Define optimizer\n",
    "optimizer = optim.AdamW(model.model.parameters(), lr=2e-5)\n",
    "\n",
    "# Training loop\n",
    "device = torch.device(\"cuda\" if torch.cuda.is_available() else \"cpu\")  # Check for available device\n",
    "model.model.to(device)  # Move model to GPU if available\n",
    "\n",
    "for epoch in range(num_epochs):\n",
    "    model.model.train()  # Ensure the model is in training mode\n",
    "    progress_bar = tqdm(train_dataloader, desc=f\"Epoch {epoch+1}\", leave=False)\n",
    "\n",
    "    for step, (inputs, labels) in enumerate(progress_bar):\n",
    "        # Move inputs and labels to the same device as the model\n",
    "        inputs = {key: value.to(device) for key, value in inputs.items()}  # Ensure all inputs are on the correct device\n",
    "        labels = labels.to(device)  # Ensure labels are on the correct device\n",
    "\n",
    "        # Manually compute outputs and update progress bar\n",
    "        outputs = model.model(**inputs).logits\n",
    "        loss = torch.nn.BCEWithLogitsLoss()(outputs.view(-1), labels)\n",
    "\n",
    "        # Zero gradients, backward pass, and optimizer step\n",
    "        optimizer.zero_grad()  # Manually zero the gradients\n",
    "        loss.backward()  # Backpropagation\n",
    "        optimizer.step()  # Optimizer step to update weights\n",
    "\n",
    "        # Update the progress bar with the current loss\n",
    "        progress_bar.set_postfix({'loss': loss.item()})\n",
    "\n",
    "    # Save the model at the end of each epoch\n",
    "    epoch_save_path = f\"{model_save_path}-epoch-{epoch+1}\"\n",
    "    model.save(epoch_save_path)\n",
    "    logging.info(f\"Model saved after epoch {epoch+1} to {epoch_save_path}\")\n",
    "    \n",
    "    # Evaluate the model using the validation set\n",
    "    model.model.eval()  # Set model to evaluation mode\n",
    "    eval_corr = evaluator(model)  # Only one value is returned by the evaluator\n",
    "    logging.info(f\"Epoch {epoch+1}: Correlation: {eval_corr}\")\n",
    "\n",
    "\n",
    "# Save the final model after all epochs\n",
    "model.save(model_save_path + \"-final\")\n",
    "logging.info(f\"Training complete. Final model saved to {model_save_path + '-final'}\")\n"
   ]
  },
  {
   "cell_type": "code",
   "execution_count": null,
   "metadata": {},
   "outputs": [],
   "source": [
    "# aug_data_3.5turbo1106.jsonl: 1.0으로 PAIR: MAP 0.4955 MRR 0.4955\n",
    "# aug_data_3.5turbo1106.jsonl: 1.0,-1.0 위 코드로 PAIR: MAP 0.7197 MRR 0.7242\n",
    "# "
   ]
  }
 ],
 "metadata": {
  "kernelspec": {
   "display_name": "base",
   "language": "python",
   "name": "python3"
  },
  "language_info": {
   "codemirror_mode": {
    "name": "ipython",
    "version": 3
   },
   "file_extension": ".py",
   "mimetype": "text/x-python",
   "name": "python",
   "nbconvert_exporter": "python",
   "pygments_lexer": "ipython3",
   "version": "3.10.13"
  }
 },
 "nbformat": 4,
 "nbformat_minor": 2
}
