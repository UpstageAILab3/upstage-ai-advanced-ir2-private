{
 "cells": [
  {
   "cell_type": "markdown",
   "metadata": {},
   "source": [
    "### MAP 점수 비교"
   ]
  },
  {
   "cell_type": "code",
   "execution_count": null,
   "metadata": {},
   "outputs": [],
   "source": [
    "import json\n",
    "\n",
    "# 두 파일에서 topk 항목을 불러옴\n",
    "def load_jsonl(file_path):\n",
    "    data = []\n",
    "    with open(file_path, 'r', encoding='utf-8') as f:\n",
    "        for line in f:\n",
    "            data.append(json.loads(line))\n",
    "    return data\n",
    "\n",
    "# Average Precision (AP) 계산\n",
    "def calculate_ap(true_topk, predicted_topk):\n",
    "    score = 0.0\n",
    "    hits = 0\n",
    "    for i, pred in enumerate(predicted_topk):\n",
    "        if pred in true_topk:\n",
    "            hits += 1\n",
    "            score += hits / (i + 1)\n",
    "    if hits == 0:\n",
    "        return 0.0\n",
    "    return score / len(true_topk)\n",
    "\n",
    "def calculate_map(ground_truth_file, prediction_file, max_k=3):\n",
    "    ground_truth_data = load_jsonl(ground_truth_file)\n",
    "    prediction_data = load_jsonl(prediction_file)\n",
    "\n",
    "    # 각 k별로 MAP을 저장할 딕셔너리\n",
    "    map_scores_by_k = {k: [] for k in range(1, max_k + 1)}\n",
    "\n",
    "    for gt_item in ground_truth_data:\n",
    "        pred_item = next((item for item in prediction_data if item['eval_id'] == gt_item['eval_id']), None)\n",
    "        if pred_item:\n",
    "            for k in range(1, max_k + 1):\n",
    "                top_gt = gt_item['topk'][:k]\n",
    "                top_pred = pred_item['topk'][:k]\n",
    "                ap = calculate_ap(top_gt, top_pred)  # 상위 k개의 항목을 사용하여 AP 계산\n",
    "                map_scores_by_k[k].append(ap)\n",
    "\n",
    "    # 각 k별로 MAP 계산\n",
    "    map_scores = []\n",
    "    for k in range(1, max_k + 1):\n",
    "        map_score = sum(map_scores_by_k[k]) / len(map_scores_by_k[k]) if map_scores_by_k[k] else 0.0\n",
    "        map_scores.append(f\"top-{k}: {map_score:.4f}\")\n",
    "\n",
    "    # 한 번에 모든 top-k 결과를 출력\n",
    "    result = \" | \".join(map_scores)\n",
    "    print(f\"{prediction_file} \" + result)\n",
    "\n",
    "    return map_scores_by_k\n",
    "\n",
    "ground_truth_file = './output/0.8614.csv'\n",
    "print(f\"ground_truth_file : {ground_truth_file}\")\n",
    "map_score = calculate_map(ground_truth_file, './output/1015-2242_topk3.csv')"
   ]
  },
  {
   "cell_type": "markdown",
   "metadata": {},
   "source": [
    "### eval.jsonl에 다른 파일의 standalone_query 붙이기"
   ]
  },
  {
   "cell_type": "code",
   "execution_count": 1,
   "metadata": {},
   "outputs": [],
   "source": [
    "import json\n",
    "\n",
    "# 파일 경로 설정\n",
    "a_file = './data/eval.jsonl'  # eval_id 필드가 있는 첫 번째 파일\n",
    "b_file = './output/0.8409.csv'  # query 필드가 있는 두 번째 파일\n",
    "output_file = './data/eval_8409.jsonl'  # 결과를 저장할 파일\n",
    "\n",
    "# b.jsonl에서 eval_id와 standalone_query의 매핑을 생성\n",
    "b_mapping = {}\n",
    "with open(b_file, 'r', encoding='utf-8') as b_infile:\n",
    "    for line in b_infile:\n",
    "        b_doc = json.loads(line)\n",
    "        # eval_id를 키로, standalone_query를 값으로 추가\n",
    "        b_mapping[b_doc['eval_id']] = b_doc['standalone_query']\n",
    "\n",
    "# a.jsonl 파일에서 eval_id에 따른 standalone_query 추가\n",
    "with open(a_file, 'r', encoding='utf-8') as a_infile, open(output_file, 'w', encoding='utf-8') as outfile:\n",
    "    for line in a_infile:\n",
    "        a_doc = json.loads(line)\n",
    "        eval_id = a_doc['eval_id']\n",
    "        \n",
    "        # b.jsonl에서 해당 eval_id에 대한 standalone_query 가져오기\n",
    "        standalone_query = b_mapping.get(eval_id, None)  # 존재하지 않을 경우 None\n",
    "        \n",
    "        # 새로운 문서 생성\n",
    "        new_doc = {\n",
    "            'eval_id': eval_id,\n",
    "            'standalone_query': standalone_query,\n",
    "            'msg': a_doc['msg']  # 기존 msg 필드 추가\n",
    "        }\n",
    "        \n",
    "        # JSONL 형식으로 저장\n",
    "        outfile.write(json.dumps(new_doc, ensure_ascii=False) + '\\n')"
   ]
  }
 ],
 "metadata": {
  "kernelspec": {
   "display_name": "base",
   "language": "python",
   "name": "python3"
  },
  "language_info": {
   "codemirror_mode": {
    "name": "ipython",
    "version": 3
   },
   "file_extension": ".py",
   "mimetype": "text/x-python",
   "name": "python",
   "nbconvert_exporter": "python",
   "pygments_lexer": "ipython3",
   "version": "3.10.13"
  }
 },
 "nbformat": 4,
 "nbformat_minor": 2
}
