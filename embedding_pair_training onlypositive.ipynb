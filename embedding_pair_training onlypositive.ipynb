{
 "cells": [
  {
   "cell_type": "code",
   "execution_count": 1,
   "metadata": {},
   "outputs": [],
   "source": [
    "import torch\n",
    "import random\n",
    "import pandas as pd\n",
    "import json\n",
    "import numpy as np\n",
    "import torch.backends.cudnn as cudnn"
   ]
  },
  {
   "cell_type": "code",
   "execution_count": 2,
   "metadata": {},
   "outputs": [
    {
     "name": "stdout",
     "output_type": "stream",
     "text": [
      "device: cuda:0\n"
     ]
    }
   ],
   "source": [
    "seed = 42\n",
    "torch.manual_seed(seed)\n",
    "torch.cuda.manual_seed(seed)\n",
    "torch.cuda.manual_seed_all(seed)\n",
    "np.random.seed(seed)\n",
    "cudnn.benchmark = False\n",
    "cudnn.deterministic = True\n",
    "random.seed(seed)\n",
    "# seed 결과가달라짐 3~4%\n",
    "\n",
    "device = \"cuda:0\" if torch.cuda.is_available() else \"cpu\"\n",
    "print('device:', device)"
   ]
  },
  {
   "cell_type": "code",
   "execution_count": 3,
   "metadata": {},
   "outputs": [
    {
     "name": "stdout",
     "output_type": "stream",
     "text": [
      "----------\n",
      "Data Loading Start!!\n",
      "----------\n",
      "origin_data: (42720, 5)\n"
     ]
    }
   ],
   "source": [
    "print('-'*10)\n",
    "print('Data Loading Start!!')\n",
    "print('-'*10)\n",
    "\n",
    "## dataset class\n",
    "path = \"/data/ephemeral/home/data/aug_data_x10.jsonl\"\n",
    "\n",
    "with open(path) as f:\n",
    "    data = [json.loads(line) for line in f]\n",
    "data = pd.DataFrame(data)\n",
    "print('origin_data:', data.shape)\n"
   ]
  },
  {
   "cell_type": "code",
   "execution_count": 4,
   "metadata": {},
   "outputs": [
    {
     "data": {
      "text/plain": [
       "Index(['docid', 'question', 'content', 'src', 'new_domains'], dtype='object')"
      ]
     },
     "execution_count": 4,
     "metadata": {},
     "output_type": "execute_result"
    }
   ],
   "source": [
    "data.columns"
   ]
  },
  {
   "cell_type": "code",
   "execution_count": 6,
   "metadata": {},
   "outputs": [
    {
     "data": {
      "text/plain": [
       "array(['human_aging', 'medical_genetics', 'high_school_biology',\n",
       "       'college_chemistry', 'college_physics', 'conceptual_physics',\n",
       "       'global_facts', 'None', 'unknown', 'computer_security',\n",
       "       'high_school_chemistry', 'anatomy', 'nutrition', 'human_sexuality',\n",
       "       'astronomy', 'high_school_computer_science', 'virology',\n",
       "       'electrical_engineering', 'college_medicine', 'college_biology',\n",
       "       'college_computer_science', 'human_aging, nutrition',\n",
       "       'high_school_physics', 'geology', 'art', 'college_science',\n",
       "       'safety', 'civil_engineering', 'new_technology_in_industry',\n",
       "       'engineering', 'data_visualization',\n",
       "       'human_sexuality, medical_genetics', 'environmental_science',\n",
       "       'music_performance', 'logistics', 'None, medical_genetics',\n",
       "       'astronomy, college_physics', 'construction_tools',\n",
       "       'astronomy, college_biology', 'astronomy, conceptual_physics',\n",
       "       'anatomy, college_chemistry', 'safety_education',\n",
       "       'investigation_records'], dtype=object)"
      ]
     },
     "execution_count": 6,
     "metadata": {},
     "output_type": "execute_result"
    }
   ],
   "source": [
    "data['new_domains'].unique()"
   ]
  },
  {
   "cell_type": "code",
   "execution_count": 5,
   "metadata": {},
   "outputs": [
    {
     "data": {
      "text/plain": [
       "(42720, 5)"
      ]
     },
     "execution_count": 5,
     "metadata": {},
     "output_type": "execute_result"
    }
   ],
   "source": [
    "data.shape"
   ]
  },
  {
   "cell_type": "code",
   "execution_count": 6,
   "metadata": {},
   "outputs": [
    {
     "data": {
      "text/html": [
       "<div>\n",
       "<style scoped>\n",
       "    .dataframe tbody tr th:only-of-type {\n",
       "        vertical-align: middle;\n",
       "    }\n",
       "\n",
       "    .dataframe tbody tr th {\n",
       "        vertical-align: top;\n",
       "    }\n",
       "\n",
       "    .dataframe thead th {\n",
       "        text-align: right;\n",
       "    }\n",
       "</style>\n",
       "<table border=\"1\" class=\"dataframe\">\n",
       "  <thead>\n",
       "    <tr style=\"text-align: right;\">\n",
       "      <th></th>\n",
       "      <th>docid</th>\n",
       "      <th>question</th>\n",
       "      <th>content</th>\n",
       "      <th>src</th>\n",
       "      <th>new_domains</th>\n",
       "    </tr>\n",
       "  </thead>\n",
       "  <tbody>\n",
       "    <tr>\n",
       "      <th>33360</th>\n",
       "      <td>c73343e8-395d-40d0-854a-529d11c4e194</td>\n",
       "      <td>천문학자들은 어떤 대상을 연구하나요?</td>\n",
       "      <td>천문학자와 생물학자는 과학의 다른 영역을 연구합니다. 천문학자들은 하늘에 있는 매우...</td>\n",
       "      <td>ko_ai2_arc__ARC_Challenge__train</td>\n",
       "      <td>astronomy, college_biology</td>\n",
       "    </tr>\n",
       "    <tr>\n",
       "      <th>33361</th>\n",
       "      <td>c73343e8-395d-40d0-854a-529d11c4e194</td>\n",
       "      <td>생물학자들은 어떤 객체를 연구하나요?</td>\n",
       "      <td>천문학자와 생물학자는 과학의 다른 영역을 연구합니다. 천문학자들은 하늘에 있는 매우...</td>\n",
       "      <td>ko_ai2_arc__ARC_Challenge__train</td>\n",
       "      <td>astronomy, college_biology</td>\n",
       "    </tr>\n",
       "    <tr>\n",
       "      <th>33362</th>\n",
       "      <td>c73343e8-395d-40d0-854a-529d11c4e194</td>\n",
       "      <td>천문학자와 생물학자의 연구 방법에는 어떤 공통점이 있나요?</td>\n",
       "      <td>천문학자와 생물학자는 과학의 다른 영역을 연구합니다. 천문학자들은 하늘에 있는 매우...</td>\n",
       "      <td>ko_ai2_arc__ARC_Challenge__train</td>\n",
       "      <td>astronomy, college_biology</td>\n",
       "    </tr>\n",
       "    <tr>\n",
       "      <th>33363</th>\n",
       "      <td>c73343e8-395d-40d0-854a-529d11c4e194</td>\n",
       "      <td>광학 장치의 예시로 어떤 것들이 있나요?</td>\n",
       "      <td>천문학자와 생물학자는 과학의 다른 영역을 연구합니다. 천문학자들은 하늘에 있는 매우...</td>\n",
       "      <td>ko_ai2_arc__ARC_Challenge__train</td>\n",
       "      <td>astronomy, college_biology</td>\n",
       "    </tr>\n",
       "    <tr>\n",
       "      <th>33364</th>\n",
       "      <td>c73343e8-395d-40d0-854a-529d11c4e194</td>\n",
       "      <td>천문학자들이 사용하는 장치는 무엇인가요?</td>\n",
       "      <td>천문학자와 생물학자는 과학의 다른 영역을 연구합니다. 천문학자들은 하늘에 있는 매우...</td>\n",
       "      <td>ko_ai2_arc__ARC_Challenge__train</td>\n",
       "      <td>astronomy, college_biology</td>\n",
       "    </tr>\n",
       "    <tr>\n",
       "      <th>33365</th>\n",
       "      <td>c73343e8-395d-40d0-854a-529d11c4e194</td>\n",
       "      <td>생물학자들이 사용하는 장치는 무엇인가요?</td>\n",
       "      <td>천문학자와 생물학자는 과학의 다른 영역을 연구합니다. 천문학자들은 하늘에 있는 매우...</td>\n",
       "      <td>ko_ai2_arc__ARC_Challenge__train</td>\n",
       "      <td>astronomy, college_biology</td>\n",
       "    </tr>\n",
       "    <tr>\n",
       "      <th>33366</th>\n",
       "      <td>c73343e8-395d-40d0-854a-529d11c4e194</td>\n",
       "      <td>광학 장치를 사용하면 어떤 이점이 있나요?</td>\n",
       "      <td>천문학자와 생물학자는 과학의 다른 영역을 연구합니다. 천문학자들은 하늘에 있는 매우...</td>\n",
       "      <td>ko_ai2_arc__ARC_Challenge__train</td>\n",
       "      <td>astronomy, college_biology</td>\n",
       "    </tr>\n",
       "    <tr>\n",
       "      <th>33367</th>\n",
       "      <td>c73343e8-395d-40d0-854a-529d11c4e194</td>\n",
       "      <td>천문학자와 생물학자는 어떤 분야의 연구자들인가요?</td>\n",
       "      <td>천문학자와 생물학자는 과학의 다른 영역을 연구합니다. 천문학자들은 하늘에 있는 매우...</td>\n",
       "      <td>ko_ai2_arc__ARC_Challenge__train</td>\n",
       "      <td>astronomy, college_biology</td>\n",
       "    </tr>\n",
       "    <tr>\n",
       "      <th>33368</th>\n",
       "      <td>c73343e8-395d-40d0-854a-529d11c4e194</td>\n",
       "      <td>천문학자와 생물학자가 연구하는 대상은 어떻게 다르나요?</td>\n",
       "      <td>천문학자와 생물학자는 과학의 다른 영역을 연구합니다. 천문학자들은 하늘에 있는 매우...</td>\n",
       "      <td>ko_ai2_arc__ARC_Challenge__train</td>\n",
       "      <td>astronomy, college_biology</td>\n",
       "    </tr>\n",
       "    <tr>\n",
       "      <th>33369</th>\n",
       "      <td>c73343e8-395d-40d0-854a-529d11c4e194</td>\n",
       "      <td>광학 장치가 발견에 미치는 영향은 무엇인가요?</td>\n",
       "      <td>천문학자와 생물학자는 과학의 다른 영역을 연구합니다. 천문학자들은 하늘에 있는 매우...</td>\n",
       "      <td>ko_ai2_arc__ARC_Challenge__train</td>\n",
       "      <td>astronomy, college_biology</td>\n",
       "    </tr>\n",
       "  </tbody>\n",
       "</table>\n",
       "</div>"
      ],
      "text/plain": [
       "                                      docid                          question  \\\n",
       "33360  c73343e8-395d-40d0-854a-529d11c4e194              천문학자들은 어떤 대상을 연구하나요?   \n",
       "33361  c73343e8-395d-40d0-854a-529d11c4e194              생물학자들은 어떤 객체를 연구하나요?   \n",
       "33362  c73343e8-395d-40d0-854a-529d11c4e194  천문학자와 생물학자의 연구 방법에는 어떤 공통점이 있나요?   \n",
       "33363  c73343e8-395d-40d0-854a-529d11c4e194            광학 장치의 예시로 어떤 것들이 있나요?   \n",
       "33364  c73343e8-395d-40d0-854a-529d11c4e194            천문학자들이 사용하는 장치는 무엇인가요?   \n",
       "33365  c73343e8-395d-40d0-854a-529d11c4e194            생물학자들이 사용하는 장치는 무엇인가요?   \n",
       "33366  c73343e8-395d-40d0-854a-529d11c4e194           광학 장치를 사용하면 어떤 이점이 있나요?   \n",
       "33367  c73343e8-395d-40d0-854a-529d11c4e194       천문학자와 생물학자는 어떤 분야의 연구자들인가요?   \n",
       "33368  c73343e8-395d-40d0-854a-529d11c4e194    천문학자와 생물학자가 연구하는 대상은 어떻게 다르나요?   \n",
       "33369  c73343e8-395d-40d0-854a-529d11c4e194         광학 장치가 발견에 미치는 영향은 무엇인가요?   \n",
       "\n",
       "                                                 content  \\\n",
       "33360  천문학자와 생물학자는 과학의 다른 영역을 연구합니다. 천문학자들은 하늘에 있는 매우...   \n",
       "33361  천문학자와 생물학자는 과학의 다른 영역을 연구합니다. 천문학자들은 하늘에 있는 매우...   \n",
       "33362  천문학자와 생물학자는 과학의 다른 영역을 연구합니다. 천문학자들은 하늘에 있는 매우...   \n",
       "33363  천문학자와 생물학자는 과학의 다른 영역을 연구합니다. 천문학자들은 하늘에 있는 매우...   \n",
       "33364  천문학자와 생물학자는 과학의 다른 영역을 연구합니다. 천문학자들은 하늘에 있는 매우...   \n",
       "33365  천문학자와 생물학자는 과학의 다른 영역을 연구합니다. 천문학자들은 하늘에 있는 매우...   \n",
       "33366  천문학자와 생물학자는 과학의 다른 영역을 연구합니다. 천문학자들은 하늘에 있는 매우...   \n",
       "33367  천문학자와 생물학자는 과학의 다른 영역을 연구합니다. 천문학자들은 하늘에 있는 매우...   \n",
       "33368  천문학자와 생물학자는 과학의 다른 영역을 연구합니다. 천문학자들은 하늘에 있는 매우...   \n",
       "33369  천문학자와 생물학자는 과학의 다른 영역을 연구합니다. 천문학자들은 하늘에 있는 매우...   \n",
       "\n",
       "                                    src                 new_domains  \n",
       "33360  ko_ai2_arc__ARC_Challenge__train  astronomy, college_biology  \n",
       "33361  ko_ai2_arc__ARC_Challenge__train  astronomy, college_biology  \n",
       "33362  ko_ai2_arc__ARC_Challenge__train  astronomy, college_biology  \n",
       "33363  ko_ai2_arc__ARC_Challenge__train  astronomy, college_biology  \n",
       "33364  ko_ai2_arc__ARC_Challenge__train  astronomy, college_biology  \n",
       "33365  ko_ai2_arc__ARC_Challenge__train  astronomy, college_biology  \n",
       "33366  ko_ai2_arc__ARC_Challenge__train  astronomy, college_biology  \n",
       "33367  ko_ai2_arc__ARC_Challenge__train  astronomy, college_biology  \n",
       "33368  ko_ai2_arc__ARC_Challenge__train  astronomy, college_biology  \n",
       "33369  ko_ai2_arc__ARC_Challenge__train  astronomy, college_biology  "
      ]
     },
     "execution_count": 6,
     "metadata": {},
     "output_type": "execute_result"
    }
   ],
   "source": [
    "data[data['docid']=='c73343e8-395d-40d0-854a-529d11c4e194']"
   ]
  },
  {
   "cell_type": "code",
   "execution_count": 20,
   "metadata": {},
   "outputs": [
    {
     "name": "stderr",
     "output_type": "stream",
     "text": [
      "                                                             \r"
     ]
    },
    {
     "name": "stdout",
     "output_type": "stream",
     "text": [
      "Epoch 1/2, Loss: 0.0012\n"
     ]
    },
    {
     "name": "stderr",
     "output_type": "stream",
     "text": [
      "                                                             "
     ]
    },
    {
     "name": "stdout",
     "output_type": "stream",
     "text": [
      "Epoch 2/2, Loss: 0.0000\n"
     ]
    },
    {
     "name": "stderr",
     "output_type": "stream",
     "text": [
      "\r"
     ]
    }
   ],
   "source": [
    "import torch\n",
    "import torch.nn as nn\n",
    "import torch.optim as optim\n",
    "from torch.utils.data import Dataset, DataLoader\n",
    "from transformers import AutoTokenizer, AutoModel\n",
    "from tqdm import tqdm\n",
    "\n",
    "# 데이터셋 정의\n",
    "class PositivePairDataset(Dataset):\n",
    "    def __init__(self, questions, contents, tokenizer, max_length=128):\n",
    "        self.questions = questions\n",
    "        self.contents = contents\n",
    "        self.tokenizer = tokenizer\n",
    "        self.max_length = max_length\n",
    "\n",
    "    def __len__(self):\n",
    "        return len(self.questions)\n",
    "\n",
    "    def __getitem__(self, idx):\n",
    "        question = self.questions[idx]\n",
    "        content = self.contents[idx]\n",
    "\n",
    "        # 질문과 컨텐츠를 각각 토큰화\n",
    "        question_encoding = self.tokenizer(\n",
    "            question,\n",
    "            max_length=self.max_length,\n",
    "            padding='max_length',\n",
    "            truncation=True,\n",
    "            return_tensors='pt'\n",
    "        )\n",
    "        content_encoding = self.tokenizer(\n",
    "            content,\n",
    "            max_length=self.max_length,\n",
    "            padding='max_length',\n",
    "            truncation=True,\n",
    "            return_tensors='pt'\n",
    "        )\n",
    "\n",
    "        return {\n",
    "            'question_input_ids': question_encoding['input_ids'].squeeze(),\n",
    "            'question_attention_mask': question_encoding['attention_mask'].squeeze(),\n",
    "            'content_input_ids': content_encoding['input_ids'].squeeze(),\n",
    "            'content_attention_mask': content_encoding['attention_mask'].squeeze()\n",
    "        }\n",
    "\n",
    "# 모델 정의\n",
    "class SimilarityModel(nn.Module):\n",
    "    def __init__(self, model_name):\n",
    "        super(SimilarityModel, self).__init__()\n",
    "        self.model = AutoModel.from_pretrained(model_name)\n",
    "        self.fc = nn.Linear(self.model.config.hidden_size * 2, 1)\n",
    "\n",
    "    def forward(self, question_input_ids, question_attention_mask, content_input_ids, content_attention_mask):\n",
    "        # 질문 임베딩 추출\n",
    "        question_output = self.model(\n",
    "            input_ids=question_input_ids,\n",
    "            attention_mask=question_attention_mask\n",
    "        )\n",
    "        question_embedding = question_output.pooler_output\n",
    "\n",
    "        # 컨텐츠 임베딩 추출\n",
    "        content_output = self.model(\n",
    "            input_ids=content_input_ids,\n",
    "            attention_mask=content_attention_mask\n",
    "        )\n",
    "        content_embedding = content_output.pooler_output\n",
    "\n",
    "        # 질문과 컨텐츠 임베딩을 합쳐서 유사도 예측\n",
    "        combined_embedding = torch.cat((question_embedding, content_embedding), dim=1)\n",
    "        similarity_score = self.fc(combined_embedding)\n",
    "\n",
    "        return similarity_score\n",
    "\n",
    "# 학습 루프 정의\n",
    "def train(model, dataloader, optimizer, criterion, device):\n",
    "    model.train()\n",
    "    total_loss = 0\n",
    "\n",
    "    for batch in tqdm(dataloader, desc=\"Training\", leave=False):\n",
    "        # 입력 데이터 준비\n",
    "        question_input_ids = batch['question_input_ids'].to(device)\n",
    "        question_attention_mask = batch['question_attention_mask'].to(device)\n",
    "        content_input_ids = batch['content_input_ids'].to(device)\n",
    "        content_attention_mask = batch['content_attention_mask'].to(device)\n",
    "\n",
    "        # 모델 예측 및 손실 계산\n",
    "        optimizer.zero_grad()\n",
    "        similarity_score = model(question_input_ids, question_attention_mask, content_input_ids, content_attention_mask)\n",
    "        labels = torch.ones(similarity_score.size()).to(device)  # 긍정 쌍이므로 모든 레이블은 1\n",
    "        loss = criterion(similarity_score, labels)\n",
    "\n",
    "        # 역전파 및 최적화\n",
    "        loss.backward()\n",
    "        optimizer.step()\n",
    "\n",
    "        total_loss += loss.item()\n",
    "\n",
    "    return total_loss / len(dataloader)\n",
    "\n",
    "# 하이퍼파라미터 및 데이터 로딩\n",
    "device = torch.device('cuda' if torch.cuda.is_available() else 'cpu')\n",
    "model_name = \"jhgan/ko-sroberta-multitask\"\n",
    "tokenizer = AutoTokenizer.from_pretrained(model_name)\n",
    "\n",
    "questions = data['question'].tolist()\n",
    "contents = data['content'].tolist()\n",
    "dataset = PositivePairDataset(questions, contents, tokenizer)\n",
    "dataloader = DataLoader(dataset, batch_size=8, shuffle=True)\n",
    "\n",
    "# 모델, 옵티마이저, 손실 함수 설정\n",
    "model = SimilarityModel(model_name).to(device)\n",
    "optimizer = optim.Adam(model.parameters(), lr=1e-5)\n",
    "criterion = nn.MSELoss()\n",
    "\n",
    "# 학습 실행\n",
    "num_epochs = 2\n",
    "for epoch in range(num_epochs):\n",
    "    avg_loss = train(model, dataloader, optimizer, criterion, device)\n",
    "    print(f\"Epoch {epoch + 1}/{num_epochs}, Loss: {avg_loss:.4f}\")"
   ]
  },
  {
   "cell_type": "code",
   "execution_count": 21,
   "metadata": {},
   "outputs": [
    {
     "name": "stdout",
     "output_type": "stream",
     "text": [
      "Model saved successfully.\n"
     ]
    }
   ],
   "source": [
    "# 모델 저장\n",
    "torch.save(model.state_dict(), \"similarity_model.pth\")\n",
    "print(\"Model saved successfully.\")"
   ]
  }
 ],
 "metadata": {
  "kernelspec": {
   "display_name": "base",
   "language": "python",
   "name": "python3"
  },
  "language_info": {
   "codemirror_mode": {
    "name": "ipython",
    "version": 3
   },
   "file_extension": ".py",
   "mimetype": "text/x-python",
   "name": "python",
   "nbconvert_exporter": "python",
   "pygments_lexer": "ipython3",
   "version": "3.10.13"
  }
 },
 "nbformat": 4,
 "nbformat_minor": 2
}
