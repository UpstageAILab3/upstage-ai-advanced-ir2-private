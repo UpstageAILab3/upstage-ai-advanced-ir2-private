{
 "cells": [
  {
   "cell_type": "markdown",
   "metadata": {},
   "source": [
    "submission 파일에서 standalone_query 를 추출"
   ]
  },
  {
   "cell_type": "code",
   "execution_count": 13,
   "metadata": {},
   "outputs": [],
   "source": [
    "submission_filename = 'submission_026.csv'\n",
    "output_filename = 'standalone_query_from_submission.jsonl'"
   ]
  },
  {
   "cell_type": "code",
   "execution_count": 14,
   "metadata": {},
   "outputs": [],
   "source": [
    "import json\n",
    "\n",
    "# 두 파일에서 topk 항목을 불러옴\n",
    "def load_jsonl(file_path):\n",
    "    with open(file_path) as f:\n",
    "        ret = [json.loads(line) for line in f]\n",
    "    return ret\n",
    "\n",
    "submission_list = load_jsonl(submission_filename)\n",
    "standalone_query_dic_list = []\n",
    "\n",
    "for item in submission_list:\n",
    "    standalone_query_dic = {\n",
    "        'eval_id': item['eval_id'],\n",
    "        'standalone_query': item['standalone_query'],\n",
    "    }\n",
    "    \n",
    "    standalone_query_dic_list.append(standalone_query_dic)\n",
    "\n",
    "with open(output_filename, 'w') as f:\n",
    "    for item in standalone_query_dic_list:\n",
    "        json_line = json.dumps(item, ensure_ascii=False)  # JSON 객체를 문자열로 변환\n",
    "        f.write(json_line + '\\n')     # 각 객체를 한 줄에 작성"
   ]
  }
 ],
 "metadata": {
  "kernelspec": {
   "display_name": "Python 3",
   "language": "python",
   "name": "python3"
  },
  "language_info": {
   "codemirror_mode": {
    "name": "ipython",
    "version": 3
   },
   "file_extension": ".py",
   "mimetype": "text/x-python",
   "name": "python",
   "nbconvert_exporter": "python",
   "pygments_lexer": "ipython3",
   "version": "3.8.20"
  }
 },
 "nbformat": 4,
 "nbformat_minor": 2
}
