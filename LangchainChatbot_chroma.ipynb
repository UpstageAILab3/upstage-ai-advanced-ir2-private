{
  "cells": [
    {
      "cell_type": "code",
      "execution_count": null,
      "metadata": {},
      "outputs": [],
      "source": [
        "%pip install -U langchain-huggingface"
      ]
    },
    {
      "cell_type": "code",
      "execution_count": null,
      "metadata": {},
      "outputs": [],
      "source": [
        "%pip install chroma-migrate"
      ]
    },
    {
      "cell_type": "markdown",
      "metadata": {},
      "source": [
        "## 라이브러리 import"
      ]
    },
    {
      "cell_type": "code",
      "execution_count": 1,
      "metadata": {
        "id": "dNA4TsHpu6OM"
      },
      "outputs": [],
      "source": [
        "from langchain.vectorstores import Chroma\n",
        "from langchain.embeddings import OpenAIEmbeddings, SentenceTransformerEmbeddings\n",
        "from langchain.text_splitter import RecursiveCharacterTextSplitter\n",
        "from langchain.chat_models import ChatOpenAI\n",
        "from langchain.chains import RetrievalQA\n",
        "from langchain.document_loaders import TextLoader, DirectoryLoader\n",
        "from collections import Counter, defaultdict\n",
        "from langchain.docstore.document import Document\n",
        "import os\n",
        "import glob\n",
        "import json\n",
        "from dotenv import load_dotenv\n",
        "from langchain_huggingface import HuggingFaceEmbeddings\n",
        "from langchain_openai import ChatOpenAI # 랭체인 llm용\n"
      ]
    },
    {
      "cell_type": "markdown",
      "metadata": {},
      "source": [
        "## openai 연결"
      ]
    },
    {
      "cell_type": "code",
      "execution_count": 2,
      "metadata": {
        "id": "XHVE9uFb3Ajj"
      },
      "outputs": [],
      "source": [
        "\n",
        "# .env 파일에서 환경 변수를 로드\n",
        "load_dotenv(\"/data/ephemeral/home/upstage-ai-advanced-ir2-private/OPENAI_API_KEY.env\")\n",
        "\n",
        "# API 키 불러오기\n",
        "api_key = os.getenv(\"OPENAI_API_KEY\")\n",
        "\n",
        "# API 키를 사용하여 설정\n",
        "if api_key:\n",
        "    os.environ[\"OPENAI_API_KEY\"] = api_key\n",
        "else:\n",
        "    raise ValueError(\"API key not found. Please check your .env file.\")\n",
        "\n",
        "#print(f\"OpenAI API Key: {api_key}\")  # 필요시 확인용\n"
      ]
    },
    {
      "cell_type": "markdown",
      "metadata": {
        "id": "9UcQKUId3X2M"
      },
      "source": [
        "## 데이터 불러오기 & 내용 확인"
      ]
    },
    {
      "cell_type": "code",
      "execution_count": 3,
      "metadata": {
        "colab": {
          "base_uri": "https://localhost:8080/"
        },
        "id": "PRSeXXc_3Ypj",
        "outputId": "cbc6e01b-fb4e-4c90-ffc3-9ed2e43eaf61"
      },
      "outputs": [
        {
          "name": "stdout",
          "output_type": "stream",
          "text": [
            "문서의 개수: 4272\n"
          ]
        }
      ],
      "source": [
        "# JSONL 파일을 로드하기 위한 커스텀 로더\n",
        "class JSONLLoader:\n",
        "    def __init__(self, directory, file_pattern):\n",
        "        self.directory = directory\n",
        "        self.file_pattern = file_pattern\n",
        "\n",
        "    def load(self):\n",
        "        # 주어진 디렉토리에서 파일 패턴에 맞는 파일들 찾기\n",
        "        file_paths = glob.glob(os.path.join(self.directory, self.file_pattern))\n",
        "        documents = []\n",
        "        # 각 파일에서 데이터를 읽고 JSON으로 변환하여 리스트에 추가\n",
        "        for file_path in file_paths:\n",
        "            with open(file_path, 'r', encoding='utf-8') as f:\n",
        "                for line in f:\n",
        "                    document = json.loads(line.strip())\n",
        "                    documents.append(document)\n",
        "        return documents\n",
        "\n",
        "loader = JSONLLoader(\n",
        "    '/data/ephemeral/home/upstage-ai-advanced-ir2-private/data/',\n",
        "    'documents.jsonl'\n",
        ")\n",
        "documents = loader.load()\n",
        "print('문서의 개수:', len(documents))\n"
      ]
    },
    {
      "cell_type": "code",
      "execution_count": 4,
      "metadata": {
        "colab": {
          "base_uri": "https://localhost:8080/"
        },
        "id": "8iNbsE9Sw-eC",
        "outputId": "e11ba3ea-17e9-4b14-d304-543f84883b52"
      },
      "outputs": [
        {
          "name": "stdout",
          "output_type": "stream",
          "text": [
            "1번 문서 : {'docid': '4a437e7f-16c1-4c62-96b9-f173d44f4339', 'src': 'ko_mmlu__conceptual_physics__test', 'content': '수소, 산소, 질소 가스의 혼합물에서 평균 속도가 가장 빠른 분자는 수소입니다. 수소 분자는 가장 가볍고 작은 원자로 구성되어 있기 때문에 다른 분자들보다 더 빠르게 움직입니다. 이러한 이유로 수소 분자는 주어진 온도에서 가장 빠른 평균 속도를 가지고 있습니다. 수소 분자는 화학 반응에서도 활발하게 참여하며, 수소 연료로도 널리 사용됩니다. 따라서 수소 분자는 주어진 온도에서 평균 속도가 가장 빠른 분자입니다.'}\n",
            "--------------------\n",
            "21번 문서 : {'docid': '7f3f4e9a-914b-4eae-8cf9-88f3879f6051', 'src': 'ko_mmlu__computer_security__test', 'content': '웹 프록시는 웹 브라우저와 웹 서버 간의 요청과 응답을 가로채고, 필요한 경우 수정하는 소프트웨어 조각입니다. 이는 사용자가 웹 브라우저를 통해 웹 서버에 접속할 때 중간에 위치하여 데이터를 중계하는 역할을 합니다. 웹 프록시는 사용자의 요청을 받아서 웹 서버로 전달하고, 웹 서버의 응답을 받아서 사용자에게 전달합니다. 이 과정에서 웹 프록시는 요청과 응답을 가로채어 필요한 경우 수정할 수 있습니다. 예를 들어, 웹 프록시는 광고를 제거하거나 웹 페이지의 콘텐츠를 압축하여 더 빠른 로딩을 제공할 수 있습니다. 또한, 웹 프록시는 보안을 강화하기 위해 사용자의 요청을 검사하고 악성 코드를 차단할 수도 있습니다. 웹 프록시는 네트워크 트래픽을 모니터링하고 분석하는 기능도 가지고 있어서, 네트워크 관리자가 트래픽 상황을 파악하고 최적화할 수 있습니다. 웹 프록시는 웹 서버와 웹 브라우저 사이에서 중개자 역할을 수행하여 웹 사용 경험을 개선하는데 도움을 줍니다.'}\n",
            "--------------------\n"
          ]
        }
      ],
      "source": [
        "print('1번 문서 :', documents[1])\n",
        "print('-' * 20)\n",
        "print('21번 문서 :', documents[21])\n",
        "print('-' * 20)"
      ]
    },
    {
      "cell_type": "markdown",
      "metadata": {},
      "source": [
        "## 데이터 청크 분할"
      ]
    },
    {
      "cell_type": "code",
      "execution_count": 5,
      "metadata": {},
      "outputs": [
        {
          "name": "stdout",
          "output_type": "stream",
          "text": [
            "분할된 텍스트의 개수 : 4921\n"
          ]
        }
      ],
      "source": [
        "# 1. 문서 로드 및 청크 분할\n",
        "# Document 객체로 변환 (page_content는 content 필드로 설정, chunkid는 존재할 때만 사용)\n",
        "document_objects = [\n",
        "    Document(\n",
        "        page_content=doc[\"content\"],\n",
        "        metadata={\n",
        "            \"docid\": doc[\"docid\"],\n",
        "            \"src\": doc[\"src\"]  # chunkid가 없으면 None으로 설정\n",
        "        }\n",
        "    ) for doc in documents\n",
        "]\n",
        "\n",
        "# 텍스트 분할기 정의\n",
        "text_splitter = RecursiveCharacterTextSplitter(chunk_size=400, chunk_overlap=100)\n",
        "\n",
        "# Document 객체에서 content를 분할\n",
        "split_documents = text_splitter.split_documents(document_objects)\n",
        "\n",
        "# 분할된 텍스트의 개수를 출력\n",
        "print('분할된 텍스트의 개수 :', len(split_documents))\n"
      ]
    },
    {
      "cell_type": "code",
      "execution_count": 6,
      "metadata": {},
      "outputs": [
        {
          "data": {
            "text/plain": [
              "Document(metadata={'docid': '42508ee0-c543-4338-878e-d98c6babee66', 'src': 'ko_mmlu__nutrition__test'}, page_content='건강한 사람이 에너지 균형을 평형 상태로 유지하는 것은 중요합니다. 에너지 균형은 에너지 섭취와 에너지 소비의 수학적 동등성을 의미합니다. 일반적으로 건강한 사람은 1-2주의 기간 동안 에너지 균형을 달성합니다. 이 기간 동안에는 올바른 식단과 적절한 운동을 통해 에너지 섭취와 에너지 소비를 조절해야 합니다. 식단은 영양가 있는 식품을 포함하고, 적절한 칼로리를 섭취해야 합니다. 또한, 운동은 에너지 소비를 촉진시키고 근육을 강화시킵니다. 이렇게 에너지 균형을 유지하면 건강을 유지하고 비만이나 영양 실조와 같은 문제를 예방할 수 있습니다. 따라서 건강한 사람은 에너지 균형을 평형 상태로 유지하는 것이 중요하며, 이를 위해 1-2주의 기간 동안 식단과 운동을 조절해야 합니다.')"
            ]
          },
          "execution_count": 6,
          "metadata": {},
          "output_type": "execute_result"
        }
      ],
      "source": [
        "split_documents[0]"
      ]
    },
    {
      "cell_type": "code",
      "execution_count": 7,
      "metadata": {},
      "outputs": [
        {
          "name": "stdout",
          "output_type": "stream",
          "text": [
            "2개 이상으로 분할된 문서 : {'d3c68be5-9cb1-4d6e-ba18-5f81cf89affb': 2, '74f22819-1a8e-4646-8a9d-13323de8cdb8': 2, '80feb7f2-1b24-4a9d-87a3-4976e9304e74': 2, '418e1e6c-c2de-4ffb-aded-0992fe833776': 2, '7245d870-2ead-460b-97b2-aa6208c4ba29': 2, '7f3f4e9a-914b-4eae-8cf9-88f3879f6051': 2, 'e6c6ebd0-cb3a-4c52-955c-37723cd13864': 2, 'a65fb25c-f9c0-4822-b824-71141f2b6a09': 2, '814dd12b-62a4-4a79-99d2-82fa39ba76e3': 2, '5c6a539a-b7c9-43ff-ac7d-c92501af5a5b': 2, 'dd5fff95-420f-46fa-a624-5e74f73e56a7': 2, '67d746ab-9fe8-4945-b986-4fb4bf0cbd10': 2, '31b1e0a2-699e-49e6-97a1-6be60a5ee1a0': 2, 'df7dd7f7-7ed9-4e8e-bf7d-546c0c7fee92': 2, 'eda417a2-9251-4fa4-bd7b-dcc7129c9620': 2, '548598c3-eec1-4c0c-8c0f-f6c3ca65b010': 2, '949507ee-6275-4b21-9ebc-eec46a7e89d2': 2, '209121c3-69df-414a-a1b9-c74a1b14384f': 2, '233a0770-8633-46ab-b1e2-ac351df1b50e': 2, '35c5dcc7-4720-4318-901e-770105ae63fd': 2, '17e6e494-dbc2-4d6f-92b7-c160a0b47a8b': 2, '00c4ac0d-e778-4a02-b725-f25b97109d75': 2, 'a4370eb4-6677-4bb8-a1e0-ee3d54107902': 2, 'bb5b9538-30e3-40d3-8c2a-9e635759f111': 2, '86f5ed70-2668-4d6e-b956-d18961339aea': 2, '0a6daded-a757-471b-9f2c-daba0aa78e59': 2, '20eb1372-7098-4348-8ce0-153b52fcece8': 2, '74770db8-9c70-4f2b-a699-b2b63e24f1a8': 2, 'defc3753-9b33-4f31-b040-6bb64a4d208c': 2, 'e2f09d90-282e-43ae-b54f-b686178cde30': 3, 'c83a8dc3-6485-4295-b655-ddd6356c0380': 2, 'b137486e-c303-46f8-8cc2-618e103a156c': 2, 'e153a1c2-d547-4aab-9569-aaccd4ef92ad': 2, '6a8b4d1c-1b9e-4f6d-8a01-8f48934ceb7d': 2, '398ba2b3-5376-4067-8245-b038ac565a80': 2, '46c04632-ef46-4cc7-8185-a50c8a0e80bb': 2, '4402641f-d35a-4024-b1fb-e89953cb55d9': 2, '144ddf85-a978-42ee-a850-f352824129ff': 2, '574349c8-c661-4ee2-9f8c-199f6c35ed85': 2, 'c3021e08-3985-4508-855b-1c84444dabf8': 2, 'fe1c58ae-f039-4ab6-b4dc-f3ea59b10d94': 2, '2b0016b4-f2de-449b-bfe9-a4d5e50c6d65': 2, 'c8fd4323-9af9-4a0d-ab53-e563c71f9795': 2, 'c229a525-9cb5-447b-8b42-33e4a190f794': 2, 'f4241bc6-9809-4747-ad28-53c8993ff8af': 2, '7b79333c-ae38-41d3-b786-c03635019ee7': 2, '9914ac16-124f-4d12-a19a-245ce882edce': 2, 'eacd91dc-ef51-4b81-a6f9-830894c09ea4': 2, '1dc70815-2d4d-4b09-a03e-54005e7863b9': 2, '4c7ecaa7-bd0e-44cc-b7cd-3aa9b47c8648': 2, 'b66b9bc2-58c4-4677-8cbf-8f3295a40197': 3, '2566f872-32e5-4def-8ed9-3341740e81e8': 2, '890e6710-6ef0-47e5-9deb-e79553e1b061': 2, '96a2c24e-294b-4835-bc44-715d27ab6fed': 2, 'e9cb6a69-c160-4884-b3ad-a1e5eee307a9': 2, 'c5122eab-4080-4ae9-aca2-357774e70d3e': 2, '468d098e-2322-4950-ac11-9756f3112944': 2, '2a920d7c-a21b-4595-8987-8716977118e5': 2, 'd866583b-31dc-4e89-8bed-12b3974dea0f': 2, '460ab2c8-36ab-4147-946b-c6b06cae61b8': 2, '8bff044d-123f-461f-b6ff-6fda99a79829': 2, 'b92bd67b-1873-4574-aa6d-f03c02cc5c4c': 2, '2ead477a-07ee-45da-ad55-cfbfb84051c5': 2, '91d3ad9f-5497-44d4-84f0-8e430a8ac9cb': 2, '6e67f296-3c98-4b68-8979-5fecc5a41d57': 3, '2cf7c9e0-9fd8-41e0-a1ee-528573e2831a': 2, '7a5462d3-efe2-4151-8a89-7a6a910a7cf7': 2, '11dddee4-13ed-41c4-90e0-ea89b677c16c': 2, '4bce1c3f-d5ee-4470-90d0-1d81a647576c': 2, 'f69eb3f1-38e0-439d-a950-b257c857a6f6': 2, '1b2e9c00-8d77-4b3c-80cf-aadd7809f452': 2, 'ae582526-1a63-4bf7-a8ae-4a14e2145e71': 2, '6438eb7e-39aa-47af-be97-ca8d82b7cddd': 2, '765c2cf8-bc66-4a8d-80d9-fc1f9cb75e5e': 2, 'c8bd9b15-8ce0-4307-9f49-0f205217178f': 2, 'f7ede7c9-fa3f-45a4-8f69-5e54a2635920': 3, 'ad56325d-400f-416c-b5de-2053eedecac4': 2, '76fceec7-a64a-4c1c-8308-d60d3d379729': 2, 'a8bdf038-e75e-4646-a754-1374784a901a': 2, '68ec9c78-13f8-49b9-96d9-b3040a2f4771': 2, '6bc577b2-64bb-45bb-83f1-afd862940497': 2, '8869eaec-af8e-472d-b0af-35043a9c6823': 2, '3acb3360-c50b-41bf-a739-ebe0a90aa5e7': 3, 'acc55ae3-8cc6-411f-9324-8e32f54eac75': 3, 'e7d89482-4ee2-4d63-8c3d-27b43aefb85d': 2, '08f09ceb-b11d-40f8-9817-09d44d9a2bc5': 4, '0b9ae559-96c2-46b8-b046-6cf4639e3aae': 2, '7d6e9b48-4108-4f89-a8fe-5f82a9d59950': 2, 'f6172329-b3f6-4c37-bd42-0c278f24be10': 2, 'a01ee235-5540-464f-be54-c3a850fa08c9': 2, '18a2b193-c01f-479b-aefc-eafa0a4b5e00': 2, '2eb0b0e4-3252-4e4d-982d-755fc4a8132e': 3, '851a17b0-9b62-4160-8d7f-7e17e6253b2d': 2, 'd8bea3ac-2cbc-462a-85be-7f2f6f67b7a0': 2, '60168639-7f9a-48c7-8d31-36f9042c66af': 2, 'ee73de88-fe75-4336-96f6-9ce4a320e324': 2, 'ca7ab9d1-a540-4c52-a6a1-688772f258d8': 2, '703266bd-9840-4bd3-8538-caf95b8171b1': 2, 'cb52a8a8-9935-4a74-b43d-08c3add05849': 2, '989ee59a-49c4-4cab-b17d-f90107a1c50f': 2, '36e459a5-f184-4175-9c55-2cee92133a11': 2, '00205c8c-34ca-4b43-a9e7-19c014eaab56': 3, 'ab41a1e2-9703-4c1b-afba-c73d8e342f1a': 2, '8fbc0751-12d6-4e70-9a6e-c38f414cc506': 3, 'fac5504c-29c5-455a-bc58-d34f8ca817c2': 2, '99a017c9-3d93-446f-a120-f992e36ef2a8': 2, '2d048930-6983-4a3e-956e-b0ecb26ca70d': 2, '6d500942-0744-4cf4-aee6-7c37b03482a7': 2, 'b786630c-ebfd-4285-819f-75ba6c31033b': 2, '4b1a35c9-fbb7-4abe-a05f-fc7caec4caa3': 2, '416e57d1-d61f-4ab5-a75f-95d53f8a0fce': 2, '6c393aa3-56fc-47af-b068-1365b97705f6': 2, '304851d2-f40a-4727-b9e1-254ba79a6276': 2, '147f526c-82c9-4001-8e68-77c909b73491': 2, '048e5cd1-a225-4956-80be-25c611e0ac43': 2, '3370df4d-35fe-4b71-8cb0-5b29dd536da3': 2, 'c8d07d65-6533-4f46-bb5f-785534f7afdb': 2, 'd9b94d8c-cd6b-41c3-a454-8146e5e42fa9': 2, 'e0eb4f9c-0065-4516-ba0a-93092ddc884e': 2, '06b5ddd1-b723-4133-94da-05ee5342de0c': 2, '1d0aac6f-3c93-4b94-be05-bcea0ef8e1b9': 2, 'cb572786-a957-483a-a367-1d5627ce836d': 2, 'e13fe18d-d4f1-416d-b0a4-65eba6ed54a4': 2, 'cce06cbb-c3f1-4f0b-abb3-ee8cc513b6c2': 2, '8cbad43f-3691-4659-b872-3903af9bbc19': 2, '56dc5323-72fe-4321-bdf4-880bbed35c5a': 2, '828c02d0-d692-42d4-bb5d-9941d327a46d': 2, 'e9b2c655-fa82-4b6d-9fe9-7592841b763b': 2, '1a8bdb16-d431-4784-8aac-e8aa1d458f3f': 2, '2e778b23-3814-4720-bdad-827b7c4e1172': 3, 'b516e251-01cf-4b22-ac72-62496684390a': 2, '6ade1103-4a6a-4826-9bd8-5fa39a1023d4': 2, 'ec323dbc-76f3-4094-ae84-4f1ea1b750b0': 2, '073b6298-0399-43d7-babd-1fb0220fcc8e': 2, 'a61a8700-d95b-4841-9eba-e0350b128b71': 2, 'da529b7c-d1e2-4201-a527-2b537a4e5790': 2, '0b269ea1-2650-4666-9958-500993921e03': 2, '84934dd1-81ad-4bb1-95e0-ccf02d38b49b': 2, '1cb4ff78-dab6-4e5d-8635-ce982971d3f9': 3, 'd4694d97-4958-449a-80b8-2f45d7a9e08e': 2, '0629c636-c746-413f-8d8a-c76ba40df1f4': 2, '904636b2-3653-4980-a476-4dd072c9647c': 2, '1a58b722-ce6c-4cf6-9285-9336c2967301': 5, 'b8b097ae-562c-4be2-8fbc-1c3116136a43': 2, 'd2f943f5-6b7d-41ec-9ccf-5bae98e4e196': 2, '5b269648-5d9f-4043-bcf5-962a8e5913e4': 2, '46e9683f-1ba0-4e93-83bc-1cde390e80e6': 2, 'd09273e8-0f47-49f1-bffa-93770ba02c1d': 4, '53d5065c-18ef-450a-ba4a-9c87343fd8c9': 2, '0f3ac55d-9266-4805-a055-04952f53ca3c': 2, '81988431-36c8-4068-9c8d-37f14c0c71ee': 2, '9220f0de-b448-4306-a107-89cf70ac645d': 2, 'de568218-deb0-4a58-bdeb-245251fd0e8b': 2, '35b115e9-f7da-4840-bf2d-0cda838fc217': 2, '1e9e6324-1882-466a-9a7d-af2b3a2184a7': 2, '1193e8ba-0a0d-4fc5-ac04-6e04a557d67f': 2, '78a3e002-e426-4766-b891-f2bd7a26ace3': 2, '14c6829d-80d8-4609-bab3-2309b9704f0a': 2, 'd243ee24-0beb-407b-bc4a-effdcc3e3aec': 2, '5c0da242-26ed-4a3f-b8b2-d36dd890a2f5': 2, '6e3b0253-50a3-4ab5-b387-2af50eccf264': 4, '228dbf7f-cc66-41c4-a3ec-06c82f2a5cee': 2, '943f11af-707a-4a95-b146-7508b186f01c': 2, 'ecf17fd0-6c69-4b8d-8578-cdb4c210d80d': 2, '91226a6d-8557-4849-ac33-d6a426a1e768': 2, '6c4e8b59-6669-4d20-ab9f-17d421d0376d': 2, '070881ac-7fd6-4a57-95aa-c680be5fa573': 2, 'fba1ad0f-890b-4c12-a75f-2d38348ce8b3': 2, '0b027b25-09ea-4b36-aa27-1404c497e5cf': 2, 'fc229826-7a16-43ce-a107-f83b76213277': 2, '28642e4d-43c4-4913-a110-21278d1e3b5d': 2, '4f1b60ce-5ac4-4356-8726-ef95ad0f2a0e': 2, '3a11a551-b4de-49be-9339-fad0caec5982': 2, 'c7825165-bba8-48bb-b124-6dfaf91b41e8': 2, '8316e15a-6695-448a-9834-8c3cba3e0019': 2, 'bbcda676-e53a-44e9-9bcb-aebdd2d9e81c': 3, '28aa4cc7-e82d-444c-9983-fff2c9bfb272': 2, '346ca98e-adfb-458f-b98c-d176ee8b3658': 2, 'c150305c-83a2-4deb-b749-7d7e1f4463d8': 2, '6059ecd0-04b2-44f8-a332-cc5c923f9ee2': 2, '306f7aa6-5dd6-43d7-ab5f-1b4676c25813': 4, 'cb5ac1c0-c184-49e5-8d74-05cafa7239f3': 3, '59d5d7bb-6700-40ad-8884-ff43b1a9a1a0': 2, 'd6229f7f-a638-4c5c-a00a-c5636b193685': 2, 'e7dfd660-1186-4b1b-b049-d9d3a52c3de8': 3, '85b9e3c7-f9c9-4ede-8dab-c88629c0ff3d': 2, '0aa9a26e-5b58-4ba6-91cf-a84683f3fbc5': 4, '1bddbb9f-75ed-4448-ba65-60b599259d8f': 2, '0542cccf-a277-4541-a069-9ea205bcd742': 2, 'd62c08f6-0f06-4cb3-996b-8ba54fe67e1e': 2, 'fe499288-06d4-4077-8933-6e9e48ece4b4': 2, '8f9105ee-c8f5-4488-90b7-fd3f9d61e210': 2, '8e1898da-f414-4eeb-a7e5-a2203e84267a': 2, '66f1f3e5-fb3f-4eec-a40b-c06afcef3414': 2, '07b6624b-7d22-4027-88a6-abaecc81c5a0': 2, '33e3811d-8fb9-4d08-a716-a947246ca1d6': 2, 'a3585582-47a4-4da8-a5e1-231d9fa06196': 2, 'dc575ed0-efc7-4b08-a7aa-23fdb5cf20eb': 2, 'f1be9c03-72b4-4c04-a0f9-97ea6820ea8f': 2, '0fbd5799-bc4a-40cf-ac5e-342123659992': 2, '7404b07e-7b4d-4668-9d1a-7742a063a4ce': 2, '0f8f36d5-0d56-4ae9-a574-b4d4808973ff': 4, 'b3aa0bcc-e344-402b-a4f0-5676ab80c5db': 2, '593dbea8-620f-4ac3-87ad-fd23e85540cc': 2, 'ea669c8e-8185-46f5-ab27-2d1d5494c32e': 2, 'd613bc03-5d70-4d80-9a31-fc645be674f5': 2, 'ea880558-779c-4b73-9e3f-a6649adc4921': 2, '4c3f2037-a023-4e77-85f3-4b9169b7cbdf': 2, 'c56117a6-89e8-4f73-b968-bf42805cc53f': 2, 'be684c0d-5356-4f53-ad97-1cb00fe310f9': 2, 'c41676e9-603e-41ae-88a6-be6a5674a1e7': 2, 'ce6cd854-468f-48a5-b257-ba412ba69b87': 2, 'ae30b754-a275-43dc-a2c9-95ab33a7c557': 2, 'cc91d200-6dc0-4c9e-9f52-da812ccbc08b': 2, '93fb1b5b-1f85-4fe2-b8d2-0f64cb18bd7e': 2, '5dd40a3d-c9ba-4f1d-8661-d457ee052d24': 2, '312063fb-1a2f-4479-a364-9fee7913163f': 2, '81a0ed68-ed93-4c24-b7ad-31d003ea2a06': 2, '18290d45-2bfc-42b3-be3c-a7b2ba0cd545': 2, '98d7caea-f122-48ca-bf20-b483f5a71ebc': 2, '2af86e94-eba3-462d-86f8-1008025c8992': 2, '211e8f31-954c-4f17-a6d2-1fc406860dad': 2, 'df7b45de-c0a5-42ec-a3fb-7ada61960a5d': 2, 'cf35f43d-b751-42ec-a02a-316e53d83c30': 2, '732ce92e-9915-4aed-b2a9-8a414590d21c': 2, '9b9ec6dc-2e5a-4f41-9008-3f5abcb50cd7': 2, '3ccf321c-6a56-415f-8510-dd14d1ec5bc1': 2, '5e91649e-800e-491f-a5ad-dfbcbcfb2a90': 2, 'f4222711-ad80-4ae5-8b31-c2add0cdf364': 2, '3655451d-7c18-4289-896d-5b0aa903dd05': 2, 'a9151fb2-dc30-4e83-9b9f-abb2cb0fd994': 2, '3a7460ab-7afa-4411-aa9e-201336b28df4': 2, '1e8d02ea-b91a-447f-8c5b-180af169af8b': 2, '3648f785-6ab4-4547-8a39-dedec6309112': 2, 'b34ef2fc-d195-4411-89dd-6b92ba137510': 2, '88439180-e442-4ecf-a485-88c7de0296e9': 2, '561c8031-5d9b-44f2-9ad9-07af40c6fabc': 2, 'c5ff713e-72cc-405f-bc18-b3abfbdf2ec1': 2, 'b7d6c94c-c9ef-4b98-862c-4cc21b115757': 2, 'd65f024b-b505-4786-a1e7-bc04fe3bc849': 2, '1709cb4c-ebc7-457b-b673-68d2b0782cc8': 2, '91eb7481-c316-47bb-9653-4f3d1a26fba3': 2, '25d9a49e-ee23-4e7a-b9d5-ca1a37ad6311': 3, '4dd3e75a-084a-4842-a430-e6edad75aac6': 2, 'e1c86893-206b-43d2-8900-b1dd40aeefa5': 4, '3aafac5e-d9ed-4f54-ad7f-09d182504f0c': 2, 'c7b32ae1-9b0a-4127-b7ed-bf27b9de1029': 3, '2b239894-e1b5-4165-80ce-f9b32c331104': 2, '7dfb303e-e0d0-49ef-afd4-29c2ade7d1e7': 2, '7bc7c5ea-c117-43a2-bba7-957d2e2d9f1a': 2, '031c98db-07bf-49be-a9bb-36c35fcfd744': 2, '9cd3d902-4e67-4292-9706-5fa89a135eac': 2, '01fe2a69-5bf5-4c19-bb05-31ee0714546d': 2, '8baf5f2a-9e8f-42b9-b71a-bdc9b8d165b4': 3, '6a163aee-6ebd-46d2-aeaa-ee911a8f42e6': 2, 'c14cb3c5-58a6-48a9-969a-4b25614c8588': 2, '06311d41-6eee-47a0-baff-34e879d13134': 2, 'c7c8fedf-e0e1-472d-b8f0-ea0627a51f65': 2, 'e741175e-7e6b-4023-80a7-df11806d2925': 2, 'd8d62248-9ac7-41da-92f0-471f14bf0bcc': 2, '017b108d-981a-414a-8231-217289082354': 2, '642e4e24-04cc-4108-b39d-8d69e1c939f9': 2, '0111c54a-ed58-420c-a288-144ab65b5e7e': 2, 'abce8ca8-4646-45b3-9a24-5dfd05d3f365': 2, '6583654a-c3c6-4fd4-96b5-287c55d01603': 2, '068de76f-8f7c-48e2-8bde-257a383d7fd5': 2, 'e1dafdec-3d2e-4fb0-8673-f2578199f94b': 3, '893a9645-fd0e-478b-a22b-2adb342c0e9c': 2, '51ffff21-0d1e-4f09-afc7-80877944b8f6': 2, '4b5d6e39-4b56-4d60-8df2-6422e309b4f4': 2, '8b7ebbd1-7878-417f-9f6e-c982c5519021': 2, '16af8acf-8416-4d8e-a540-a921cfbfa051': 2, 'd3782d8c-b29a-4ab1-9c06-32d074675536': 2, '82c49474-4338-471f-8fa4-9bedc9b6f021': 2, '1818c0df-4be6-4fd0-ab1e-c73e3c3cb660': 2, '8faee2a2-e19e-4d5c-8ef7-cc2ccd49b5b5': 2, 'd7b23bf7-71bb-490b-9d9d-45953d3c398b': 2, '5d648136-a9f5-4a0c-94f2-9ddadcd30817': 2, '7fe63f4b-eb4c-4eb4-96f1-c058a244a859': 2, '5327ebb7-a73e-4f1e-9609-0ecf56bd67c7': 2, '4f25d091-38d5-44de-b91a-ac73aee1ac35': 2, '293d2c65-1b0c-4dde-bae4-9aae8c6ca12c': 3, '169f7780-c9f8-4300-b37b-f5dba2989107': 2, '366a91f8-14dd-48b0-9d4d-c1e09a2d3d00': 2, 'c381a4d6-2f8e-48e6-9157-cbafc5c6d7a7': 2, '1104ce58-c11a-4ec7-bd4a-d81790de0470': 2, '577fa7a5-2be8-42da-8fc6-7a95a2fa5d33': 2, '4f4f0597-96fb-41a8-b2f1-e9fdc252440c': 2, '910f6e58-36f9-4e06-b52c-9c8616a51a8d': 2, '24c7ed09-27f6-4522-8381-dadb443972ee': 2, 'f1a89f8a-7510-4400-8fbe-20bcb0a2adc3': 2, '922ea502-f206-48b0-861a-171b508c2c2a': 2, '589f7af6-d28c-4775-8d7a-40857cf15e86': 5, '0a8a44dc-ba59-424f-b413-a6e02f5db36e': 2, '11180023-6479-4a13-91dc-f8f3e2b6678e': 2, '8336ccdb-36d1-482a-a8e6-a8619681c77c': 2, '2220dc6a-72b8-4f2b-8cf3-9378987d1175': 2, '078361bc-89f5-4cc9-b542-a0d6dfe0558c': 2, '583706c4-ea9e-440d-9478-49344de1bc73': 2, 'cb255f81-71ed-437e-8cb0-5039c967fb19': 3, 'cd3aa5da-f4c5-4a54-ad1e-87faa2c069b5': 2, '3b52de75-943d-445f-9f55-bc3751ed369f': 2, 'bc1725f6-2fb9-487f-ac3e-1e767151e8bf': 2, '3293080d-5125-48ad-91b4-2bf7af6f7d9d': 2, 'fbe7d75f-6a05-48bf-992f-5d17862ed095': 3, '66133e5f-3ab8-4543-9af2-538249989d93': 2, '6d43b5a6-de36-4469-8c4a-bd6b7df9d022': 2, '3ab69b86-f2a5-466e-b187-275878890a78': 2, '64bd0c1f-c908-4c7b-bc9c-770593756d29': 2, '3da1bca0-43e2-4317-a543-85de16f40cf6': 2, 'fc061079-2588-4272-9dba-3887cccc4288': 2, 'a774c3a7-2d60-4dac-80f4-ee5a23fd298b': 2, '33e81e18-1776-4321-a1e1-77fdff7869c6': 2, '9e49d5a6-1d12-4864-992d-c074d4bea569': 2, '584d1912-9dc4-4a0d-848a-ffcd3c1cdfb0': 2, '34965328-bc80-41a0-ba1a-daece23d4be7': 2, '411fe611-c7b5-4efc-a32c-11c8ae2e883f': 2, 'd283570c-f1e9-4b18-a4ed-27ebcf99b31e': 2, '183b9d35-a7bc-4516-bab9-e1824a6bd3c8': 2, '25bf6c36-116f-42c9-9d1c-c179e6292a34': 2, '555c59de-349b-4a6b-b6d7-d6d7f4ec3724': 2, 'fbfa89ae-bfe2-46da-beb8-5e1647bc8ecb': 2, '2881f550-088b-44ee-b4c4-0b650c8327b8': 2, '4fa55348-ad6c-490d-91ce-50caaef2a88c': 2, '619b16df-0d72-40d3-9f1f-40da81d377c5': 2, 'ecb1fd7b-8144-4489-afb0-3fe235a0b1c2': 2, 'b431cf78-add2-4243-9d07-0880f2e6d615': 2, '6a8c722a-e3d1-4784-b0a4-b4ce2b7679ec': 2, '02e818be-3058-43b9-b23c-23aae351c841': 2, '65be7d00-3d4e-4e8c-8962-4f1c4413e098': 2, '35f4b246-adf3-4aa0-b905-efec782292b1': 2, 'cc56ca24-fde0-458d-95f7-d3d31b79acb5': 2, '8d02085d-eb02-4c6a-a317-f12bb9573ae7': 2, 'e03ef86d-de75-4995-b009-755be889f9c5': 3, 'd471ea16-fbd9-400d-a29c-b24aff85724e': 2, '59d9a47e-3f46-4caa-b4e9-9d3056b3e453': 2, 'a5097fd3-23ee-40a3-81d8-2a909cc202ee': 2, '833cb339-1b49-46fc-bc8d-7a8b5b7eae52': 2, '5241d0e2-cf25-4b1d-a9f4-53400d1595a8': 2, '758cec71-7197-4a0d-9ff2-5b517b265fc0': 2, 'ee67e645-04dd-452a-bbc3-d3eb7426218b': 2, '8a56f7f8-7db1-4c80-8ca6-64bb14442a8f': 2, '8f69a228-fbba-435f-91b6-d0aec2134336': 2, '50136821-06ab-48b2-9fa9-1f3bf0702435': 3, 'e5e569a2-aad5-46c8-b71a-6cb021f732e3': 2, 'd6a8c5b8-1c90-4ade-a81a-977e806c62d0': 2, '0bc32b3a-9f1c-49a5-a4e5-4bb3c34dc291': 2, '91a949a9-5c10-4db7-92b7-cfd2b18d282b': 2, '9a66b95c-1dd9-4576-be08-f9030330b56e': 2, '31e30b1d-df29-41e9-976b-fbe6a22823e5': 2, '7be38752-0fb1-455a-ba25-948ea306c338': 2, 'c3d6d8cb-4b35-41db-9e29-b0d0fcf42682': 2, 'f83fbad4-0da0-42a3-bd0c-8d7d7afc1f57': 2, 'df8a476d-0d8c-4ddc-91b1-3a2238ef1b4f': 2, '43b53301-468b-41a2-ad67-63d8ecd84596': 2, '9e450373-2bca-4b87-8625-2e9193b6358c': 3, '781c9915-73e5-46fc-a782-baac970ff353': 2, '59910f44-f37f-4732-a28e-00b2676b68fe': 2, '754058bb-0e13-4c1d-804f-8df41cde00fe': 2, '6f651be9-3795-40b1-a545-8cc2ce8f701f': 2, '06863f0a-0bdd-460f-8c56-889bf89608c2': 2, '15570ac4-382d-4eaa-9880-5e29077cb0a8': 2, 'c5782dc1-0075-4256-afa3-acef7cd9dd34': 2, 'd92388f6-ec82-4f43-b67f-0e26bcb0c394': 2, 'cd5bbfac-3e8f-409b-88c9-97185a25793a': 2, '47ea2ef3-267d-4b05-b397-b909900de5d0': 2, '38f5b417-0d31-4498-a2b4-4cec09856908': 2, '7d9fcae3-82d4-44fc-9a49-3ef3e6f3396f': 2, '61c3808f-36d0-44b4-b962-eae71ad0d72a': 2, '58027ff9-d1b1-407e-885d-1436708a7e8b': 2, '228bcc8e-7fff-4ed2-b5d7-54dc6f0aa126': 2, 'b39fe7fd-1fa8-46ef-ba31-f4464727d56e': 2, '6c26eeb3-bde9-4509-8c6b-a5a481769fc8': 3, '9babbd82-8748-4041-b353-9d0e759e0201': 2, '0bab5a88-e5d7-47ce-8b7f-5434c92c6fa2': 3, 'fd5a4129-5934-4cb3-a866-3eda90b436f0': 2, '2f35610a-7b98-491c-8d01-3059626185fc': 2, 'c70371de-82d5-4314-85de-57a5afb48cc9': 2, '6acde723-5e70-4789-9fa2-dbee23d5a250': 2, '1b4e5a3f-b302-4da0-87a0-4f685bb46cd1': 2, '5fd02f31-0599-4064-8045-0c62417feb85': 2, '81420356-443b-4f41-b8d3-095d905ec51f': 2, '5b023078-1d6e-482d-8969-1bbd73645474': 2, 'ec44454e-5063-4e0f-9acf-7ca8ea747c44': 2, 'd166dc71-608e-414b-9398-ac777e88c483': 2, 'a7d4ca61-aee9-4a77-bff9-f4ef8fcac7a9': 2, '016f3795-7d89-494a-9829-a847e2aab4b9': 2, '087caf28-9226-4835-8dd6-aecd7c0b0410': 2, '33c7bef4-d036-4435-a41f-790859caa313': 2, 'f312f1fe-28fe-457a-8fa2-6d33d4f205b5': 2, '0673456e-2ea2-4e0f-bb5f-44c7ad3e9e20': 2, '6dc2fb94-ee97-4be9-8c50-d9d32668dc27': 2, 'c63e3bf8-3a0f-457d-9e86-7aaf31ec4144': 2, '0c8a208e-6228-435a-9544-4b95af91b6f7': 2, '7fa6c8b9-fe06-47c8-ad00-dcde8173cc19': 2, '3eac52c8-db44-40e6-819b-263953e494c1': 2, '3bd0f78f-4651-4491-851d-580fc5c35bfb': 2, 'b765c447-7996-416f-a36e-f24a17b53bd2': 2, 'eb5486e9-6790-4df5-8d49-278f5eab6056': 2, 'a0179bf1-ea80-4d56-b5db-254aa7c81386': 2, '7f7dcbf8-d428-48de-b2e6-500598fe8a9b': 2, '0b2f16b6-2261-4ea0-9fcf-a5193734615a': 2, 'fe972998-d774-476f-a8ce-742c1ba1cdcf': 2, '5b44fb75-1c06-48bd-b98b-80977dee2fea': 2, '7cb49903-aa26-4d22-b69a-913c0825773f': 2, '227a178a-90cd-467b-9c0c-53ffe23c5d49': 2, '08440f33-da70-4719-bc51-9f888c204386': 3, 'a727a6dc-6f89-4b1b-bbc5-d56b11d818e7': 2, '69e10f80-cf0f-486a-a519-bc85aad5cb99': 2, '21399d79-a083-4ab9-a3e3-09d4b4d18cdc': 3, '61df56c9-35bd-4e63-a195-716b5d634564': 2, '04492f5e-f90d-4afc-83c9-f577936dc737': 2, '75b16dc7-ade3-4cca-b28f-cb39b6c6ca49': 2, '82b28534-6a0d-49df-865c-655c264605a7': 2, '1c627c5f-7935-4523-a332-1305874846f7': 2, '4aab2c31-fe02-4169-8cff-7317449f08a4': 2, '0776d704-34c1-4d5b-825d-23fc2dc5f00a': 2, '6b8945b4-0bac-42d0-ae2c-49f48474832a': 3, '27cf5cde-818c-4529-8f7d-dac6eb236f36': 2, '21b90b6f-8c83-4d53-ae46-6a0fe4172aff': 2, '3757da4c-56d6-43e2-b0c2-f8958cf265cb': 2, '40d1d16f-bffe-4196-a0b3-ae88be0a5106': 2, 'd34994bc-2f8e-4137-86ef-71198cb48836': 2, '87976e42-b75e-4a75-876c-a317449a8900': 2, '2e49f4c2-934d-45b3-af98-6f8fffa69642': 2, '820c73cb-c29a-4236-bda6-a7b66bf8c58c': 2, 'f5034f05-4a40-4f7e-b011-ea08ba869c7c': 2, '28e18fab-c6dd-4892-a687-99064bdc5d89': 2, '570406d4-5a4b-43a3-ad0f-ff806d43a909': 2, '4f1c5ead-5eef-471a-a4d1-41e849a8001b': 2, '5130f23b-20e9-45a8-ba7f-456e8a9bceed': 2, 'b7a0428e-c402-43cb-8e89-3d5f9a7f644b': 2, '2ed4236b-94ec-4b89-ba4b-7978befbebbb': 2, '57c54500-a775-4640-aae8-6776c6d75e8a': 2, '888b20b6-56ee-4121-b156-bbd714803800': 2, 'a8897503-7d8f-4380-af49-3b426a79191d': 3, '2d646627-ef44-4da5-af37-6a039d8f51c7': 2, '7fa65995-0076-4c72-b60f-400cbc2e61bc': 2, '249d7c64-0039-4eb4-9e4d-10bb5f4487be': 2, '6e462bbb-505a-4e0d-96ef-e1dccde5ea29': 2, '5921babc-1cdc-4240-9646-6dd4e47c211d': 2, 'e153ff0d-91fa-445e-81bf-ca8071f28b45': 2, 'f42257c7-1172-4f5d-b518-c2133f4dfd25': 2, '9dc19bd7-cf1b-4e20-a787-c3c9afb25d60': 2, '166f5ff3-8d29-4a35-8397-1d14a7c886b5': 2, 'f039bf4d-382f-4fac-916d-0bfa901144d3': 2, '864ee7c7-d97a-4c8e-81ce-d779f84e2f45': 2, '45f7bc4d-2734-4677-b11b-71ea2955447d': 2, 'cea6aa6e-ac06-493e-a5b1-f66d1ad8d914': 3, '911258b9-ca1e-48df-84df-08e8b3f20e7d': 2, '3057772c-15f8-4bf2-adfa-7c7654c14c39': 2, 'dc44ea1b-adf3-41d0-a1d0-e39ebcd65518': 2, '34c98605-2685-41b6-b144-eb9b56aab032': 2, '316e29e9-a189-4b0d-b84c-294082b10373': 2, '1df821f2-3d57-4865-be10-cb07b334e3f1': 2, '6ad67758-37cf-4457-b64e-48ccdd88732c': 2, 'd54c5350-be49-4cc9-8c7d-fc147436365d': 2, 'd76ccd07-ec1f-4cac-b83f-e89826b7ddc7': 2, '0898d075-effb-4ecd-95be-ec0defc5abd1': 2, '0feea222-710e-456f-942e-8835eb2cd3c3': 2, '7150c749-dff2-4bd5-90ff-ff1e1cda468b': 3, '8620ba2c-d4cf-4664-a2bf-38144e99d04e': 2, '254558bf-c608-47aa-952e-3f94805911f3': 2, 'a0850d7e-242d-4104-8c4e-6e24d8b4f3f4': 2, 'cdc1554f-e985-4e17-926d-80d582297af2': 2, 'a13249a3-95a7-4d13-93b5-1e45a3f54545': 2, 'c0fe7560-b9d9-439f-a966-f0feb46891d8': 2, '56de6a81-ac1c-4581-87e5-5a2d0e80be2c': 2, 'b15cd2df-b40e-4903-b6bf-d3588093f162': 2, '6c4427b5-3217-4562-b36e-0f096bce87ef': 2, '5af8615d-dbd4-4ea9-96a5-7a5ab4318ce7': 2, '6e8bad61-f215-4490-a3eb-0af3b5eb0dd9': 2, 'fa7c8199-27c9-4897-95d9-e2ad0b358bae': 2, '5303b2dc-b6a3-489c-bc15-6e9a9f23662b': 2, 'a1bf9057-c18a-4238-9b1e-2b710e5a613e': 2, '8c1a015e-3b53-4eb3-9279-eb0c347ff695': 2, 'b47cafbb-25a0-4630-bc1e-f69cfaadbc0d': 2, 'babc92cf-febc-440c-a20d-4ab3f508b34a': 2, 'db5a52c1-c3a4-4693-ac15-6e1bec041e98': 3, '99655d59-11ea-4a6f-89d4-d8b31305de86': 2, '425d341c-8f4b-495f-9783-64f41bac8ac9': 2, '4ef3d571-a517-41a3-86da-5e899f0d620c': 2, '39c05d0e-95bd-4c91-a869-b9c52541f0c3': 2, '683ae4c1-2518-45cf-a93e-7ab04026c40a': 2, 'b5f3daf1-1d09-4f1e-96d0-7f12116ab590': 2, '029064ed-d9f6-42cd-9b86-88cc9f611414': 2, '395ca427-d361-4cc7-8cad-ad1458efb494': 2, '87407046-d910-48c7-9c74-b067e8e5282d': 2, '1b3dbb9b-8e9e-47c6-8fe5-a1a1ad98e8ac': 2, 'e43fbe10-35c3-46ff-a3c9-2d0c922a9752': 2, 'f1a8a224-0ff9-44a8-bd2b-763aef44a4d7': 2, '691c9b19-e837-4e73-a0c6-b198b7e43864': 2, '15235a6d-6ed6-400a-9809-66e56c39787c': 2, '38dacb25-e035-49b3-ae9f-1e5c07275c03': 2, '04653c79-289e-4fff-912b-56e89cacce89': 2, '8a5ab423-6473-4039-a7bc-cc94eedd6c57': 2, '2a8d86ec-44fc-4166-8d0b-cbff4df53046': 2, '89f0330a-57b0-4987-8499-5f5a9b414c28': 3, '5c918534-3e91-4a47-ab5d-56af245c3501': 2, '5e98ec9f-ea9c-4f42-b28a-23fea4e8e08d': 2, 'da150cb3-457c-411e-b11a-6f4fe95f22c5': 2, '5d9cc550-64b7-4d64-b758-26d4e1897d33': 2, 'f210d7ce-6821-4129-b5f6-914d3aa42504': 2, '1e315c62-dc74-492f-9c1a-9973ce0a7604': 2, '5eef496e-a26d-44aa-bd84-87152c7ed771': 2, 'f7cd4fb3-d9cf-471e-9d23-dc8372d356ef': 2, 'afee6714-13f3-49a4-9b37-b14f36c2f708': 2, '25a372af-10ba-4f67-b5dd-b199f649e6c8': 2, 'deb2f85a-6214-4015-8b10-40ede58437c3': 2, 'ccb618e8-60f5-4df5-9081-f3a1154af230': 2, '7cd47f89-163f-4bb4-98c8-574d6aa3b2fd': 2, '06e0d3e5-dd97-4ab3-b5d2-c99398e12361': 2, '5cc239a9-e9ce-4cc9-8cfb-142b54450d8a': 3, '633ffa18-6547-4b5f-9c5d-a2aab0278a1a': 2, '026dbfdd-60ce-4522-a621-741e16155812': 2, '466f5811-9b37-4589-9571-bafadd92c349': 2, 'b2cf7b96-ad01-499d-b169-9db219521c7b': 2, 'adc643bf-7d45-448f-a5d8-dd9a12a0d850': 2, '84e11478-4a56-4f2e-8ac7-36e5e3fd2c63': 2, '25eee08d-e182-49a1-a921-8409df136ffb': 2, '35e2a814-f837-471a-aa48-d8b842e5e023': 2, '7d4c5889-db33-4b9f-8961-f966c6ff02b7': 2, '9a369e7f-ef6e-4b72-bda5-3f3badf676cb': 2, '173a8bbe-77f9-482c-8cf1-15bb734f1573': 2, 'abb335ec-d855-4d05-8c8b-00ef16e5441f': 2, '89cc1287-30e4-4319-8288-9453ea1ebdac': 2, '8fae54ba-0833-4cf6-b029-d00c50a18ab3': 2, '14c8ba1a-e650-47bb-b34b-6e81373cf96b': 2, 'ba29d074-70ca-4cbc-a786-aad0870eecf1': 2, 'd8a101c3-3cd5-433b-80ce-054e190276cf': 2, '5052c89c-73bd-4493-9d53-949fb33364e0': 2, '4806ec4c-37f5-4e44-90e9-c071489b78bd': 2, '47653c41-e2c2-4c64-b7ee-c4c8e90741cb': 2, '7f7a0cf8-7719-42c8-b965-11e2e2b24736': 3, '15d7f0ae-0816-4046-9ecc-17b428837da5': 2, '772df8d7-47bc-4470-9574-75c32828d510': 2, '84603bbc-24b9-487b-9311-6a9343cbaf40': 2, '3640d3a7-7821-4768-ac8c-654680218fdd': 2, '0e6b6ade-ba3b-4174-aed8-4b244fb549d4': 2, 'c22a77c0-5b83-4b1b-bf0d-6f7ff101954e': 2, 'e03d0df0-f7be-47c0-972e-c8554ee31d78': 3, 'fec70f8e-30b0-467a-9060-de5b61d19e25': 2, '92287744-dfae-4caf-bbc6-868c59274bf5': 2, '9856b5e4-5f3c-4276-a6a3-aa1c127aa735': 2, '9d9a5eb1-bcf3-450e-b0da-8d3fd9cb10cf': 2, 'fda7957f-0ef8-4ede-a1f8-32f4d13cdac5': 2, '4f2d9b7c-d98d-4a99-9ac7-0fba2b7662b2': 2, '47570dc5-c303-4ddf-bc88-010b07d2bbe3': 2, '0ef04379-a6b7-43fd-b9bd-26525f85d5b5': 2, '5973b08a-ef7d-431c-ac58-d31d4a57d63c': 2, 'ae26be1f-76b3-4ffb-962f-e5f573055824': 2, '77f168a3-5ff4-44bb-98a0-ac8fce381173': 2, 'd74dccae-120f-40cd-87fb-78b61ac97e42': 2, '709ffcb8-27c0-4ee2-92ca-514425d27492': 2, '650ff135-39d1-4c35-9b08-c47f1a2853ba': 2, '09ef71ff-f79e-41e3-8237-988ad5a71cc9': 2, 'e96f6a14-8684-4983-8546-9774c012ad34': 2, 'f81c0a09-4082-4b6a-8546-12371ff89fba': 2, '3c2db95d-3b68-490a-902c-55c9f71de1be': 2, '6f8d2975-3a40-441e-9dd2-c555d7d2fd85': 2, 'a65a8469-efb5-42cf-ae7e-cc2afcb467ab': 2, 'f1ebd7bf-d4cd-42d2-93f2-5eb96c11ca6d': 2, '2b746084-c56e-43b7-91ba-54707c7657cb': 2, 'c4fba731-d0f7-4a33-8f74-8c1665eb0887': 2, '9d60b884-90ed-4906-a530-e87c14e43df2': 2, '4e2ad9eb-9268-4983-aa41-c148e8d8d69e': 2, '12e80aff-17a2-4eb4-92cb-15488e75caf0': 2, 'e4b7ad77-7302-4c47-b9a6-ba37ae083f32': 2, '3a407ba1-8a09-43fd-829a-e321da498d0b': 2, '945c26da-8bdc-42d0-a6ff-dee3a0bd371e': 2, '8fa7bcef-a665-4d0e-8f88-f4384eb51a5b': 2, 'd5b09374-71ff-4976-9743-97f13463c3e4': 2, '4cd1d239-c42c-4fdd-b680-1e07a3206779': 2, 'e5080ec0-8936-44f4-a7a6-5432e41eca9c': 2, 'dbd2b820-ce58-486a-8b30-07abe39a5ba7': 2, '90774482-dbeb-4c2c-be37-243e28056bfc': 2, '6b94900b-6c7c-44ac-b8de-ff99279d6e31': 2, '98c65232-2e70-4678-923d-1c756289bf5e': 2, '5d0ebb2c-f036-483f-a765-fb716422413c': 2, 'a729b4f2-c734-4c60-9205-1518ba762593': 2, '99c3aa04-52b6-47f8-b19b-b6c1cfcfb0ae': 2, '9db8506a-2838-45d1-8741-1073c5cc8617': 3, '144c8b40-8c6b-4ab9-830a-09204b6a36e7': 2, 'd3306804-1c39-4809-96de-effb44335868': 2, '762dde37-f2cd-4681-abf2-5de4a6718d0e': 2, '93d7a6e9-3040-4707-8c52-51b6aa43889f': 2, 'cc54f21f-e3db-4dfa-907b-45cd50c79f3b': 2, '3aca3a90-c9b9-4277-8dfd-789f22b5a7ba': 2, '5594ee21-e922-43b3-aea8-51ed12331f16': 2, '87a1d456-fc03-409f-80b9-f34d4e0a5f6e': 2, 'eb727a4f-29c7-4d0c-b364-0e67de1776e9': 2}\n",
            "분할된 텍스트의 개수 : 4921\n"
          ]
        }
      ],
      "source": [
        "# 2. 문서 청크별로 docid를 기반으로 추적\n",
        "# docid를 기반으로 각 청크를 추적\n",
        "docid_list = [doc.metadata['docid'] for doc in split_documents]\n",
        "\n",
        "# 문서별 청크 개수 계산\n",
        "docid_counts = Counter(docid_list)\n",
        "\n",
        "# 2개 이상의 청크로 분할된 문서만 필터링\n",
        "filtered_counts = {key: value for key, value in docid_counts.items() if value >= 2}\n",
        "\n",
        "# 2개 이상 분할된 문서 출력\n",
        "print('2개 이상으로 분할된 문서 :', filtered_counts)\n",
        "\n",
        "# 전체 분할된 텍스트의 개수 출력\n",
        "print('분할된 텍스트의 개수 :', len(split_documents))"
      ]
    },
    {
      "cell_type": "markdown",
      "metadata": {},
      "source": [
        "## ----- vector store에 저장  ** 저장해둔 것 있으면 아래로 내려가서 불러오기만 하기 ** ----"
      ]
    },
    {
      "cell_type": "code",
      "execution_count": null,
      "metadata": {},
      "outputs": [],
      "source": [
        "from chromadb.config import Settings\n",
        "# 데이터가 저장될 디렉토리 설정\n",
        "persist_directory = '/data/ephemeral/home/upstage-ai-advanced-ir2-private/data_langchain2/chroma_data_test2'  # 원하는 경로로 변경\n",
        "\n",
        "embedding_model = OpenAIEmbeddings()\n",
        "\n",
        "# Chroma 데이터베이스에 텍스트를 저장 (이미 분할된 Document 객체 리스트)\n",
        "vectordb = Chroma.from_documents(\n",
        "    documents=split_documents,  # 이미 분할된 Document 객체 리스트 (청크 데이터)\n",
        "    embedding=embedding_model,  # SentenceTransformer 기반 임베딩 모델 사용\n",
        "    persist_directory=persist_directory,  # 데이터가 저장될 경로 지정\n",
        "    collection_name=\"my_collection\",\n",
        ")\n",
        "\n",
        "\n",
        "\n",
        "\n",
        "print('Chroma 벡터 DB 생성 완료')"
      ]
    },
    {
      "cell_type": "markdown",
      "metadata": {},
      "source": [
        "## --------------------- 저장한 DB 불러오기 --------------------------"
      ]
    },
    {
      "cell_type": "code",
      "execution_count": null,
      "metadata": {},
      "outputs": [],
      "source": [
        "# %pip install langchain_chroma"
      ]
    },
    {
      "cell_type": "code",
      "execution_count": 13,
      "metadata": {},
      "outputs": [],
      "source": [
        "from langchain_chroma import Chroma\n",
        "# 저장된 인덱스가 있을 때\n",
        "# 데이터가 저장될 디렉토리 설정\n",
        "persist_directory = '/data/ephemeral/home/upstage-ai-advanced-ir2-private/data_langchain2/chroma_data_test2'  # 원하는 경로로 변경\n",
        "\n",
        "# SentenceTransformerEmbeddings를 사용하여 임베딩 생성\n",
        "# embedding_model = SentenceTransformerEmbeddings(model_name=\"sentence-transformers/all-mpnet-base-v2\")\n",
        "embedding_model = OpenAIEmbeddings()\n",
        "\n",
        "# 불러올때?\n",
        "vectordb = Chroma(\n",
        "    persist_directory=persist_directory,\n",
        "    embedding_function=embedding_model,\n",
        "    collection_name=\"my_collection\"  # 기존 컬렉션 ID\n",
        ")"
      ]
    },
    {
      "cell_type": "markdown",
      "metadata": {},
      "source": [
        "### -------------------------------------------------------------------------------------"
      ]
    },
    {
      "cell_type": "markdown",
      "metadata": {
        "id": "siLXR-XT0JoI"
      },
      "source": [
        "## Make a retriever & Test"
      ]
    },
    {
      "cell_type": "code",
      "execution_count": 14,
      "metadata": {
        "id": "6ObunFU30Lxh"
      },
      "outputs": [],
      "source": [
        "retriever = vectordb.as_retriever() # 벡터 검색 방법은 괄호 안에 입력하면 됨"
      ]
    },
    {
      "cell_type": "code",
      "execution_count": 15,
      "metadata": {},
      "outputs": [
        {
          "data": {
            "text/plain": [
              "[Document(metadata={'docid': 'b5f3daf1-1d09-4f1e-96d0-7f12116ab590', 'src': 'ko_ai2_arc__ARC_Challenge__test'}, page_content='그러나 사구에서 더 멀리 떨어진 곳에는 초원과 숲이 형성됩니다. 이는 빙하가 녹으면서 물이 더 멀리 퍼져나가기 때문입니다. 빙하가 녹으면서 초원과 숲이 형성될 수 있게 된 것입니다. 이러한 과정은 1차 천이라고 불립니다.'),\n",
              " Document(metadata={'docid': '393af029-ba90-4eee-9927-7d20b42c2a01', 'src': 'ko_ai2_arc__ARC_Challenge__train'}, page_content='빙하의 건설적 힘에 따른 결과로는 빙하가 녹아 퇴적된 암석 더미가 형성됩니다. 빙하는 수천 년 동안 땅을 강하게 압축하고, 얼음과 함께 암석과 흙을 이동시킵니다. 이러한 작용으로 인해 빙하가 지나간 지역에는 암석과 퇴적물이 쌓이게 됩니다. 이 암석 더미는 빙하의 힘에 의해 형성되었으며, 빙하가 녹아 퇴적된 결과물입니다. 이러한 지형은 주로 산악 지역이나 빙하가 존재했던 지역에서 발견됩니다. 빙하의 건설적 힘은 자연의 힘 중 하나로, 우리가 살고 있는 지구의 지형 형성에 큰 영향을 미치는 중요한 요소입니다.'),\n",
              " Document(metadata={'docid': 'bec3008a-9c61-4e59-b6a1-52b34666ca10', 'src': 'ko_ai2_arc__ARC_Challenge__validation'}, page_content='초콜릿은 더운 날 햇볕 아래에 놓여있을 때, 녹을 수 있습니다. 이 과정에서 초콜릿의 모양이 변하게 됩니다. 녹은 초콜릿은 원래의 고체 모양에서 액체로 변하게 되며, 이는 초콜릿의 특성 중 하나입니다. 따라서, 더운 날 햇볕 아래에 놓인 초콜릿은 모양이 변하게 됩니다.'),\n",
              " Document(metadata={'docid': '6a93bf30-f16d-4581-9725-2e94f7af852a', 'src': 'ko_ai2_arc__ARC_Challenge__train'}, page_content='선풍기는 브리트니가 더워서 선택한 해결책이었습니다. 축구 경기 후, 그녀는 땀을 흘리며 더운 기운에 시달렸습니다. 그러나 선풍기 아래에 앉으면서 그녀는 이전보다 더 시원함을 느꼈습니다. 이는 땀의 증발이 피부로부터 열을 흡수하기 때문입니다. 선풍기는 공기를 움직여서 땀이 증발하는 속도를 높여주어 그녀의 몸을 시원하게 만들었습니다. 따라서 브리트니는 선풍기 아래에서 더 시원하게 느꼈던 것입니다.')]"
            ]
          },
          "execution_count": 15,
          "metadata": {},
          "output_type": "execute_result"
        }
      ],
      "source": [
        "vectordb.similarity_search('복숭아 키우는 노하우')"
      ]
    },
    {
      "cell_type": "code",
      "execution_count": 16,
      "metadata": {
        "colab": {
          "base_uri": "https://localhost:8080/"
        },
        "id": "cYA-H59u0Skn",
        "outputId": "c75a1198-2745-4465-adb7-5f34d00696bf"
      },
      "outputs": [
        {
          "name": "stdout",
          "output_type": "stream",
          "text": [
            "유사 문서 개수 : 4\n",
            "----------------------------------------\n",
            "첫번째 유사 문서 : page_content='세균은 무성 생식을 하는 유기체입니다. 이는 세균이 단일 부모로부터 새롭게 생산되는 것을 의미합니다. 세균은 유전자를 상속받는데, 이는 단일 부모와 같은 특성을 가지게 됩니다. 세균은 유전자의 조합을 통해 다양한 특성을 가질 수 있으며, 이는 세균의 다양성과 적응력을 높여줍니다. 세균은 빠른 성장과 번식 능력으로 인해 환경에서 매우 중요한 역할을 합니다. 세균은 다양한 환경에서 생존할 수 있으며, 이는 세균의 유전적 다양성과 적응력에 기인합니다. 세균은 우리 주변에 많이 존재하며, 우리의 건강에도 영향을 미칩니다. 세균의 특성을 이해하고 관리하는 것은 우리의 건강과 생활에 매우 중요합니다.' metadata={'docid': '5c5a0200-462e-4dd6-981f-b0bf7026ec5e', 'src': 'ko_ai2_arc__ARC_Challenge__test'}\n",
            "----------------------------------------\n",
            "각 유사 문서의 문서 출처 :\n",
            "5c5a0200-462e-4dd6-981f-b0bf7026ec5e\n",
            "e0458408-2b78-47c0-b28d-55cc5cab214c\n",
            "1655c90b-29c7-47ef-a092-01f2550db3aa\n",
            "85d28a10-9380-4afe-afef-b34449ef86bf\n"
          ]
        }
      ],
      "source": [
        "docs = retriever.get_relevant_documents(\"세균의 순기능\")\n",
        "print('유사 문서 개수 :', len(docs))\n",
        "print('--' * 20)\n",
        "print('첫번째 유사 문서 :', docs[0])\n",
        "print('--' * 20)\n",
        "print('각 유사 문서의 문서 출처 :')\n",
        "for doc in docs:\n",
        "    print(doc.metadata[\"docid\"])"
      ]
    },
    {
      "cell_type": "markdown",
      "metadata": {
        "id": "h3mZszDFW5aw"
      },
      "source": [
        "### 결과를 k개 반환"
      ]
    },
    {
      "cell_type": "code",
      "execution_count": 17,
      "metadata": {
        "id": "jVWgPJXs1yRq"
      },
      "outputs": [],
      "source": [
        "retriever = vectordb.as_retriever(search_kwargs={\"k\": 10})"
      ]
    },
    {
      "cell_type": "code",
      "execution_count": 18,
      "metadata": {
        "colab": {
          "base_uri": "https://localhost:8080/"
        },
        "id": "58fAAOHfVLeM",
        "outputId": "ca7f951c-e9a2-47c4-b797-cd1455383547"
      },
      "outputs": [
        {
          "name": "stdout",
          "output_type": "stream",
          "text": [
            "5c5a0200-462e-4dd6-981f-b0bf7026ec5e 세균은 무성 생식을 하는 유기체입니다. 이는 세균이 단일 부모로부터 새롭게 생산되는 것을 의미합니다. 세균은 유전자를 상속받는데, 이는 단일 부모와 같은 특성을 가지게 됩니다. 세균은 유전자의 조합을 통해 다양한 특성을 가질 수 있으며, 이는 세균의 다양성과 적응력을 높여줍니다. 세균은 빠른 성장과 번식 능력으로 인해 환경에서 매우 중요한 역할을 합니다. 세균은 다양한 환경에서 생존할 수 있으며, 이는 세균의 유전적 다양성과 적응력에 기인합니다. 세균은 우리 주변에 많이 존재하며, 우리의 건강에도 영향을 미칩니다. 세균의 특성을 이해하고 관리하는 것은 우리의 건강과 생활에 매우 중요합니다.\n",
            "e0458408-2b78-47c0-b28d-55cc5cab214c 세균은 진화가 가장 빠르게 발생할 수 있는 생물체 중 하나입니다. 세균은 단세포 생물체로서, 매우 짧은 세대간 시간을 가지고 번식합니다. 이러한 빠른 번식 속도는 세균이 짧은 세대간 동안 다양한 유전자 변이를 쌓을 수 있게 합니다. 이러한 변이는 세균의 생존과 번성에 중요한 역할을 합니다. 또한, 세균은 환경 변화에 빠르게 적응할 수 있는 능력을 가지고 있습니다. 이는 세균이 다양한 환경에서 살아남고 번식할 수 있게 해주는데 도움을 줍니다. 따라서, 세균은 진화가 가장 빠르게 발생할 수 있는 생물체 중 하나로 알려져 있습니다.\n",
            "1655c90b-29c7-47ef-a092-01f2550db3aa 세균은 다양한 방식으로 인체에 도움을 줄 수 있습니다. 대표적으로, 세균은 음식을 분해하는 데 도움을 줍니다. 세균은 소화 과정에서 음식물을 분해하여 영양소를 생성하고 흡수를 도와줍니다. 이를 통해 우리 몸은 필요한 영양소를 효과적으로 흡수할 수 있습니다. 따라서, 세균은 우리 인체와 환경에 많은 도움을 주는 중요한 존재입니다.\n",
            "85d28a10-9380-4afe-afef-b34449ef86bf 생태계에서 죽은 식물과 동물을 재활용하는 데 책임이 가장 큰 것은 세균입니다. 세균은 생분해 작용을 통해 유기물을 분해하여 영양분을 생성하고, 이를 다른 생물들이 이용할 수 있도록 합니다. 세균은 생태계의 중요한 구성원으로서, 죽은 식물과 동물의 분해와 분해 과정에서 발생하는 영양분의 순환을 도와줍니다. 이러한 세균의 역할은 생태계의 균형을 유지하는 데 매우 중요합니다. 세균은 또한 생태계에서 다양한 생물들의 생태적 상호작용에도 영향을 미치며, 생태계의 안정성과 다양성을 유지하는 데에도 기여합니다. 따라서 세균은 생태계에서 죽은 식물과 동물을 재활용하는 데 가장 큰 책임을 지고 있습니다.\n",
            "c5782dc1-0075-4256-afa3-acef7cd9dd34 중 하나입니다. 세균의 빠른 번식은 그들이 다양한 환경 조건에 적응하고 생존하기 위한 전략 중 하나로 작용합니다. 세균은 환경이 변화하면 빠르게 번식하여 새로운 조건에 적응할 수 있습니다. 이러한 능력은 세균이 다양한 생태계에서 존재하고 번성할 수 있는 이유 중 하나입니다. 따라서 세균 종이 몇 년 만에 주요 변화를 겪을 수 있는 이유 중 하나는 그들의 빠른 번식 속도입니다.\n",
            "c5782dc1-0075-4256-afa3-acef7cd9dd34 다세포 종의 변화는 보통 수천 년이 걸리지만, 일부 세균 종은 몇 년 만에 주요 변화를 겪습니다. 이러한 차이가 발생하는 한 가지 이유는 이 세균들이 매우 빠르게 번식하기 때문입니다. 세균은 단일 세포 생물체로서, 단순한 구조와 작은 크기로 인해 번식이 빠릅니다. 세균은 하루에도 수백 번 이상 번식할 수 있으며, 이는 다른 다세포 생물체들과는 비교할 수 없는 놀라운 속도입니다. 이러한 빠른 번식 속도로 인해 세균은 짧은 시간 동안 많은 세대를 거치며 진화할 수 있습니다. 이는 세균 종이 다른 종보다 더 빠르게 변화할 수 있는 이유 중 하나입니다. 세균의 빠른 번식은 그들이 다양한 환경 조건에 적응하고 생존하기 위한 전략 중 하나로 작용합니다. 세균은 환경이 변화하면 빠르게 번식하여 새로운 조건에 적응할 수\n",
            "3da1bca0-43e2-4317-a543-85de16f40cf6 고세균은 또한 지구의 지속 가능한 에너지 생산에도 중요한 역할을 할 수 있다. 메탄 생성 능력을 가지고 있기 때문에, 이러한 세균은 생물학적인 가스 발전소로 활용될 수 있다. 따라서, 고세균은 호열성이고 메탄을 생성할 수 있으며, 그 막에는 인지질 대신 isoprenylglycerol ether가 있는 원핵생물로서 가장 가능성이 높은 종이다.\n",
            "8c436953-ef34-4e2c-8923-19551bb387f7 구강 세균은 수크로오스라는 주요 식이 성분에서 외부 글루칸(덱스트란 및 뮤탄)을 합성합니다. 수크로오스는 당류의 일종으로서, 설탕과 같은 형태로 존재합니다. 구강 세균은 이 수크로오스를 이용하여 외부 글루칸을 합성하는데 사용합니다. 이러한 외부 글루칸은 세균의 생존과 성장에 중요한 역할을 합니다. 구강 세균은 수크로오스를 분해하여 그 안에 포함된 글루칸을 추출하고, 이를 이용하여 세포벽을 형성합니다. 이러한 세포벽은 세균의 보호와 안정성을 제공하며, 세균의 생존을 도와줍니다. 따라서, 구강 세균은 수크로오스를 주요 식이 성분으로 사용하여 외부 글루칸을 합성합니다.\n",
            "b26d2666-5d8a-4b51-b3cb-0352ba24a572 세균은 유전자 돌연변이를 직계 자손에게 유전적으로 물려줄 수 있습니다. 한 종류의 세균에서 발생한 돌연변이는 무성 생식을 통해 자손에게 전달됩니다. 이 돌연변이는 세균의 유전 정보에 영향을 주는데, 이는 세균의 직계 자손에게 유전적으로 물려집니다. 세균은 무성 생식을 통해 자손을 생산하며, 이를 통해 돌연변이가 유전적으로 전달됩니다. 따라서, 세균의 직계 자손에게만 돌연변이가 유전적으로 물려질 수 있습니다.\n",
            "81681031-5fa6-4478-a7b2-6e6a2c2983b3 학생들은 학교 내에서 성장하는 세균의 종류를 결정하기 위한 연구를 실시하고 있습니다. 이 연구를 실시하는 동안 학생들이 피해야 할 활동은 식품과 음료를 실험실로 가져오는 것입니다. 이는 실험실 내에서 세균의 번식을 방지하기 위해 중요한 조치입니다. 세균은 식품과 음료에서 번식할 수 있으며, 실험실로 가져오는 것은 세균의 번식을 촉진시킬 수 있습니다. 따라서 학생들은 실험실로 식품과 음료를 가져오지 않도록 주의해야 합니다. 이를 통해 학생들은 정확한 연구 결과를 얻을 수 있고, 학교 내에서 세균의 종류에 대한 중요한 정보를 얻을 수 있습니다.\n"
          ]
        }
      ],
      "source": [
        "docs = retriever.get_relevant_documents(\"세균의 순기능\")\n",
        "\n",
        "for doc in docs:\n",
        "    print(doc.metadata[\"docid\"], doc.page_content)"
      ]
    },
    {
      "cell_type": "markdown",
      "metadata": {
        "id": "4Ia-4OXa5IeP"
      },
      "source": [
        "## Make a chain"
      ]
    },
    {
      "cell_type": "markdown",
      "metadata": {
        "id": "zhD0xWYwPSbi"
      },
      "source": [
        "\n",
        "```\n",
        "Use the following pieces of context to answer the users question.\n",
        "If you don't know the answer, just say that you don't know, don't try to make up an answer.\n",
        "----------------\n",
        "{텍스트}\n",
        "\n",
        "{질문}\n",
        "```"
      ]
    },
    {
      "cell_type": "code",
      "execution_count": 21,
      "metadata": {},
      "outputs": [],
      "source": [
        "# LLM 설정 및 질의응답 체인 생성\n",
        "qa_chain = RetrievalQA.from_chain_type(\n",
        "    llm=ChatOpenAI(model_name=\"gpt-3.5-turbo\", temperature=0),\n",
        "    chain_type=\"stuff\",\n",
        "    retriever=retriever,\n",
        "    return_source_documents=True\n",
        ")\n"
      ]
    },
    {
      "cell_type": "code",
      "execution_count": 22,
      "metadata": {},
      "outputs": [
        {
          "name": "stdout",
          "output_type": "stream",
          "text": [
            "동물의 털 색깔은 생존에 도움을 주는 중요한 역할을 합니다. 동물들은 환경에 녹아들 수 있도록 색상을 조절하여 먹이나 적의 시선을 피하고, 사냥을 하거나 사냥을 피할 수 있습니다. 또한, 털의 색깔이 변화하는 것은 계절이나 환경 변화에 대한 동물들의 적응 메커니즘이라고 볼 수 있습니다.\n",
            "\n",
            "참고한 문서들:\n",
            "DocID: 5973b08a-ef7d-431c-ac58-d31d4a57d63c\n",
            "Content: 동물들은 자신의 환경에 녹아들 수 있도록 색상과 패턴을 적용합니다. 이러한 특성을 적용한 이유는 숨어 있기 위해서입니다. 동물들은 자신의 생존을 위해 환경과 조화를 이루기 위해 색상과 패턴을 활용합니다. 이를 통해 동물들은 먹이나 적의 시선을 피하고, 사냥을 하거나 사냥을 피하는 데에 도움을 받을 수 있습니다. 예를 들어, 사자는 노란 갈색의 털을 가지고 있어 사방에서 녹아들 수 있습니다. 이렇게 사자는 사냥감에게 자신의 존재를 드러내지 않고 접근할 수 있습니다. 또한, 동물들은 자신의 환경에 맞는 색상과 패턴을 선택함으로써 서식지에서의 경쟁에서 우위를 점할 수 있습니다. 예를 들어, 암컷 호랑이는 녹색의 무늬를 가지고 있어 정글에서 녹아들 수 있습니다. 이렇게 호랑이는 경쟁 상대들에게 자신의 존재를\n",
            "\n",
            "DocID: fd84a7cd-1309-45e4-8811-1a89bd432e7c\n",
            "Content: 색상은 동물이 짝을 유혹하는 데 종종 도움이 됩니다. 많은 동물들은 색상을 사용하여 상대방의 관심을 끌고, 짝짓기를 유도합니다. 예를 들어, 새들은 화려한 깃털을 가지고 있어서 파트너를 유혹하고 매력적으로 보이게 합니다. 또한, 어떤 동물들은 특정한 색상을 가진 꽃이나 과일을 찾아가서 먹음으로써 짝을 유혹합니다. 이러한 적응은 동물들이 번식을 위해 상대방을 찾는 데 도움이 되며, 종의 생존을 보장하는 역할을 합니다.\n",
            "\n",
            "DocID: cd00611c-aa67-42be-9981-5e4733e1fadd\n",
            "Content: 특정 동물은 색을 빠르게 변화시킬 수 있는 분화된 세포를 가지고 있습니다. 이 동물은 주로 포식자로부터 숨기기 위해 이러한 색상 변화를 활용합니다. 색상 변화는 동물이 주변 환경에 적응하고, 위험을 피하는 데 도움이 됩니다. 예를 들어, 동물이 먹이 사슬의 아래쪽에 위치하고 있을 때, 색상 변화를 통해 주변 환경과 더욱 잘 조화를 이루어 포식자로부터 숨을 수 있습니다. 또한, 동물이 위험한 상황에 처했을 때 색상 변화를 통해 주변의 포식자에게 경고 신호를 보낼 수도 있습니다. 이러한 색상 변화는 동물의 생존에 매우 중요한 역할을 합니다. 따라서, 이 동물이 가진 색상 변화 능력은 포식자로부터 숨기는 데 도움이 될 가능성이 가장 큽니다.\n",
            "\n",
            "DocID: ad9423ec-d8cb-4972-b395-871db5cb9f45\n",
            "Content: 북극 여우는 주변 환경과 어우러지기 위해 여름과 겨울에 털의 색상을 변화시킵니다. 여름에는 털이 어두운 회색 또는 갈색으로 변하며, 이는 주변의 바위나 풀과 비슷한 색상을 가지도록 합니다. 이렇게 어두운 색상은 여우가 주변에 잘 숨을 수 있도록 도와줍니다. 겨울에는 털이 흰색으로 변하며, 이는 눈과 어울리도록 합니다. 흰색 털은 눈 위에서 여우를 잘 감추어 주어 먹이를 사냥하기에 유리합니다. 이렇게 털의 색상 변화는 북극 여우가 주변 환경과 어우러져 살아남을 수 있도록 도와줍니다.\n",
            "\n",
            "DocID: 6b6971ff-885f-48cf-adca-46bbd01041e6\n",
            "Content: 동물들은 사냥 당하는 위험에 처했을 때, 환경의 색상에 녹아들 수 있게 하는 색상 체계를 채택합니다. 이러한 색상 체계를 은폐색이라고 합니다. 은폐색은 동물들이 자신의 외형을 환경과 유사하게 만들어 사냥자나 포식자로부터 숨을 수 있도록 도와줍니다. 동물들은 주변의 색상과 패턴을 모방하여 몸의 색깔을 조절하며, 이를 통해 자연스럽게 환경에 녹아들어 위험을 피할 수 있습니다. 은폐색은 동물들이 생존을 위해 발전시킨 특별한 방어 메커니즘 중 하나로 알려져 있습니다. 이러한 색상 체계는 동물들이 생태계에서 적응하고 살아남을 수 있도록 도와주는 중요한 역할을 합니다.\n",
            "\n",
            "DocID: 5973b08a-ef7d-431c-ac58-d31d4a57d63c\n",
            "Content: 서식지에서의 경쟁에서 우위를 점할 수 있습니다. 예를 들어, 암컷 호랑이는 녹색의 무늬를 가지고 있어 정글에서 녹아들 수 있습니다. 이렇게 호랑이는 경쟁 상대들에게 자신의 존재를 감추고, 먹이를 더 쉽게 찾을 수 있습니다. 따라서, 동물들은 자신의 환경에 녹아들 수 있도록 색상과 패턴을 적용하는 것입니다.\n",
            "\n",
            "DocID: e4b2c294-2c79-41f1-9f96-fa65e159c09d\n",
            "Content: 동물들은 환경 변화에 반응하여 털이 두꺼워지거나 탈락하는 것을 관찰할 수 있습니다. 겨울철에는 일부 동물들의 털이 두꺼워지는데, 이는 추운 날씨에 대비하여 몸을 보호하기 위한 자연스러운 반응입니다. 두꺼운 털은 동물의 몸을 따뜻하게 유지해주고 추위로부터 보호해줍니다. 그러나 봄이 오면 일부 동물들은 털을 탈락시키는데, 이는 날씨가 따뜻해지고 기온이 상승함에 따라 몸을 더욱 편안하게 유지하기 위한 자연스러운 변화입니다. 털을 탈락시킴으로써 동물들은 더욱 시원하고 편안한 환경에서 생활할 수 있습니다. 이러한 관찰은 동물들이 환경 변화에 민감하게 반응한다는 것을 보여줍니다. 동물들은 자신들의 생존에 필요한 조건에 맞게 행동하며, 환경 변화에 적응하고 생존할 수 있는 능력을 갖추고 있습니다.\n",
            "\n",
            "DocID: 22265207-3a7d-4d8d-b7a1-0c5d67943827\n",
            "Content: 식물이 피어 내는 꽃의 수에 빛의 색깔이 영향을 미치는지 알아보기 위해 학생들은 실험을 진행하려고 합니다. 선생님은 학생들에게 씨앗, 화분, 흙, 물, 그리고 다른 색깔을 가진 세 개의 전구를 제공합니다. 학생들은 재료를 고르게 나누기로 결정했습니다. 각 식물 그룹에 대해 달라야 하는 것은 사용하는 전구의 색깔입니다. 실험을 위해 학생들은 서로 다른 색깔을 가진 전구를 사용하여 각각의 식물 그룹을 비교할 것입니다. 이렇게 함으로써 학생들은 빛의 색깔이 식물의 성장과 꽃의 수에 어떤 영향을 미치는지 알아볼 수 있을 것입니다.\n",
            "\n",
            "DocID: 144ddf85-a978-42ee-a850-f352824129ff\n",
            "Content: 식물들이 키라는 학교 정원에서 여름에는 녹색을 띠며 성장하고, 겨울에는 갈색을 띠는 것을 알아차렸습니다. 이러한 현상은 여름에 지구의 북반구가 태양 쪽으로 기울어져 있기 때문입니다. 태양은 여름에 더 높은 각도로 지구를 비추어 더 많은 햇빛을 제공합니다. 이 햇빛은 식물들의 광합성에 필요한 에너지를 공급하고, 엽록소를 생성하여 식물들이 녹색을 띠게 합니다. 따라서 여름에는 식물들이 더욱 활발하게 성장하게 됩니다. 반면에 겨울에는 지구의 북반구가 태양으로부터 멀어지기 때문에 햇빛의 강도가 약해집니다. 이로 인해 식물들은 더 적은 양의 햇빛을 받게 되고, 광합성에 필요한 에너지를 얻기 어렵게 됩니다. 따라서 식물들은 갈색을 띠게 되며 성장 속도가 느려집니다. 이러한 이유로 식물들은 여름에 더 많이 자라는\n",
            "\n",
            "DocID: 06107c9d-b1b3-4efa-b45c-7b7632a8612c\n",
            "Content: 화학적 방어 메커니즘을 가진 동물들이 채택한 경계색은 Aposomatic 천연색입니다. Aposomatic 천연색은 동물들이 자신을 위협하는 포식자에게 경고 신호를 보내기 위해 사용하는 색상입니다. 이러한 색상은 독성 물질을 함유하고 있거나 독성을 가진 생물체일 가능성이 높은 동물들이 사용합니다. 이러한 경계색은 동물들이 포식자에게 위험하다는 메시지를 전달하고, 포식자들은 이러한 색상을 보고 위험을 느끼게 됩니다. 이를 통해 동물들은 포식자로부터의 공격을 피할 수 있습니다. Aposomatic 천연색은 동물들이 생존을 위해 발전한 효과적인 방어 메커니즘 중 하나입니다.\n",
            "\n"
          ]
        }
      ],
      "source": [
        "from langchain.chains import create_retrieval_chain\n",
        "from langchain.chains.combine_documents import create_stuff_documents_chain\n",
        "from langchain_core.prompts import ChatPromptTemplate\n",
        "from langchain_openai import ChatOpenAI\n",
        "\n",
        "# LLM 및 리트리버 설정\n",
        "llm = ChatOpenAI()\n",
        "retriever = vectordb.as_retriever(search_kwargs={\"k\": 10})\n",
        "\n",
        "# 시스템 프롬프트 설정\n",
        "system_prompt = (\n",
        "    \"주어진 문맥을 사용해 질문에 답변하세요. \"\n",
        "    \"모르면 모른다고 답변하세요. \"\n",
        "    \"최대 세 문장으로 간결하게 답변을 생성하세요. \"\n",
        "    \"문맥: {context}\"\n",
        ")\n",
        "\n",
        "# ChatPromptTemplate을 사용하여 프롬프트 구성\n",
        "retrieval_qa_chat_prompt = ChatPromptTemplate.from_messages(\n",
        "    [\n",
        "        (\"system\", system_prompt),\n",
        "        (\"human\", \"{input}\")\n",
        "    ]\n",
        ")\n",
        "\n",
        "# 프롬프트와 문서 결합 체인 생성\n",
        "combine_docs_chain = create_stuff_documents_chain(llm, retrieval_qa_chat_prompt)\n",
        "rag_chain = create_retrieval_chain(retriever, combine_docs_chain)\n",
        "\n",
        "# 질의응답 수행\n",
        "result = rag_chain.invoke({\"input\": \"동물의 털 색깔\"})\n",
        "\n",
        "# 답변 출력\n",
        "print(result['answer'])\n",
        "\n",
        "# 문서 출처 및 내용 출력\n",
        "print(\"\\n참고한 문서들:\")\n",
        "for doc in result[\"context\"]:\n",
        "    print(f\"DocID: {doc.metadata['docid']}\")\n",
        "    print(f\"Content: {doc.page_content}\\n\")\n"
      ]
    },
    {
      "cell_type": "code",
      "execution_count": null,
      "metadata": {},
      "outputs": [],
      "source": []
    },
    {
      "cell_type": "code",
      "execution_count": null,
      "metadata": {},
      "outputs": [],
      "source": [
        "from langchain.chains import create_retrieval_chain\n",
        "from langchain.chains.combine_documents import create_stuff_documents_chain\n",
        "from langchain_core.prompts import ChatPromptTemplate\n",
        "from langchain_openai import ChatOpenAI\n",
        "\n",
        "# DB에서 원본 문서를 가져오는 함수\n",
        "def get_original_document_by_docid(docid):\n",
        "    # documents 리스트에서 해당 docid를 찾아 원본 content를 반환\n",
        "    for doc in documents:\n",
        "        if doc['docid'] == docid:\n",
        "            return doc['content']\n",
        "    return \"원본 문서를 찾을 수 없습니다.\"\n",
        "\n",
        "# LLM 및 리트리버 설정\n",
        "llm = ChatOpenAI()\n",
        "retriever = vectordb.as_retriever(search_kwargs={\"k\": 10})\n",
        "\n",
        "# 시스템 프롬프트 설정\n",
        "system_prompt = (\n",
        "    \"주어진 문맥을 사용해 질문에 답변하세요. \"\n",
        "    \"모르면 모른다고 답변하세요. \"\n",
        "    \"최대 세 문장으로 간결하게 답변을 생성하세요. \"\n",
        "    \"문맥: {context}\"\n",
        ")\n",
        "\n",
        "# ChatPromptTemplate을 사용하여 프롬프트 구성\n",
        "retrieval_qa_chat_prompt = ChatPromptTemplate.from_messages(\n",
        "    [\n",
        "        (\"system\", system_prompt),\n",
        "        (\"human\", \"{input}\")\n",
        "    ]\n",
        ")\n",
        "\n",
        "# 프롬프트와 문서 결합 체인 생성\n",
        "combine_docs_chain = create_stuff_documents_chain(llm, retrieval_qa_chat_prompt)\n",
        "rag_chain = create_retrieval_chain(retriever, combine_docs_chain)\n",
        "\n",
        "# 질의응답 수행\n",
        "result = rag_chain.invoke({\"input\": \"동물의 털 색깔\"})\n",
        "\n",
        "# 답변 출력\n",
        "print(result['answer'])\n",
        "\n",
        "# 문서 출처 및 DB에서 원본 문서 가져오기\n",
        "print(\"\\n참고한 문서들:\")\n",
        "for doc in result[\"context\"]:\n",
        "    docid = doc.metadata['docid']  # 청크된 문서의 docid 가져오기\n",
        "    original_doc = get_original_document_by_docid(docid)  # 원본 문서에서 해당 docid로 검색하여 가져오기\n",
        "    print(f\"DocID: {docid}\")\n",
        "    print(f\"Original Content: {original_doc}\\n\")  # 원본 문서 내용 출력\n"
      ]
    },
    {
      "cell_type": "code",
      "execution_count": null,
      "metadata": {},
      "outputs": [],
      "source": [
        "import logging\n",
        "\n",
        "# # 디버깅 활성화 (LLM 쿼리와 체인의 동작을 추적하기 위함)\n",
        "# logging.basicConfig(level=logging.DEBUG)\n",
        "# ------------------------------------------------------------------------------------------------\n",
        "# 전체 로깅 수준을 INFO로 설정 (필요에 따라 WARNING으로 변경 가능)\n",
        "# logging.basicConfig(level=logging.INFO)\n",
        "\n",
        "# # OpenAI와 httpx 관련 디버깅을 명시적으로 비활성화\n",
        "# logging.getLogger(\"httpx\").setLevel(logging.WARNING)\n",
        "# logging.getLogger(\"httpcore\").setLevel(logging.WARNING)\n",
        "# logging.getLogger(\"openai\").setLevel(logging.WARNING)\n",
        "\n",
        "from langchain.chains import create_retrieval_chain\n",
        "from langchain.chains.combine_documents import create_stuff_documents_chain\n",
        "from langchain_core.prompts import ChatPromptTemplate\n",
        "from langchain_openai import ChatOpenAI\n",
        "\n",
        "# DB에서 원본 문서를 가져오는 함수\n",
        "def get_original_document_by_docid(docid):\n",
        "    # documents 리스트에서 해당 docid를 찾아 원본 content를 반환\n",
        "    for doc in documents:\n",
        "        if doc['docid'] == docid:\n",
        "            return doc['content']\n",
        "    return \"원본 문서를 찾을 수 없습니다.\"\n",
        "\n",
        "# LLM 및 리트리버 설정\n",
        "llm = ChatOpenAI(model_name=\"gpt-3.5-turbo\", temperature=0.5)\n",
        "retriever = vectordb.as_retriever(search_kwargs={\"k\": 10})\n",
        "\n",
        "# 시스템 프롬프트 설정 (쿼리 확장을 유도하는 내용 추가)\n",
        "system_prompt = (\n",
        "    \"주어진 문맥을 사용해 질문에 답변하고, 답변을 더 풍부하게 하기 위해 관련된 추가 질문을 5개 생성하세요. \"\n",
        "    \"질문은 명사구로 간결하게 생성하세요\"\n",
        "    \"질문에 대한 키워드도 생성하세요.\"\n",
        "    \"모르면 모른다고 답변하세요. \"\n",
        "    \"최대 세 문장으로 간결하게 답변을 생성하세요. \"\n",
        "    \"문맥: {context}\"\n",
        ")\n",
        "\n",
        "# ChatPromptTemplate을 사용하여 프롬프트 구성\n",
        "retrieval_qa_chat_prompt = ChatPromptTemplate.from_messages(\n",
        "    [\n",
        "        (\"system\", system_prompt),\n",
        "        (\"human\", \"{input}\")\n",
        "    ]\n",
        ")\n",
        "\n",
        "# 프롬프트와 문서 결합 체인 생성\n",
        "combine_docs_chain = create_stuff_documents_chain(llm, retrieval_qa_chat_prompt)\n",
        "rag_chain = create_retrieval_chain(retriever, combine_docs_chain)\n",
        "\n",
        "# 질의응답 수행\n",
        "result = rag_chain.invoke({\"input\": \"복숭아 키우는 노하우 좀\"})\n",
        "\n",
        "# 답변 출력\n",
        "print(result['answer'])\n",
        "\n",
        "# 문서 출처 및 DB에서 원본 문서 가져오기\n",
        "print(\"\\n참고한 문서들:\")\n",
        "for doc in result[\"context\"]:\n",
        "    docid = doc.metadata['docid']  # 청크된 문서의 docid 가져오기\n",
        "    original_doc = get_original_document_by_docid(docid)  # 원본 문서에서 해당 docid로 검색하여 가져오기\n",
        "    print(f\"DocID: {docid}\")\n",
        "    print(f\"Original Content: {original_doc}\\n\")  # 원본 문서 내용 출력\n"
      ]
    },
    {
      "cell_type": "markdown",
      "metadata": {
        "id": "RjyrGZyeW_iO"
      },
      "source": [
        "## Query"
      ]
    },
    {
      "cell_type": "code",
      "execution_count": null,
      "metadata": {
        "colab": {
          "base_uri": "https://localhost:8080/"
        },
        "id": "3YJIbk8hRPN2",
        "outputId": "3d70697b-6afa-46e1-a31a-f9b1c407fb8f"
      },
      "outputs": [],
      "source": [
        "# qa_chain은 LangChain에서 생성된 질의응답(Question Answering) 체인\n",
        "\n",
        "input_text = \"세균의 순기능\"\n",
        "chatbot_response = qa_chain(input_text)\n",
        "print(chatbot_response)"
      ]
    },
    {
      "cell_type": "code",
      "execution_count": 62,
      "metadata": {
        "id": "LZEo26mw8e5k"
      },
      "outputs": [],
      "source": [
        "# **챗봇의 응답(chatbot_response)**을 출력하고, 응답에 사용된 문서의 출처를 함께 보여주는 역할\n",
        "def get_chatbot_response(chatbot_response):\n",
        "    print(chatbot_response['result'].strip())\n",
        "    print('\\n문서 출처:')\n",
        "    for source in chatbot_response[\"source_documents\"]:\n",
        "        print(source.metadata['docid'], doc.page_content)"
      ]
    },
    {
      "cell_type": "code",
      "execution_count": null,
      "metadata": {
        "colab": {
          "base_uri": "https://localhost:8080/"
        },
        "id": "wKfX4vX-5RFT",
        "outputId": "eed85ebe-a1a5-4ecf-c328-419d0595c6dd"
      },
      "outputs": [],
      "source": [
        "input_text = \"세균의 순기능\"\n",
        "chatbot_response = qa_chain(input_text)\n",
        "get_chatbot_response(chatbot_response)"
      ]
    },
    {
      "cell_type": "code",
      "execution_count": null,
      "metadata": {
        "colab": {
          "base_uri": "https://localhost:8080/"
        },
        "id": "olRm73t3rNt2",
        "outputId": "2f6a439b-8b54-4a28-97df-c9ef36d15d1b"
      },
      "outputs": [],
      "source": [
        "# print(chatbot_response)\n",
        "chatbot_response"
      ]
    },
    {
      "cell_type": "code",
      "execution_count": null,
      "metadata": {
        "colab": {
          "base_uri": "https://localhost:8080/"
        },
        "id": "wg-e6fh6rNwz",
        "outputId": "7519a054-aaa1-41b4-cf4a-5aad57975851"
      },
      "outputs": [],
      "source": [
        "input_text = \"전세자금이 부족한 사람을 위한 정책 이름이 뭐야?\"\n",
        "llm_response = qa_chain(input_text)\n",
        "get_chatbot_response(llm_response)"
      ]
    },
    {
      "cell_type": "code",
      "execution_count": null,
      "metadata": {
        "colab": {
          "base_uri": "https://localhost:8080/"
        },
        "id": "t5KETxphrN3d",
        "outputId": "8ede585d-519b-4b1b-a3bf-2906a249141f"
      },
      "outputs": [],
      "source": [
        "query = \"동물의 털 색깔\"\n",
        "llm_response = qa_chain(query)\n",
        "get_chatbot_response(llm_response)"
      ]
    },
    {
      "cell_type": "code",
      "execution_count": null,
      "metadata": {
        "colab": {
          "base_uri": "https://localhost:8080/"
        },
        "id": "cuFf8D-rrN0I",
        "outputId": "f592d25f-1ab9-4cc1-e66d-229a67b953ed"
      },
      "outputs": [],
      "source": [
        "query = \"희망두배 청년통장의 지원 조건은?\"\n",
        "llm_response = qa_chain(query)\n",
        "get_chatbot_response(llm_response)"
      ]
    },
    {
      "cell_type": "code",
      "execution_count": null,
      "metadata": {
        "colab": {
          "base_uri": "https://localhost:8080/"
        },
        "id": "692pHNkFrN5z",
        "outputId": "806697e3-4caf-48f1-c972-2033f8d023c9"
      },
      "outputs": [],
      "source": [
        "query = \"희망두배 청년통장의 마감 기한은?\"\n",
        "llm_response = qa_chain(query)\n",
        "get_chatbot_response(llm_response)"
      ]
    },
    {
      "cell_type": "code",
      "execution_count": null,
      "metadata": {
        "colab": {
          "base_uri": "https://localhost:8080/"
        },
        "id": "t-jz6zAI5PlW",
        "outputId": "de14784b-c780-4262-9f3f-cdff0199a4ea"
      },
      "outputs": [],
      "source": [
        "!pip install gradio"
      ]
    },
    {
      "cell_type": "markdown",
      "metadata": {
        "id": "UozRGHap6b3A"
      },
      "source": [
        "To create a public link, set `share=True` in `launch()`.  \n",
        "Running on https://localhost:7860/  \n",
        "\n",
        "라는 식의 문구가 나오면 위의 localhost로 시작하는 주소를 클릭하세요."
      ]
    },
    {
      "cell_type": "code",
      "execution_count": null,
      "metadata": {
        "colab": {
          "base_uri": "https://localhost:8080/",
          "height": 618
        },
        "id": "ZWXwk0Ms56_t",
        "outputId": "f352a4ce-6d6f-4bb5-ff33-46e27d8eec31"
      },
      "outputs": [],
      "source": [
        "import gradio as gr\n",
        "\n",
        "# 인터페이스를 생성.\n",
        "with gr.Blocks() as demo:\n",
        "    chatbot = gr.Chatbot(label=\"청년정책챗봇\") # 청년정책챗봇 레이블을 좌측 상단에 구성\n",
        "    msg = gr.Textbox(label=\"질문해주세요!\")  # 하단의 채팅창의 레이블\n",
        "    clear = gr.Button(\"대화 초기화\")  # 대화 초기화 버튼\n",
        "\n",
        "    # 챗봇의 답변을 처리하는 함수\n",
        "    def respond(message, chat_history):\n",
        "      result = qa_chain(message)\n",
        "      bot_message = result['result']\n",
        "      bot_message += ' # sources :'\n",
        "\n",
        "      # 답변의 출처를 표기\n",
        "      for i, doc in enumerate(result['source_documents']):\n",
        "          bot_message += '[' + str(i+1) + '] ' + doc.metadata['source'] + ' '\n",
        "\n",
        "      # 채팅 기록에 사용자의 메시지와 봇의 응답을 추가.\n",
        "      chat_history.append((message, bot_message))\n",
        "      return \"\", chat_history\n",
        "\n",
        "    # 사용자의 입력을 제출(submit)하면 respond 함수가 호출.\n",
        "    msg.submit(respond, [msg, chatbot], [msg, chatbot])\n",
        "\n",
        "    # '초기화' 버튼을 클릭하면 채팅 기록을 초기화.\n",
        "    clear.click(lambda: None, None, chatbot, queue=False)\n",
        "\n",
        "# 인터페이스 실행.\n",
        "demo.launch(debug=True)"
      ]
    }
  ],
  "metadata": {
    "colab": {
      "provenance": []
    },
    "kernelspec": {
      "display_name": "Python 3",
      "name": "python3"
    },
    "language_info": {
      "codemirror_mode": {
        "name": "ipython",
        "version": 3
      },
      "file_extension": ".py",
      "mimetype": "text/x-python",
      "name": "python",
      "nbconvert_exporter": "python",
      "pygments_lexer": "ipython3",
      "version": "3.10.15"
    }
  },
  "nbformat": 4,
  "nbformat_minor": 0
}
