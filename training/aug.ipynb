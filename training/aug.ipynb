{
 "cells": [
  {
   "cell_type": "code",
   "execution_count": 1,
   "metadata": {},
   "outputs": [],
   "source": [
    "import torch\n",
    "import random\n",
    "import pandas as pd\n",
    "import json\n",
    "import numpy as np\n",
    "import torch.backends.cudnn as cudnn"
   ]
  },
  {
   "cell_type": "code",
   "execution_count": 2,
   "metadata": {},
   "outputs": [
    {
     "name": "stdout",
     "output_type": "stream",
     "text": [
      "device: cuda:0\n"
     ]
    }
   ],
   "source": [
    "seed = 42\n",
    "torch.manual_seed(seed)\n",
    "torch.cuda.manual_seed(seed)\n",
    "torch.cuda.manual_seed_all(seed)\n",
    "np.random.seed(seed)\n",
    "cudnn.benchmark = False\n",
    "cudnn.deterministic = True\n",
    "random.seed(seed)\n",
    "# seed 결과가달라짐 3~4%\n",
    "\n",
    "device = \"cuda:0\" if torch.cuda.is_available() else \"cpu\"\n",
    "print('device:', device)"
   ]
  },
  {
   "cell_type": "code",
   "execution_count": 3,
   "metadata": {},
   "outputs": [
    {
     "name": "stdout",
     "output_type": "stream",
     "text": [
      "----------\n",
      "Data Loading Start!!\n",
      "----------\n",
      "origin_data: (42720, 5)\n"
     ]
    }
   ],
   "source": [
    "print('-'*10)\n",
    "print('Data Loading Start!!')\n",
    "print('-'*10)\n",
    "\n",
    "## dataset class\n",
    "path = \"/data/ephemeral/home/data/aug_data_x10.jsonl\"\n",
    "\n",
    "with open(path) as f:\n",
    "    data = [json.loads(line) for line in f]\n",
    "data = pd.DataFrame(data)\n",
    "print('origin_data:', data.shape)\n"
   ]
  },
  {
   "cell_type": "code",
   "execution_count": 5,
   "metadata": {},
   "outputs": [
    {
     "data": {
      "text/plain": [
       "Index(['docid', 'question', 'content', 'src', 'new_domains'], dtype='object')"
      ]
     },
     "execution_count": 5,
     "metadata": {},
     "output_type": "execute_result"
    }
   ],
   "source": [
    "data.columns"
   ]
  },
  {
   "cell_type": "code",
   "execution_count": 4,
   "metadata": {},
   "outputs": [
    {
     "data": {
      "text/plain": [
       "array(['human_aging', 'medical_genetics', 'high_school_biology',\n",
       "       'college_chemistry', 'college_physics', 'conceptual_physics',\n",
       "       'global_facts', 'None', 'unknown', 'computer_security',\n",
       "       'high_school_chemistry', 'anatomy', 'nutrition', 'human_sexuality',\n",
       "       'astronomy', 'high_school_computer_science', 'virology',\n",
       "       'electrical_engineering', 'college_medicine', 'college_biology',\n",
       "       'college_computer_science', 'human_aging, nutrition',\n",
       "       'high_school_physics', 'geology', 'art', 'college_science',\n",
       "       'safety', 'civil_engineering', 'new_technology_in_industry',\n",
       "       'engineering', 'data_visualization',\n",
       "       'human_sexuality, medical_genetics', 'environmental_science',\n",
       "       'music_performance', 'logistics', 'None, medical_genetics',\n",
       "       'astronomy, college_physics', 'construction_tools',\n",
       "       'astronomy, college_biology', 'astronomy, conceptual_physics',\n",
       "       'anatomy, college_chemistry', 'safety_education',\n",
       "       'investigation_records'], dtype=object)"
      ]
     },
     "execution_count": 4,
     "metadata": {},
     "output_type": "execute_result"
    }
   ],
   "source": [
    "data['new_domains'].unique()"
   ]
  },
  {
   "cell_type": "code",
   "execution_count": 5,
   "metadata": {},
   "outputs": [],
   "source": [
    "data2 = data[~data['new_domains'].isin(['None','unknown'])]"
   ]
  },
  {
   "cell_type": "code",
   "execution_count": 6,
   "metadata": {},
   "outputs": [
    {
     "data": {
      "text/plain": [
       "(41580, 5)"
      ]
     },
     "execution_count": 6,
     "metadata": {},
     "output_type": "execute_result"
    }
   ],
   "source": [
    "data2.shape"
   ]
  },
  {
   "cell_type": "code",
   "execution_count": 7,
   "metadata": {},
   "outputs": [
    {
     "data": {
      "text/plain": [
       "array(['human_aging', 'medical_genetics', 'high_school_biology',\n",
       "       'college_chemistry', 'college_physics', 'conceptual_physics',\n",
       "       'global_facts', 'computer_security', 'high_school_chemistry',\n",
       "       'anatomy', 'nutrition', 'human_sexuality', 'astronomy',\n",
       "       'high_school_computer_science', 'virology',\n",
       "       'electrical_engineering', 'college_medicine', 'college_biology',\n",
       "       'college_computer_science', 'human_aging, nutrition',\n",
       "       'high_school_physics', 'geology', 'art', 'college_science',\n",
       "       'safety', 'civil_engineering', 'new_technology_in_industry',\n",
       "       'engineering', 'data_visualization',\n",
       "       'human_sexuality, medical_genetics', 'environmental_science',\n",
       "       'music_performance', 'logistics', 'None, medical_genetics',\n",
       "       'astronomy, college_physics', 'construction_tools',\n",
       "       'astronomy, college_biology', 'astronomy, conceptual_physics',\n",
       "       'anatomy, college_chemistry', 'safety_education',\n",
       "       'investigation_records'], dtype=object)"
      ]
     },
     "execution_count": 7,
     "metadata": {},
     "output_type": "execute_result"
    }
   ],
   "source": [
    "data2['new_domains'].unique()"
   ]
  },
  {
   "cell_type": "code",
   "execution_count": 8,
   "metadata": {},
   "outputs": [
    {
     "data": {
      "text/html": [
       "<div>\n",
       "<style scoped>\n",
       "    .dataframe tbody tr th:only-of-type {\n",
       "        vertical-align: middle;\n",
       "    }\n",
       "\n",
       "    .dataframe tbody tr th {\n",
       "        vertical-align: top;\n",
       "    }\n",
       "\n",
       "    .dataframe thead th {\n",
       "        text-align: right;\n",
       "    }\n",
       "</style>\n",
       "<table border=\"1\" class=\"dataframe\">\n",
       "  <thead>\n",
       "    <tr style=\"text-align: right;\">\n",
       "      <th></th>\n",
       "      <th>docid</th>\n",
       "      <th>question</th>\n",
       "      <th>content</th>\n",
       "      <th>src</th>\n",
       "      <th>new_domains</th>\n",
       "    </tr>\n",
       "  </thead>\n",
       "  <tbody>\n",
       "    <tr>\n",
       "      <th>33360</th>\n",
       "      <td>c73343e8-395d-40d0-854a-529d11c4e194</td>\n",
       "      <td>천문학자들은 어떤 대상을 연구하나요?</td>\n",
       "      <td>천문학자와 생물학자는 과학의 다른 영역을 연구합니다. 천문학자들은 하늘에 있는 매우...</td>\n",
       "      <td>ko_ai2_arc__ARC_Challenge__train</td>\n",
       "      <td>astronomy, college_biology</td>\n",
       "    </tr>\n",
       "    <tr>\n",
       "      <th>33361</th>\n",
       "      <td>c73343e8-395d-40d0-854a-529d11c4e194</td>\n",
       "      <td>생물학자들은 어떤 객체를 연구하나요?</td>\n",
       "      <td>천문학자와 생물학자는 과학의 다른 영역을 연구합니다. 천문학자들은 하늘에 있는 매우...</td>\n",
       "      <td>ko_ai2_arc__ARC_Challenge__train</td>\n",
       "      <td>astronomy, college_biology</td>\n",
       "    </tr>\n",
       "    <tr>\n",
       "      <th>33362</th>\n",
       "      <td>c73343e8-395d-40d0-854a-529d11c4e194</td>\n",
       "      <td>천문학자와 생물학자의 연구 방법에는 어떤 공통점이 있나요?</td>\n",
       "      <td>천문학자와 생물학자는 과학의 다른 영역을 연구합니다. 천문학자들은 하늘에 있는 매우...</td>\n",
       "      <td>ko_ai2_arc__ARC_Challenge__train</td>\n",
       "      <td>astronomy, college_biology</td>\n",
       "    </tr>\n",
       "    <tr>\n",
       "      <th>33363</th>\n",
       "      <td>c73343e8-395d-40d0-854a-529d11c4e194</td>\n",
       "      <td>광학 장치의 예시로 어떤 것들이 있나요?</td>\n",
       "      <td>천문학자와 생물학자는 과학의 다른 영역을 연구합니다. 천문학자들은 하늘에 있는 매우...</td>\n",
       "      <td>ko_ai2_arc__ARC_Challenge__train</td>\n",
       "      <td>astronomy, college_biology</td>\n",
       "    </tr>\n",
       "    <tr>\n",
       "      <th>33364</th>\n",
       "      <td>c73343e8-395d-40d0-854a-529d11c4e194</td>\n",
       "      <td>천문학자들이 사용하는 장치는 무엇인가요?</td>\n",
       "      <td>천문학자와 생물학자는 과학의 다른 영역을 연구합니다. 천문학자들은 하늘에 있는 매우...</td>\n",
       "      <td>ko_ai2_arc__ARC_Challenge__train</td>\n",
       "      <td>astronomy, college_biology</td>\n",
       "    </tr>\n",
       "    <tr>\n",
       "      <th>33365</th>\n",
       "      <td>c73343e8-395d-40d0-854a-529d11c4e194</td>\n",
       "      <td>생물학자들이 사용하는 장치는 무엇인가요?</td>\n",
       "      <td>천문학자와 생물학자는 과학의 다른 영역을 연구합니다. 천문학자들은 하늘에 있는 매우...</td>\n",
       "      <td>ko_ai2_arc__ARC_Challenge__train</td>\n",
       "      <td>astronomy, college_biology</td>\n",
       "    </tr>\n",
       "    <tr>\n",
       "      <th>33366</th>\n",
       "      <td>c73343e8-395d-40d0-854a-529d11c4e194</td>\n",
       "      <td>광학 장치를 사용하면 어떤 이점이 있나요?</td>\n",
       "      <td>천문학자와 생물학자는 과학의 다른 영역을 연구합니다. 천문학자들은 하늘에 있는 매우...</td>\n",
       "      <td>ko_ai2_arc__ARC_Challenge__train</td>\n",
       "      <td>astronomy, college_biology</td>\n",
       "    </tr>\n",
       "    <tr>\n",
       "      <th>33367</th>\n",
       "      <td>c73343e8-395d-40d0-854a-529d11c4e194</td>\n",
       "      <td>천문학자와 생물학자는 어떤 분야의 연구자들인가요?</td>\n",
       "      <td>천문학자와 생물학자는 과학의 다른 영역을 연구합니다. 천문학자들은 하늘에 있는 매우...</td>\n",
       "      <td>ko_ai2_arc__ARC_Challenge__train</td>\n",
       "      <td>astronomy, college_biology</td>\n",
       "    </tr>\n",
       "    <tr>\n",
       "      <th>33368</th>\n",
       "      <td>c73343e8-395d-40d0-854a-529d11c4e194</td>\n",
       "      <td>천문학자와 생물학자가 연구하는 대상은 어떻게 다르나요?</td>\n",
       "      <td>천문학자와 생물학자는 과학의 다른 영역을 연구합니다. 천문학자들은 하늘에 있는 매우...</td>\n",
       "      <td>ko_ai2_arc__ARC_Challenge__train</td>\n",
       "      <td>astronomy, college_biology</td>\n",
       "    </tr>\n",
       "    <tr>\n",
       "      <th>33369</th>\n",
       "      <td>c73343e8-395d-40d0-854a-529d11c4e194</td>\n",
       "      <td>광학 장치가 발견에 미치는 영향은 무엇인가요?</td>\n",
       "      <td>천문학자와 생물학자는 과학의 다른 영역을 연구합니다. 천문학자들은 하늘에 있는 매우...</td>\n",
       "      <td>ko_ai2_arc__ARC_Challenge__train</td>\n",
       "      <td>astronomy, college_biology</td>\n",
       "    </tr>\n",
       "  </tbody>\n",
       "</table>\n",
       "</div>"
      ],
      "text/plain": [
       "                                      docid                          question  \\\n",
       "33360  c73343e8-395d-40d0-854a-529d11c4e194              천문학자들은 어떤 대상을 연구하나요?   \n",
       "33361  c73343e8-395d-40d0-854a-529d11c4e194              생물학자들은 어떤 객체를 연구하나요?   \n",
       "33362  c73343e8-395d-40d0-854a-529d11c4e194  천문학자와 생물학자의 연구 방법에는 어떤 공통점이 있나요?   \n",
       "33363  c73343e8-395d-40d0-854a-529d11c4e194            광학 장치의 예시로 어떤 것들이 있나요?   \n",
       "33364  c73343e8-395d-40d0-854a-529d11c4e194            천문학자들이 사용하는 장치는 무엇인가요?   \n",
       "33365  c73343e8-395d-40d0-854a-529d11c4e194            생물학자들이 사용하는 장치는 무엇인가요?   \n",
       "33366  c73343e8-395d-40d0-854a-529d11c4e194           광학 장치를 사용하면 어떤 이점이 있나요?   \n",
       "33367  c73343e8-395d-40d0-854a-529d11c4e194       천문학자와 생물학자는 어떤 분야의 연구자들인가요?   \n",
       "33368  c73343e8-395d-40d0-854a-529d11c4e194    천문학자와 생물학자가 연구하는 대상은 어떻게 다르나요?   \n",
       "33369  c73343e8-395d-40d0-854a-529d11c4e194         광학 장치가 발견에 미치는 영향은 무엇인가요?   \n",
       "\n",
       "                                                 content  \\\n",
       "33360  천문학자와 생물학자는 과학의 다른 영역을 연구합니다. 천문학자들은 하늘에 있는 매우...   \n",
       "33361  천문학자와 생물학자는 과학의 다른 영역을 연구합니다. 천문학자들은 하늘에 있는 매우...   \n",
       "33362  천문학자와 생물학자는 과학의 다른 영역을 연구합니다. 천문학자들은 하늘에 있는 매우...   \n",
       "33363  천문학자와 생물학자는 과학의 다른 영역을 연구합니다. 천문학자들은 하늘에 있는 매우...   \n",
       "33364  천문학자와 생물학자는 과학의 다른 영역을 연구합니다. 천문학자들은 하늘에 있는 매우...   \n",
       "33365  천문학자와 생물학자는 과학의 다른 영역을 연구합니다. 천문학자들은 하늘에 있는 매우...   \n",
       "33366  천문학자와 생물학자는 과학의 다른 영역을 연구합니다. 천문학자들은 하늘에 있는 매우...   \n",
       "33367  천문학자와 생물학자는 과학의 다른 영역을 연구합니다. 천문학자들은 하늘에 있는 매우...   \n",
       "33368  천문학자와 생물학자는 과학의 다른 영역을 연구합니다. 천문학자들은 하늘에 있는 매우...   \n",
       "33369  천문학자와 생물학자는 과학의 다른 영역을 연구합니다. 천문학자들은 하늘에 있는 매우...   \n",
       "\n",
       "                                    src                 new_domains  \n",
       "33360  ko_ai2_arc__ARC_Challenge__train  astronomy, college_biology  \n",
       "33361  ko_ai2_arc__ARC_Challenge__train  astronomy, college_biology  \n",
       "33362  ko_ai2_arc__ARC_Challenge__train  astronomy, college_biology  \n",
       "33363  ko_ai2_arc__ARC_Challenge__train  astronomy, college_biology  \n",
       "33364  ko_ai2_arc__ARC_Challenge__train  astronomy, college_biology  \n",
       "33365  ko_ai2_arc__ARC_Challenge__train  astronomy, college_biology  \n",
       "33366  ko_ai2_arc__ARC_Challenge__train  astronomy, college_biology  \n",
       "33367  ko_ai2_arc__ARC_Challenge__train  astronomy, college_biology  \n",
       "33368  ko_ai2_arc__ARC_Challenge__train  astronomy, college_biology  \n",
       "33369  ko_ai2_arc__ARC_Challenge__train  astronomy, college_biology  "
      ]
     },
     "execution_count": 8,
     "metadata": {},
     "output_type": "execute_result"
    }
   ],
   "source": [
    "data2[data2['new_domains']=='astronomy, college_biology']"
   ]
  },
  {
   "cell_type": "code",
   "execution_count": 9,
   "metadata": {},
   "outputs": [],
   "source": [
    "data2_expanded = data2.copy()\n",
    "data2_expanded['new_domains'] = data2_expanded['new_domains'].str.split(', ')\n",
    "data2_expanded = data2_expanded.explode('new_domains').reset_index(drop=True)\n"
   ]
  },
  {
   "cell_type": "code",
   "execution_count": 10,
   "metadata": {},
   "outputs": [
    {
     "data": {
      "text/html": [
       "<div>\n",
       "<style scoped>\n",
       "    .dataframe tbody tr th:only-of-type {\n",
       "        vertical-align: middle;\n",
       "    }\n",
       "\n",
       "    .dataframe tbody tr th {\n",
       "        vertical-align: top;\n",
       "    }\n",
       "\n",
       "    .dataframe thead th {\n",
       "        text-align: right;\n",
       "    }\n",
       "</style>\n",
       "<table border=\"1\" class=\"dataframe\">\n",
       "  <thead>\n",
       "    <tr style=\"text-align: right;\">\n",
       "      <th></th>\n",
       "      <th>docid</th>\n",
       "      <th>question</th>\n",
       "      <th>content</th>\n",
       "      <th>src</th>\n",
       "      <th>new_domains</th>\n",
       "    </tr>\n",
       "  </thead>\n",
       "  <tbody>\n",
       "    <tr>\n",
       "      <th>32520</th>\n",
       "      <td>c73343e8-395d-40d0-854a-529d11c4e194</td>\n",
       "      <td>천문학자들은 어떤 대상을 연구하나요?</td>\n",
       "      <td>천문학자와 생물학자는 과학의 다른 영역을 연구합니다. 천문학자들은 하늘에 있는 매우...</td>\n",
       "      <td>ko_ai2_arc__ARC_Challenge__train</td>\n",
       "      <td>astronomy</td>\n",
       "    </tr>\n",
       "    <tr>\n",
       "      <th>32521</th>\n",
       "      <td>c73343e8-395d-40d0-854a-529d11c4e194</td>\n",
       "      <td>천문학자들은 어떤 대상을 연구하나요?</td>\n",
       "      <td>천문학자와 생물학자는 과학의 다른 영역을 연구합니다. 천문학자들은 하늘에 있는 매우...</td>\n",
       "      <td>ko_ai2_arc__ARC_Challenge__train</td>\n",
       "      <td>college_biology</td>\n",
       "    </tr>\n",
       "    <tr>\n",
       "      <th>32522</th>\n",
       "      <td>c73343e8-395d-40d0-854a-529d11c4e194</td>\n",
       "      <td>생물학자들은 어떤 객체를 연구하나요?</td>\n",
       "      <td>천문학자와 생물학자는 과학의 다른 영역을 연구합니다. 천문학자들은 하늘에 있는 매우...</td>\n",
       "      <td>ko_ai2_arc__ARC_Challenge__train</td>\n",
       "      <td>astronomy</td>\n",
       "    </tr>\n",
       "    <tr>\n",
       "      <th>32523</th>\n",
       "      <td>c73343e8-395d-40d0-854a-529d11c4e194</td>\n",
       "      <td>생물학자들은 어떤 객체를 연구하나요?</td>\n",
       "      <td>천문학자와 생물학자는 과학의 다른 영역을 연구합니다. 천문학자들은 하늘에 있는 매우...</td>\n",
       "      <td>ko_ai2_arc__ARC_Challenge__train</td>\n",
       "      <td>college_biology</td>\n",
       "    </tr>\n",
       "    <tr>\n",
       "      <th>32524</th>\n",
       "      <td>c73343e8-395d-40d0-854a-529d11c4e194</td>\n",
       "      <td>천문학자와 생물학자의 연구 방법에는 어떤 공통점이 있나요?</td>\n",
       "      <td>천문학자와 생물학자는 과학의 다른 영역을 연구합니다. 천문학자들은 하늘에 있는 매우...</td>\n",
       "      <td>ko_ai2_arc__ARC_Challenge__train</td>\n",
       "      <td>astronomy</td>\n",
       "    </tr>\n",
       "    <tr>\n",
       "      <th>32525</th>\n",
       "      <td>c73343e8-395d-40d0-854a-529d11c4e194</td>\n",
       "      <td>천문학자와 생물학자의 연구 방법에는 어떤 공통점이 있나요?</td>\n",
       "      <td>천문학자와 생물학자는 과학의 다른 영역을 연구합니다. 천문학자들은 하늘에 있는 매우...</td>\n",
       "      <td>ko_ai2_arc__ARC_Challenge__train</td>\n",
       "      <td>college_biology</td>\n",
       "    </tr>\n",
       "    <tr>\n",
       "      <th>32526</th>\n",
       "      <td>c73343e8-395d-40d0-854a-529d11c4e194</td>\n",
       "      <td>광학 장치의 예시로 어떤 것들이 있나요?</td>\n",
       "      <td>천문학자와 생물학자는 과학의 다른 영역을 연구합니다. 천문학자들은 하늘에 있는 매우...</td>\n",
       "      <td>ko_ai2_arc__ARC_Challenge__train</td>\n",
       "      <td>astronomy</td>\n",
       "    </tr>\n",
       "    <tr>\n",
       "      <th>32527</th>\n",
       "      <td>c73343e8-395d-40d0-854a-529d11c4e194</td>\n",
       "      <td>광학 장치의 예시로 어떤 것들이 있나요?</td>\n",
       "      <td>천문학자와 생물학자는 과학의 다른 영역을 연구합니다. 천문학자들은 하늘에 있는 매우...</td>\n",
       "      <td>ko_ai2_arc__ARC_Challenge__train</td>\n",
       "      <td>college_biology</td>\n",
       "    </tr>\n",
       "    <tr>\n",
       "      <th>32528</th>\n",
       "      <td>c73343e8-395d-40d0-854a-529d11c4e194</td>\n",
       "      <td>천문학자들이 사용하는 장치는 무엇인가요?</td>\n",
       "      <td>천문학자와 생물학자는 과학의 다른 영역을 연구합니다. 천문학자들은 하늘에 있는 매우...</td>\n",
       "      <td>ko_ai2_arc__ARC_Challenge__train</td>\n",
       "      <td>astronomy</td>\n",
       "    </tr>\n",
       "    <tr>\n",
       "      <th>32529</th>\n",
       "      <td>c73343e8-395d-40d0-854a-529d11c4e194</td>\n",
       "      <td>천문학자들이 사용하는 장치는 무엇인가요?</td>\n",
       "      <td>천문학자와 생물학자는 과학의 다른 영역을 연구합니다. 천문학자들은 하늘에 있는 매우...</td>\n",
       "      <td>ko_ai2_arc__ARC_Challenge__train</td>\n",
       "      <td>college_biology</td>\n",
       "    </tr>\n",
       "    <tr>\n",
       "      <th>32530</th>\n",
       "      <td>c73343e8-395d-40d0-854a-529d11c4e194</td>\n",
       "      <td>생물학자들이 사용하는 장치는 무엇인가요?</td>\n",
       "      <td>천문학자와 생물학자는 과학의 다른 영역을 연구합니다. 천문학자들은 하늘에 있는 매우...</td>\n",
       "      <td>ko_ai2_arc__ARC_Challenge__train</td>\n",
       "      <td>astronomy</td>\n",
       "    </tr>\n",
       "    <tr>\n",
       "      <th>32531</th>\n",
       "      <td>c73343e8-395d-40d0-854a-529d11c4e194</td>\n",
       "      <td>생물학자들이 사용하는 장치는 무엇인가요?</td>\n",
       "      <td>천문학자와 생물학자는 과학의 다른 영역을 연구합니다. 천문학자들은 하늘에 있는 매우...</td>\n",
       "      <td>ko_ai2_arc__ARC_Challenge__train</td>\n",
       "      <td>college_biology</td>\n",
       "    </tr>\n",
       "    <tr>\n",
       "      <th>32532</th>\n",
       "      <td>c73343e8-395d-40d0-854a-529d11c4e194</td>\n",
       "      <td>광학 장치를 사용하면 어떤 이점이 있나요?</td>\n",
       "      <td>천문학자와 생물학자는 과학의 다른 영역을 연구합니다. 천문학자들은 하늘에 있는 매우...</td>\n",
       "      <td>ko_ai2_arc__ARC_Challenge__train</td>\n",
       "      <td>astronomy</td>\n",
       "    </tr>\n",
       "    <tr>\n",
       "      <th>32533</th>\n",
       "      <td>c73343e8-395d-40d0-854a-529d11c4e194</td>\n",
       "      <td>광학 장치를 사용하면 어떤 이점이 있나요?</td>\n",
       "      <td>천문학자와 생물학자는 과학의 다른 영역을 연구합니다. 천문학자들은 하늘에 있는 매우...</td>\n",
       "      <td>ko_ai2_arc__ARC_Challenge__train</td>\n",
       "      <td>college_biology</td>\n",
       "    </tr>\n",
       "    <tr>\n",
       "      <th>32534</th>\n",
       "      <td>c73343e8-395d-40d0-854a-529d11c4e194</td>\n",
       "      <td>천문학자와 생물학자는 어떤 분야의 연구자들인가요?</td>\n",
       "      <td>천문학자와 생물학자는 과학의 다른 영역을 연구합니다. 천문학자들은 하늘에 있는 매우...</td>\n",
       "      <td>ko_ai2_arc__ARC_Challenge__train</td>\n",
       "      <td>astronomy</td>\n",
       "    </tr>\n",
       "    <tr>\n",
       "      <th>32535</th>\n",
       "      <td>c73343e8-395d-40d0-854a-529d11c4e194</td>\n",
       "      <td>천문학자와 생물학자는 어떤 분야의 연구자들인가요?</td>\n",
       "      <td>천문학자와 생물학자는 과학의 다른 영역을 연구합니다. 천문학자들은 하늘에 있는 매우...</td>\n",
       "      <td>ko_ai2_arc__ARC_Challenge__train</td>\n",
       "      <td>college_biology</td>\n",
       "    </tr>\n",
       "    <tr>\n",
       "      <th>32536</th>\n",
       "      <td>c73343e8-395d-40d0-854a-529d11c4e194</td>\n",
       "      <td>천문학자와 생물학자가 연구하는 대상은 어떻게 다르나요?</td>\n",
       "      <td>천문학자와 생물학자는 과학의 다른 영역을 연구합니다. 천문학자들은 하늘에 있는 매우...</td>\n",
       "      <td>ko_ai2_arc__ARC_Challenge__train</td>\n",
       "      <td>astronomy</td>\n",
       "    </tr>\n",
       "    <tr>\n",
       "      <th>32537</th>\n",
       "      <td>c73343e8-395d-40d0-854a-529d11c4e194</td>\n",
       "      <td>천문학자와 생물학자가 연구하는 대상은 어떻게 다르나요?</td>\n",
       "      <td>천문학자와 생물학자는 과학의 다른 영역을 연구합니다. 천문학자들은 하늘에 있는 매우...</td>\n",
       "      <td>ko_ai2_arc__ARC_Challenge__train</td>\n",
       "      <td>college_biology</td>\n",
       "    </tr>\n",
       "    <tr>\n",
       "      <th>32538</th>\n",
       "      <td>c73343e8-395d-40d0-854a-529d11c4e194</td>\n",
       "      <td>광학 장치가 발견에 미치는 영향은 무엇인가요?</td>\n",
       "      <td>천문학자와 생물학자는 과학의 다른 영역을 연구합니다. 천문학자들은 하늘에 있는 매우...</td>\n",
       "      <td>ko_ai2_arc__ARC_Challenge__train</td>\n",
       "      <td>astronomy</td>\n",
       "    </tr>\n",
       "    <tr>\n",
       "      <th>32539</th>\n",
       "      <td>c73343e8-395d-40d0-854a-529d11c4e194</td>\n",
       "      <td>광학 장치가 발견에 미치는 영향은 무엇인가요?</td>\n",
       "      <td>천문학자와 생물학자는 과학의 다른 영역을 연구합니다. 천문학자들은 하늘에 있는 매우...</td>\n",
       "      <td>ko_ai2_arc__ARC_Challenge__train</td>\n",
       "      <td>college_biology</td>\n",
       "    </tr>\n",
       "  </tbody>\n",
       "</table>\n",
       "</div>"
      ],
      "text/plain": [
       "                                      docid                          question  \\\n",
       "32520  c73343e8-395d-40d0-854a-529d11c4e194              천문학자들은 어떤 대상을 연구하나요?   \n",
       "32521  c73343e8-395d-40d0-854a-529d11c4e194              천문학자들은 어떤 대상을 연구하나요?   \n",
       "32522  c73343e8-395d-40d0-854a-529d11c4e194              생물학자들은 어떤 객체를 연구하나요?   \n",
       "32523  c73343e8-395d-40d0-854a-529d11c4e194              생물학자들은 어떤 객체를 연구하나요?   \n",
       "32524  c73343e8-395d-40d0-854a-529d11c4e194  천문학자와 생물학자의 연구 방법에는 어떤 공통점이 있나요?   \n",
       "32525  c73343e8-395d-40d0-854a-529d11c4e194  천문학자와 생물학자의 연구 방법에는 어떤 공통점이 있나요?   \n",
       "32526  c73343e8-395d-40d0-854a-529d11c4e194            광학 장치의 예시로 어떤 것들이 있나요?   \n",
       "32527  c73343e8-395d-40d0-854a-529d11c4e194            광학 장치의 예시로 어떤 것들이 있나요?   \n",
       "32528  c73343e8-395d-40d0-854a-529d11c4e194            천문학자들이 사용하는 장치는 무엇인가요?   \n",
       "32529  c73343e8-395d-40d0-854a-529d11c4e194            천문학자들이 사용하는 장치는 무엇인가요?   \n",
       "32530  c73343e8-395d-40d0-854a-529d11c4e194            생물학자들이 사용하는 장치는 무엇인가요?   \n",
       "32531  c73343e8-395d-40d0-854a-529d11c4e194            생물학자들이 사용하는 장치는 무엇인가요?   \n",
       "32532  c73343e8-395d-40d0-854a-529d11c4e194           광학 장치를 사용하면 어떤 이점이 있나요?   \n",
       "32533  c73343e8-395d-40d0-854a-529d11c4e194           광학 장치를 사용하면 어떤 이점이 있나요?   \n",
       "32534  c73343e8-395d-40d0-854a-529d11c4e194       천문학자와 생물학자는 어떤 분야의 연구자들인가요?   \n",
       "32535  c73343e8-395d-40d0-854a-529d11c4e194       천문학자와 생물학자는 어떤 분야의 연구자들인가요?   \n",
       "32536  c73343e8-395d-40d0-854a-529d11c4e194    천문학자와 생물학자가 연구하는 대상은 어떻게 다르나요?   \n",
       "32537  c73343e8-395d-40d0-854a-529d11c4e194    천문학자와 생물학자가 연구하는 대상은 어떻게 다르나요?   \n",
       "32538  c73343e8-395d-40d0-854a-529d11c4e194         광학 장치가 발견에 미치는 영향은 무엇인가요?   \n",
       "32539  c73343e8-395d-40d0-854a-529d11c4e194         광학 장치가 발견에 미치는 영향은 무엇인가요?   \n",
       "\n",
       "                                                 content  \\\n",
       "32520  천문학자와 생물학자는 과학의 다른 영역을 연구합니다. 천문학자들은 하늘에 있는 매우...   \n",
       "32521  천문학자와 생물학자는 과학의 다른 영역을 연구합니다. 천문학자들은 하늘에 있는 매우...   \n",
       "32522  천문학자와 생물학자는 과학의 다른 영역을 연구합니다. 천문학자들은 하늘에 있는 매우...   \n",
       "32523  천문학자와 생물학자는 과학의 다른 영역을 연구합니다. 천문학자들은 하늘에 있는 매우...   \n",
       "32524  천문학자와 생물학자는 과학의 다른 영역을 연구합니다. 천문학자들은 하늘에 있는 매우...   \n",
       "32525  천문학자와 생물학자는 과학의 다른 영역을 연구합니다. 천문학자들은 하늘에 있는 매우...   \n",
       "32526  천문학자와 생물학자는 과학의 다른 영역을 연구합니다. 천문학자들은 하늘에 있는 매우...   \n",
       "32527  천문학자와 생물학자는 과학의 다른 영역을 연구합니다. 천문학자들은 하늘에 있는 매우...   \n",
       "32528  천문학자와 생물학자는 과학의 다른 영역을 연구합니다. 천문학자들은 하늘에 있는 매우...   \n",
       "32529  천문학자와 생물학자는 과학의 다른 영역을 연구합니다. 천문학자들은 하늘에 있는 매우...   \n",
       "32530  천문학자와 생물학자는 과학의 다른 영역을 연구합니다. 천문학자들은 하늘에 있는 매우...   \n",
       "32531  천문학자와 생물학자는 과학의 다른 영역을 연구합니다. 천문학자들은 하늘에 있는 매우...   \n",
       "32532  천문학자와 생물학자는 과학의 다른 영역을 연구합니다. 천문학자들은 하늘에 있는 매우...   \n",
       "32533  천문학자와 생물학자는 과학의 다른 영역을 연구합니다. 천문학자들은 하늘에 있는 매우...   \n",
       "32534  천문학자와 생물학자는 과학의 다른 영역을 연구합니다. 천문학자들은 하늘에 있는 매우...   \n",
       "32535  천문학자와 생물학자는 과학의 다른 영역을 연구합니다. 천문학자들은 하늘에 있는 매우...   \n",
       "32536  천문학자와 생물학자는 과학의 다른 영역을 연구합니다. 천문학자들은 하늘에 있는 매우...   \n",
       "32537  천문학자와 생물학자는 과학의 다른 영역을 연구합니다. 천문학자들은 하늘에 있는 매우...   \n",
       "32538  천문학자와 생물학자는 과학의 다른 영역을 연구합니다. 천문학자들은 하늘에 있는 매우...   \n",
       "32539  천문학자와 생물학자는 과학의 다른 영역을 연구합니다. 천문학자들은 하늘에 있는 매우...   \n",
       "\n",
       "                                    src      new_domains  \n",
       "32520  ko_ai2_arc__ARC_Challenge__train        astronomy  \n",
       "32521  ko_ai2_arc__ARC_Challenge__train  college_biology  \n",
       "32522  ko_ai2_arc__ARC_Challenge__train        astronomy  \n",
       "32523  ko_ai2_arc__ARC_Challenge__train  college_biology  \n",
       "32524  ko_ai2_arc__ARC_Challenge__train        astronomy  \n",
       "32525  ko_ai2_arc__ARC_Challenge__train  college_biology  \n",
       "32526  ko_ai2_arc__ARC_Challenge__train        astronomy  \n",
       "32527  ko_ai2_arc__ARC_Challenge__train  college_biology  \n",
       "32528  ko_ai2_arc__ARC_Challenge__train        astronomy  \n",
       "32529  ko_ai2_arc__ARC_Challenge__train  college_biology  \n",
       "32530  ko_ai2_arc__ARC_Challenge__train        astronomy  \n",
       "32531  ko_ai2_arc__ARC_Challenge__train  college_biology  \n",
       "32532  ko_ai2_arc__ARC_Challenge__train        astronomy  \n",
       "32533  ko_ai2_arc__ARC_Challenge__train  college_biology  \n",
       "32534  ko_ai2_arc__ARC_Challenge__train        astronomy  \n",
       "32535  ko_ai2_arc__ARC_Challenge__train  college_biology  \n",
       "32536  ko_ai2_arc__ARC_Challenge__train        astronomy  \n",
       "32537  ko_ai2_arc__ARC_Challenge__train  college_biology  \n",
       "32538  ko_ai2_arc__ARC_Challenge__train        astronomy  \n",
       "32539  ko_ai2_arc__ARC_Challenge__train  college_biology  "
      ]
     },
     "execution_count": 10,
     "metadata": {},
     "output_type": "execute_result"
    }
   ],
   "source": [
    "data2_expanded[data2_expanded['docid']=='c73343e8-395d-40d0-854a-529d11c4e194']"
   ]
  },
  {
   "cell_type": "code",
   "execution_count": 11,
   "metadata": {},
   "outputs": [
    {
     "data": {
      "text/plain": [
       "(41650, 5)"
      ]
     },
     "execution_count": 11,
     "metadata": {},
     "output_type": "execute_result"
    }
   ],
   "source": [
    "data2_expanded.shape"
   ]
  },
  {
   "cell_type": "code",
   "execution_count": 12,
   "metadata": {},
   "outputs": [
    {
     "data": {
      "text/plain": [
       "array(['human_aging', 'medical_genetics', 'high_school_biology',\n",
       "       'college_chemistry', 'college_physics', 'conceptual_physics',\n",
       "       'global_facts', 'computer_security', 'high_school_chemistry',\n",
       "       'anatomy', 'nutrition', 'human_sexuality', 'astronomy',\n",
       "       'high_school_computer_science', 'virology',\n",
       "       'electrical_engineering', 'college_medicine', 'college_biology',\n",
       "       'college_computer_science', 'high_school_physics', 'geology',\n",
       "       'art', 'college_science', 'safety', 'civil_engineering',\n",
       "       'new_technology_in_industry', 'engineering', 'data_visualization',\n",
       "       'environmental_science', 'music_performance', 'logistics', 'None',\n",
       "       'construction_tools', 'safety_education', 'investigation_records'],\n",
       "      dtype=object)"
      ]
     },
     "execution_count": 12,
     "metadata": {},
     "output_type": "execute_result"
    }
   ],
   "source": [
    "data2_expanded.new_domains.unique()"
   ]
  },
  {
   "cell_type": "code",
   "execution_count": 13,
   "metadata": {},
   "outputs": [],
   "source": [
    "data2 = data2_expanded[~data2_expanded['new_domains'].isin(['None'])]"
   ]
  },
  {
   "cell_type": "code",
   "execution_count": 36,
   "metadata": {},
   "outputs": [
    {
     "data": {
      "text/plain": [
       "41640"
      ]
     },
     "execution_count": 36,
     "metadata": {},
     "output_type": "execute_result"
    }
   ],
   "source": [
    "len(data2)"
   ]
  },
  {
   "cell_type": "code",
   "execution_count": 40,
   "metadata": {},
   "outputs": [
    {
     "data": {
      "text/plain": [
       "0    [ec301d79-dd16-4e88-b389-eb5f12bafef8, 74c7508...\n",
       "1    [7150c749-dff2-4bd5-90ff-ff1e1cda468b, 12ee43d...\n",
       "2    [eab2a705-18b6-4bbe-84f4-acacb4cd8a1f, 5b53496...\n",
       "3    [d525c38e-a296-4dec-8a60-d1fb98a355e3, e17a338...\n",
       "4    [4b49f3a2-32c9-4b2e-89c4-4719f98e7a74, ab63b95...\n",
       "Name: topk, dtype: object"
      ]
     },
     "execution_count": 40,
     "metadata": {},
     "output_type": "execute_result"
    }
   ],
   "source": []
  },
  {
   "cell_type": "code",
   "execution_count": 41,
   "metadata": {},
   "outputs": [
    {
     "name": "stdout",
     "output_type": "stream",
     "text": [
      "['ec301d79-dd16-4e88-b389-eb5f12bafef8', '74c75080-9d16-4bbd-8667-a124e18d9a64', '40b49c1e-94af-470d-b3d9-467b159459cf', '1d55a166-913b-4848-89f4-7f06ced3fac8', '3e08cc48-af01-4b14-b75d-664d4b75b168', '531ddec9-a32d-4156-a6bc-c636c60806be', '12fdc3f9-f6c9-46ed-8870-a14d734e31b0', '231ed8b4-2690-4a0a-8216-ef71334f1ab8', '360de34f-3062-463f-b334-b402934a74b5', '78a3e002-e426-4766-b891-f2bd7a26ace3', '787049a1-91fb-4e55-ac4d-a36e09f1cd44', '9bc4856d-4d47-4922-ba55-097ca03f259d', '5ff8f00a-a4e6-43fd-8616-3104a4c4d637', '4d939369-0b8f-40c9-89d7-dae9ba9d01e1', '424ed825-fde2-4a36-ae71-0068e48e4af3', 'd0de6190-2cb7-4466-b8c6-81be597cb81d', '6e044ed7-2227-47c9-ba07-7be05bd4ec08', '9db26cc0-a45b-403f-9993-2422fb7e73a0', 'e248d4b1-0d7e-44bc-abf3-8682de6be014', 'b433f18d-472c-43df-b7af-64a8fed7c0cb', '7150c749-dff2-4bd5-90ff-ff1e1cda468b', '12ee43dc-ef6b-4f60-bde3-d047732e6e38', '7cd47f89-163f-4bb4-98c8-574d6aa3b2fd', 'd471ea16-fbd9-400d-a29c-b24aff85724e', 'c0645487-4d27-4153-8bd6-c6abc823b72e', '8d96b24a-4aea-4374-877e-94f74e452810', '7dc11cf4-a001-47ed-b503-1ae9c9b400fd', '717732e3-a65b-4959-b3ab-b7568141a92d', 'd8d62248-9ac7-41da-92f0-471f14bf0bcc', '3df7461e-f793-497b-aa64-e3407ec1c813', '6f5b9481-7873-409c-b22f-d86ed46b1aec', '548daea1-9bd5-4004-9212-17a6d5f9c1fb', 'b137486e-c303-46f8-8cc2-618e103a156c', '805d415b-50f4-48a3-b9e5-b86def73837f', '46b68836-a0d0-41a4-a7e5-7d9d8908fb0b', '0b5888eb-e3d9-44ed-9c9c-1b88101dd694', 'cfec3c0f-f6c4-4588-b9f0-50520797b956', 'c8bd9b15-8ce0-4307-9f49-0f205217178f', '81ab230e-525d-4a79-8565-c20921f2a78d', '42dc8596-196c-4286-858c-164c63287779', 'eab2a705-18b6-4bbe-84f4-acacb4cd8a1f', '5b53496d-48dd-4899-9d45-11f55456cdba', '13fc62f1-a1dc-445a-b495-0b865b0a1c7a', '0ead6efd-e477-461a-b609-29fcb7c5d038', 'cf607fa8-c14d-4ca5-a471-a0b302a04c6e', '7cd47f89-163f-4bb4-98c8-574d6aa3b2fd', '1853000e-458c-49ee-b3b4-93d6c2f9901b', 'b33f5950-e482-4875-8c8e-500b383fc83e', 'bc839fcd-311e-4de5-91c5-041d7aaba20e', '6b4d9bdc-8732-4697-a43f-4adb24bd9738', '45c92b48-cbd6-4943-bf70-bcf409f948f9', '5c66680b-3f52-4250-8e4e-afe00c5cb9a7', '7fc8b55a-f05d-4857-aebd-933e42897567', '59ce17a4-82be-4e0c-adbd-3ef4fd4e8a33', '4764014a-4240-4c65-aa92-20eb1369a2f7', 'd471ea16-fbd9-400d-a29c-b24aff85724e', 'c49cf6ff-ad5e-4a4b-b32b-cee870c1e437', '6a163aee-6ebd-46d2-aeaa-ee911a8f42e6', '30f6ad1f-d4ae-44e9-bcdb-b0390e470377', 'f00c3fb6-6738-4275-828f-0a42e426fef2', 'd525c38e-a296-4dec-8a60-d1fb98a355e3', 'e17a3380-323d-4668-bed5-272502280045', 'ac7f1df2-0d4f-4ea2-ae6f-07224ed1debc', 'b30cb3ce-8b7d-4072-8025-94b07a8a019c', '989ee59a-49c4-4cab-b17d-f90107a1c50f', '0f3ac55d-9266-4805-a055-04952f53ca3c', '35f4b246-adf3-4aa0-b905-efec782292b1', '81a0ed68-ed93-4c24-b7ad-31d003ea2a06', '4c41b691-0743-4c9f-934e-86ea692699ce', '4d59d546-b596-4a07-aa3f-6d6e4e6d1129', '6a8c12c0-40c7-4bc0-ae00-287be955704f', '662f7ddd-6947-442e-96e9-140f2975f664', '9d41416d-f588-4b36-81f6-8876bf1f5920', '7f8cc722-0377-4821-acd7-ec947f801a4d', '76b7c04f-d22b-4ee8-9b1d-3858257ddcc3', '3282153a-563c-444d-ac47-ba906ff41c38', 'dfa73456-d79a-4445-b4ba-d065ce11a040', '06689515-b8fe-43b7-a13f-0cd38fa94429', 'e20b1aba-910b-4221-af8f-dfa1443aaebd', '6618f5fd-53fb-47cb-81e5-713aa4c225e2', '4b49f3a2-32c9-4b2e-89c4-4719f98e7a74', 'ab63b95c-c91f-455f-b1b7-9105eb671b13', '6dcf1f6e-36a9-4606-b43d-9a6b456ab0bb', 'b431cf78-add2-4243-9d07-0880f2e6d615', '2e91a956-a24a-4d0c-8a9a-7aeadba95ad9', 'a6596127-b651-4717-bcc2-98aa06383006', 'c929d733-46ba-485c-a911-a17f3238ec7d', '448a51ae-d426-4de2-86c7-2d09c5f54db9', '8e80bc5b-78de-4901-b8ef-af644945724a', 'b303e4ec-87fb-40f9-8704-9037bad5af8a', 'fe338163-66ec-4ba2-a3ce-6b11fc1177a5', '4cd1d239-c42c-4fdd-b680-1e07a3206779', '05308f11-0d18-4246-9d7c-895ab0e3e198', '7f35da1d-ea1f-463b-879e-c4142621ecc3', '34af4870-9628-4725-94cc-e37b38f06a53', 'eb0f8b9e-30ba-455a-9e49-21cd0d88f052', 'f7d4f91c-49ff-44cd-9f81-c6bef6ad2d37', '4dd38664-fc38-4c4d-9969-1d99474a427b', 'd92388f6-ec82-4f43-b67f-0e26bcb0c394', '1effd3e5-3d33-47a8-acbb-87b2b9ab9531']\n"
     ]
    }
   ],
   "source": [
    "# data2를 활용하면 데이터셋이 너무 커지기 때문에 reranker로 topk5을 뽑아 해당 문서에 대해서만 훈련셋을 만들기로 한다.\n",
    "firstreranking = pd.read_json('/data/ephemeral/home/firstreranking.csv', lines=True)\n",
    "\n",
    "# 'topk' 컬럼의 20개 행 중 왼쪽에서 5개 값만 가져오기\n",
    "subset_topk = firstreranking['topk'][:5]\n",
    "\n",
    "# [] 괄호 안의 값들을 하나의 리스트로 합치기\n",
    "combined_list = [item for sublist in subset_topk for item in sublist]\n",
    "\n",
    "# 결과 출력\n",
    "print(combined_list)"
   ]
  },
  {
   "cell_type": "code",
   "execution_count": 42,
   "metadata": {},
   "outputs": [],
   "source": [
    "data3 = data2[data2['docid'].isin(combined_list)]"
   ]
  },
  {
   "cell_type": "code",
   "execution_count": 43,
   "metadata": {},
   "outputs": [
    {
     "data": {
      "text/plain": [
       "980"
      ]
     },
     "execution_count": 43,
     "metadata": {},
     "output_type": "execute_result"
    }
   ],
   "source": [
    "len(data3)"
   ]
  },
  {
   "cell_type": "code",
   "execution_count": 44,
   "metadata": {},
   "outputs": [],
   "source": [
    "from itertools import product\n",
    "from itertools import combinations\n",
    "from sentence_transformers import InputExample\n",
    "\n",
    "\n",
    "\n",
    "def create_labelled_pairs(data):\n",
    "    # 데이터를 도메인별로 그룹화\n",
    "    grouped_by_domain = data.groupby('new_domains')\n",
    "    positive_pairs = []\n",
    "    negative_pairs = []\n",
    "\n",
    "    # 도메인별로 긍정 쌍 생성\n",
    "    for domain, group in grouped_by_domain:\n",
    "        grouped_by_doc = group.groupby('docid')\n",
    "        # 동일 문서 내의 질문들로 긍정적인 쌍 생성\n",
    "        for docid, questions_in_doc in grouped_by_doc:\n",
    "            questions = list(questions_in_doc['question'])\n",
    "            for q1, q2 in combinations(questions, 2):\n",
    "                positive_pairs.append(InputExample(texts=[q1, q2], label=1))\n",
    "        \n",
    "        # 도메인 내 다른 문서 간 부정적인 쌍 생성\n",
    "        docids = list(grouped_by_doc.groups.keys())\n",
    "        for i in range(len(docids)):\n",
    "            for j in range(i + 1, len(docids)):\n",
    "                questions1 = list(grouped_by_doc.get_group(docids[i])['question'])\n",
    "                questions2 = list(grouped_by_doc.get_group(docids[j])['question'])\n",
    "                for q1, q2 in product(questions1, questions2):\n",
    "                    negative_pairs.append(InputExample(texts=[q1, q2], label=0))\n",
    "\n",
    "    # # 다른 도메인 간 부정적인 쌍 생성\n",
    "    # domains = list(grouped_by_domain.groups.keys())\n",
    "    # for i in range(len(domains)):\n",
    "    #     for j in range(i + 1, len(domains)):\n",
    "    #         questions1 = list(grouped_by_domain.get_group(domains[i])['question'])\n",
    "    #         questions2 = list(grouped_by_domain.get_group(domains[j])['question'])\n",
    "    #         for q1, q2 in product(questions1, questions2):\n",
    "    #             negative_pairs.append(InputExample(texts=[q1, q2], label=0))\n",
    "\n",
    "    return positive_pairs + negative_pairs\n",
    "    \n",
    "# 데이터 생성\n",
    "training_pairs = create_labelled_pairs(data3)\n"
   ]
  },
  {
   "cell_type": "code",
   "execution_count": 45,
   "metadata": {},
   "outputs": [
    {
     "data": {
      "text/plain": [
       "64610"
      ]
     },
     "execution_count": 45,
     "metadata": {},
     "output_type": "execute_result"
    }
   ],
   "source": [
    "len(training_pairs)"
   ]
  },
  {
   "cell_type": "code",
   "execution_count": 33,
   "metadata": {},
   "outputs": [
    {
     "ename": "AttributeError",
     "evalue": "'InputExample' object has no attribute 'new_domains'",
     "output_type": "error",
     "traceback": [
      "\u001b[0;31m---------------------------------------------------------------------------\u001b[0m",
      "\u001b[0;31mAttributeError\u001b[0m                            Traceback (most recent call last)",
      "Cell \u001b[0;32mIn[33], line 7\u001b[0m\n\u001b[1;32m      5\u001b[0m domain_groups \u001b[38;5;241m=\u001b[39m defaultdict(\u001b[38;5;28mlist\u001b[39m)\n\u001b[1;32m      6\u001b[0m \u001b[38;5;28;01mfor\u001b[39;00m pair \u001b[38;5;129;01min\u001b[39;00m training_pairs:\n\u001b[0;32m----> 7\u001b[0m     domain \u001b[38;5;241m=\u001b[39m \u001b[43mpair\u001b[49m\u001b[38;5;241;43m.\u001b[39;49m\u001b[43mnew_domains\u001b[49m  \u001b[38;5;66;03m# domain이 있다고 가정\u001b[39;00m\n\u001b[1;32m      8\u001b[0m     domain_groups[domain]\u001b[38;5;241m.\u001b[39mappend(pair)\n\u001b[1;32m     10\u001b[0m \u001b[38;5;66;03m# 각 도메인에서 일정 비율로 샘플링\u001b[39;00m\n",
      "\u001b[0;31mAttributeError\u001b[0m: 'InputExample' object has no attribute 'new_domains'"
     ]
    }
   ],
   "source": [
    "#생략\n",
    "from collections import defaultdict\n",
    "import random\n",
    "\n",
    "# 도메인별로 데이터 그룹화\n",
    "domain_groups = defaultdict(list)\n",
    "for pair in training_pairs:\n",
    "    domain = pair.domain  # domain이 있다고 가정\n",
    "    domain_groups[domain].append(pair)\n",
    "\n",
    "# 각 도메인에서 일정 비율로 샘플링\n",
    "sample_ratio = 0.01  # 1% 샘플링\n",
    "sampled_training_pairs = []\n",
    "for domain, pairs in domain_groups.items():\n",
    "    sampled_pairs = random.sample(pairs, int(len(pairs) * sample_ratio))\n",
    "    sampled_training_pairs.extend(sampled_pairs)\n",
    "\n",
    "print(f\"Sampled training pairs length: {len(sampled_training_pairs)}\")\n"
   ]
  },
  {
   "cell_type": "code",
   "execution_count": 46,
   "metadata": {},
   "outputs": [
    {
     "name": "stdout",
     "output_type": "stream",
     "text": [
      "Query: 대적점이 발생하는 조건은 무엇인가?\n",
      "Document: 대적점을 찾을 수 있는 행성은 어떤 행성인가?\n",
      "Label: 1\n",
      "------------------------------\n",
      "Query: 대적점이 발생하는 조건은 무엇인가?\n",
      "Document: 태양계에서 가장 큰 행성은 무엇인가?\n",
      "Label: 1\n",
      "------------------------------\n",
      "Query: 대적점이 발생하는 조건은 무엇인가?\n",
      "Document: 대적점이 발생할 때 행성의 위치는 어떻게 되나?\n",
      "Label: 1\n",
      "------------------------------\n",
      "Query: 대적점이 발생하는 조건은 무엇인가?\n",
      "Document: 목성이 태양계에서 가장 큰 이유는 무엇인가?\n",
      "Label: 1\n",
      "------------------------------\n",
      "Query: 대적점이 발생하는 조건은 무엇인가?\n",
      "Document: 대적점이란 무엇을 의미하는가?\n",
      "Label: 1\n",
      "------------------------------\n",
      "Query: 대적점이 발생하는 조건은 무엇인가?\n",
      "Document: 태양과 지구 사이에 위치할 때 어떤 현상이 발생하는가?\n",
      "Label: 1\n",
      "------------------------------\n",
      "Query: 대적점이 발생하는 조건은 무엇인가?\n",
      "Document: 목성의 크기와 질량은 다른 행성들과 어떻게 비교되는가?\n",
      "Label: 1\n",
      "------------------------------\n",
      "Query: 대적점이 발생하는 조건은 무엇인가?\n",
      "Document: 태양계의 구성 요소는 무엇인가?\n",
      "Label: 1\n",
      "------------------------------\n",
      "Query: 대적점이 발생하는 조건은 무엇인가?\n",
      "Document: 대적점이 발생할 수 있는 행성의 조건은 무엇인가?\n",
      "Label: 1\n",
      "------------------------------\n",
      "Query: 대적점을 찾을 수 있는 행성은 어떤 행성인가?\n",
      "Document: 태양계에서 가장 큰 행성은 무엇인가?\n",
      "Label: 1\n",
      "------------------------------\n",
      "Query: 대적점을 찾을 수 있는 행성은 어떤 행성인가?\n",
      "Document: 대적점이 발생할 때 행성의 위치는 어떻게 되나?\n",
      "Label: 1\n",
      "------------------------------\n",
      "Query: 대적점을 찾을 수 있는 행성은 어떤 행성인가?\n",
      "Document: 목성이 태양계에서 가장 큰 이유는 무엇인가?\n",
      "Label: 1\n",
      "------------------------------\n",
      "Query: 대적점을 찾을 수 있는 행성은 어떤 행성인가?\n",
      "Document: 대적점이란 무엇을 의미하는가?\n",
      "Label: 1\n",
      "------------------------------\n",
      "Query: 대적점을 찾을 수 있는 행성은 어떤 행성인가?\n",
      "Document: 태양과 지구 사이에 위치할 때 어떤 현상이 발생하는가?\n",
      "Label: 1\n",
      "------------------------------\n",
      "Query: 대적점을 찾을 수 있는 행성은 어떤 행성인가?\n",
      "Document: 목성의 크기와 질량은 다른 행성들과 어떻게 비교되는가?\n",
      "Label: 1\n",
      "------------------------------\n",
      "Query: 대적점을 찾을 수 있는 행성은 어떤 행성인가?\n",
      "Document: 태양계의 구성 요소는 무엇인가?\n",
      "Label: 1\n",
      "------------------------------\n",
      "Query: 대적점을 찾을 수 있는 행성은 어떤 행성인가?\n",
      "Document: 대적점이 발생할 수 있는 행성의 조건은 무엇인가?\n",
      "Label: 1\n",
      "------------------------------\n",
      "Query: 태양계에서 가장 큰 행성은 무엇인가?\n",
      "Document: 대적점이 발생할 때 행성의 위치는 어떻게 되나?\n",
      "Label: 1\n",
      "------------------------------\n",
      "Query: 태양계에서 가장 큰 행성은 무엇인가?\n",
      "Document: 목성이 태양계에서 가장 큰 이유는 무엇인가?\n",
      "Label: 1\n",
      "------------------------------\n",
      "Query: 태양계에서 가장 큰 행성은 무엇인가?\n",
      "Document: 대적점이란 무엇을 의미하는가?\n",
      "Label: 1\n",
      "------------------------------\n",
      "Query: 태양계에서 가장 큰 행성은 무엇인가?\n",
      "Document: 태양과 지구 사이에 위치할 때 어떤 현상이 발생하는가?\n",
      "Label: 1\n",
      "------------------------------\n",
      "Query: 태양계에서 가장 큰 행성은 무엇인가?\n",
      "Document: 목성의 크기와 질량은 다른 행성들과 어떻게 비교되는가?\n",
      "Label: 1\n",
      "------------------------------\n",
      "Query: 태양계에서 가장 큰 행성은 무엇인가?\n",
      "Document: 태양계의 구성 요소는 무엇인가?\n",
      "Label: 1\n",
      "------------------------------\n",
      "Query: 태양계에서 가장 큰 행성은 무엇인가?\n",
      "Document: 대적점이 발생할 수 있는 행성의 조건은 무엇인가?\n",
      "Label: 1\n",
      "------------------------------\n",
      "Query: 대적점이 발생할 때 행성의 위치는 어떻게 되나?\n",
      "Document: 목성이 태양계에서 가장 큰 이유는 무엇인가?\n",
      "Label: 1\n",
      "------------------------------\n",
      "Query: 대적점이 발생할 때 행성의 위치는 어떻게 되나?\n",
      "Document: 대적점이란 무엇을 의미하는가?\n",
      "Label: 1\n",
      "------------------------------\n",
      "Query: 대적점이 발생할 때 행성의 위치는 어떻게 되나?\n",
      "Document: 태양과 지구 사이에 위치할 때 어떤 현상이 발생하는가?\n",
      "Label: 1\n",
      "------------------------------\n",
      "Query: 대적점이 발생할 때 행성의 위치는 어떻게 되나?\n",
      "Document: 목성의 크기와 질량은 다른 행성들과 어떻게 비교되는가?\n",
      "Label: 1\n",
      "------------------------------\n",
      "Query: 대적점이 발생할 때 행성의 위치는 어떻게 되나?\n",
      "Document: 태양계의 구성 요소는 무엇인가?\n",
      "Label: 1\n",
      "------------------------------\n",
      "Query: 대적점이 발생할 때 행성의 위치는 어떻게 되나?\n",
      "Document: 대적점이 발생할 수 있는 행성의 조건은 무엇인가?\n",
      "Label: 1\n",
      "------------------------------\n"
     ]
    }
   ],
   "source": [
    "# Print the first 10 pairs to see their content and labels\n",
    "for example in training_pairs[:30]:\n",
    "    print(\"Query:\", example.texts[0])\n",
    "    print(\"Document:\", example.texts[1])\n",
    "    print(\"Label:\", example.label)\n",
    "    print(\"-\" * 30)\n"
   ]
  },
  {
   "cell_type": "code",
   "execution_count": 47,
   "metadata": {},
   "outputs": [
    {
     "name": "stdout",
     "output_type": "stream",
     "text": [
      "Query: 목성이 태양계에서 가장 큰 이유는 무엇인가?\n",
      "Document: 대적점이란 무엇을 의미하는가?\n",
      "Label: 1\n",
      "------------------------------\n",
      "Query: 목성이 태양계에서 가장 큰 이유는 무엇인가?\n",
      "Document: 태양과 지구 사이에 위치할 때 어떤 현상이 발생하는가?\n",
      "Label: 1\n",
      "------------------------------\n",
      "Query: 목성이 태양계에서 가장 큰 이유는 무엇인가?\n",
      "Document: 목성의 크기와 질량은 다른 행성들과 어떻게 비교되는가?\n",
      "Label: 1\n",
      "------------------------------\n",
      "Query: 목성이 태양계에서 가장 큰 이유는 무엇인가?\n",
      "Document: 태양계의 구성 요소는 무엇인가?\n",
      "Label: 1\n",
      "------------------------------\n",
      "Query: 목성이 태양계에서 가장 큰 이유는 무엇인가?\n",
      "Document: 대적점이 발생할 수 있는 행성의 조건은 무엇인가?\n",
      "Label: 1\n",
      "------------------------------\n",
      "Query: 대적점이란 무엇을 의미하는가?\n",
      "Document: 태양과 지구 사이에 위치할 때 어떤 현상이 발생하는가?\n",
      "Label: 1\n",
      "------------------------------\n",
      "Query: 대적점이란 무엇을 의미하는가?\n",
      "Document: 목성의 크기와 질량은 다른 행성들과 어떻게 비교되는가?\n",
      "Label: 1\n",
      "------------------------------\n",
      "Query: 대적점이란 무엇을 의미하는가?\n",
      "Document: 태양계의 구성 요소는 무엇인가?\n",
      "Label: 1\n",
      "------------------------------\n",
      "Query: 대적점이란 무엇을 의미하는가?\n",
      "Document: 대적점이 발생할 수 있는 행성의 조건은 무엇인가?\n",
      "Label: 1\n",
      "------------------------------\n",
      "Query: 태양과 지구 사이에 위치할 때 어떤 현상이 발생하는가?\n",
      "Document: 목성의 크기와 질량은 다른 행성들과 어떻게 비교되는가?\n",
      "Label: 1\n",
      "------------------------------\n",
      "Query: 태양과 지구 사이에 위치할 때 어떤 현상이 발생하는가?\n",
      "Document: 태양계의 구성 요소는 무엇인가?\n",
      "Label: 1\n",
      "------------------------------\n",
      "Query: 태양과 지구 사이에 위치할 때 어떤 현상이 발생하는가?\n",
      "Document: 대적점이 발생할 수 있는 행성의 조건은 무엇인가?\n",
      "Label: 1\n",
      "------------------------------\n",
      "Query: 목성의 크기와 질량은 다른 행성들과 어떻게 비교되는가?\n",
      "Document: 태양계의 구성 요소는 무엇인가?\n",
      "Label: 1\n",
      "------------------------------\n",
      "Query: 목성의 크기와 질량은 다른 행성들과 어떻게 비교되는가?\n",
      "Document: 대적점이 발생할 수 있는 행성의 조건은 무엇인가?\n",
      "Label: 1\n",
      "------------------------------\n",
      "Query: 태양계의 구성 요소는 무엇인가?\n",
      "Document: 대적점이 발생할 수 있는 행성의 조건은 무엇인가?\n",
      "Label: 1\n",
      "------------------------------\n",
      "Query: 목성형 행성이 '거대 흑성'이라고 불리는 이유는 무엇인가?\n",
      "Document: 목성형 행성들은 어떤 물질로 이루어져 있나요?\n",
      "Label: 1\n",
      "------------------------------\n",
      "Query: 목성형 행성이 '거대 흑성'이라고 불리는 이유는 무엇인가?\n",
      "Document: 목성형 행성의 가스 구름은 주로 무엇으로 이루어져 있나요?\n",
      "Label: 1\n",
      "------------------------------\n",
      "Query: 목성형 행성이 '거대 흑성'이라고 불리는 이유는 무엇인가?\n",
      "Document: 목성형 행성들이 단순히 가스로 이루어져 있지 않은 이유는?\n",
      "Label: 1\n",
      "------------------------------\n",
      "Query: 목성형 행성이 '거대 흑성'이라고 불리는 이유는 무엇인가?\n",
      "Document: 거대 흑성이라는 용어의 오해는 무엇인가?\n",
      "Label: 1\n",
      "------------------------------\n",
      "Query: 목성형 행성이 '거대 흑성'이라고 불리는 이유는 무엇인가?\n",
      "Document: 목성형 행성의 물질은 어떤 형태로 존재할 수 있나요?\n",
      "Label: 1\n",
      "------------------------------\n"
     ]
    }
   ],
   "source": [
    "for example in training_pairs[30:50]:\n",
    "    print(\"Query:\", example.texts[0])\n",
    "    print(\"Document:\", example.texts[1])\n",
    "    print(\"Label:\", example.label)\n",
    "    print(\"-\" * 30)"
   ]
  },
  {
   "cell_type": "code",
   "execution_count": null,
   "metadata": {},
   "outputs": [],
   "source": [
    "# https://github.com/UKPLab/sentence-transformers/blob/master/examples/training/cross-encoder/training_stsbenchmark.py"
   ]
  },
  {
   "cell_type": "code",
   "execution_count": 48,
   "metadata": {},
   "outputs": [
    {
     "name": "stdout",
     "output_type": "stream",
     "text": [
      "2024-10-24 06:56:18 - Use pytorch device: cuda\n",
      "2024-10-24 06:56:19 - Starting training...\n"
     ]
    },
    {
     "name": "stderr",
     "output_type": "stream",
     "text": [
      "                                                                              \r"
     ]
    },
    {
     "name": "stdout",
     "output_type": "stream",
     "text": [
      "2024-10-24 09:52:02 - Save model to output/training_Dongjin-kr-ko-reranker_binary_2024-10-24_06-56-17-epoch-1\n",
      "2024-10-24 09:52:05 - Model saved after epoch 1 to output/training_Dongjin-kr-ko-reranker_binary_2024-10-24_06-56-17-epoch-1\n",
      "2024-10-24 09:52:05 - Save model to output/training_Dongjin-kr-ko-reranker_binary_2024-10-24_06-56-17-final\n",
      "2024-10-24 09:52:08 - Training complete. Final model saved to output/training_Dongjin-kr-ko-reranker_binary_2024-10-24_06-56-17-final\n"
     ]
    }
   ],
   "source": [
    "import logging\n",
    "import math\n",
    "from datetime import datetime\n",
    "import torch\n",
    "from torch.utils.data import DataLoader\n",
    "from torch.nn import BCEWithLogitsLoss\n",
    "from sentence_transformers import LoggingHandler\n",
    "from sentence_transformers.cross_encoder import CrossEncoder\n",
    "from sentence_transformers.cross_encoder.evaluation import CECorrelationEvaluator\n",
    "from transformers import AutoTokenizer\n",
    "from sklearn.model_selection import train_test_split\n",
    "from tqdm import tqdm  # Import tqdm for the progress bar\n",
    "\n",
    "# Setup logging\n",
    "logging.basicConfig(format=\"%(asctime)s - %(message)s\", datefmt=\"%Y-%m-%d %H:%M:%S\", level=logging.INFO, handlers=[LoggingHandler()])\n",
    "\n",
    "# Define model parameters\n",
    "model_name = \"Dongjin-kr/ko-reranker\"\n",
    "train_batch_size = 32\n",
    "num_epochs = 1\n",
    "model_save_path = f\"output/training_{model_name.replace('/', '-')}_binary_{datetime.now().strftime('%Y-%m-%d_%H-%M-%S')}\"\n",
    "\n",
    "# Initialize the model and tokenizer\n",
    "model = CrossEncoder(model_name, num_labels=1)\n",
    "tokenizer = AutoTokenizer.from_pretrained(model_name)\n",
    "\n",
    "# Split the data into train, validation, and test sets\n",
    "train_val_pairs, test_pairs = train_test_split(training_pairs, test_size=0.2, random_state=42)\n",
    "train_pairs, validation_pairs = train_test_split(train_val_pairs, test_size=0.2, random_state=42)\n",
    "\n",
    "# Custom collate function to tokenize the data\n",
    "def collate_fn(batch):\n",
    "    texts = [pair.texts for pair in batch]\n",
    "    labels = [pair.label for pair in batch]\n",
    "    \n",
    "    # Tokenize the texts\n",
    "    inputs = tokenizer(texts, padding=True, truncation=True, return_tensors=\"pt\", max_length=512)\n",
    "    \n",
    "    # Convert labels to tensors\n",
    "    labels = torch.tensor(labels, dtype=torch.float)\n",
    "    \n",
    "    return inputs, labels\n",
    "\n",
    "# Create DataLoader for train, validation, and test sets with custom collate function\n",
    "train_dataloader = DataLoader(train_pairs, shuffle=True, batch_size=train_batch_size, collate_fn=collate_fn)\n",
    "validation_dataloader = DataLoader(validation_pairs, shuffle=False, batch_size=train_batch_size, collate_fn=collate_fn)\n",
    "test_dataloader = DataLoader(test_pairs, shuffle=False, batch_size=train_batch_size, collate_fn=collate_fn)\n",
    "\n",
    "# Prepare evaluator with validation set\n",
    "dev_samples = [pair for pair in validation_pairs]\n",
    "evaluator = CECorrelationEvaluator.from_input_examples(dev_samples, name=\"aug-dev\")\n",
    "\n",
    "# Configure warmup steps (10% of training steps)\n",
    "warmup_steps = math.ceil(len(train_dataloader) * num_epochs * 0.1)\n",
    "\n",
    "# Loss function: BCEWithLogitsLoss (which includes sigmoid activation)\n",
    "loss_fn = BCEWithLogitsLoss()\n",
    "\n",
    "# Train the model using the fit method with tqdm progress bar\n",
    "logging.info(\"Starting training...\")\n",
    "import torch.optim as optim\n",
    "\n",
    "# Define optimizer\n",
    "optimizer = optim.AdamW(model.model.parameters(), lr=2e-5)\n",
    "\n",
    "# Training loop\n",
    "device = model.model.device  # Access the underlying model's device\n",
    "\n",
    "for epoch in range(num_epochs):\n",
    "    model.model.train()  # Ensure the model is in training mode\n",
    "    progress_bar = tqdm(train_dataloader, desc=f\"Epoch {epoch+1}\", leave=False)\n",
    "\n",
    "    for step, (inputs, labels) in enumerate(progress_bar):\n",
    "        # Move inputs and labels to the same device as the model\n",
    "        inputs = {key: value.to(device) for key, value in inputs.items()}\n",
    "        labels = labels.to(device)\n",
    "\n",
    "        # Manually compute outputs and update progress bar\n",
    "        outputs = model.model(**inputs).logits\n",
    "        loss = torch.nn.BCEWithLogitsLoss()(outputs.view(-1), labels)\n",
    "\n",
    "        # Zero gradients, backward pass, and optimizer step\n",
    "        optimizer.zero_grad()  # Manually zero the gradients\n",
    "        loss.backward()  # Backpropagation\n",
    "        optimizer.step()  # Optimizer step to update weights\n",
    "\n",
    "        # Update the progress bar with the current loss\n",
    "        progress_bar.set_postfix({'loss': loss.item()})\n",
    "\n",
    "    # Save the model at the end of each epoch\n",
    "    epoch_save_path = f\"{model_save_path}-epoch-{epoch+1}\"\n",
    "    model.save(epoch_save_path)\n",
    "    logging.info(f\"Model saved after epoch {epoch+1} to {epoch_save_path}\")\n",
    "\n",
    "\n",
    "# Save the final model after all epochs\n",
    "model.save(model_save_path + \"-final\")\n",
    "logging.info(f\"Training complete. Final model saved to {model_save_path + '-final'}\")\n"
   ]
  },
  {
   "cell_type": "code",
   "execution_count": null,
   "metadata": {},
   "outputs": [],
   "source": []
  },
  {
   "cell_type": "code",
   "execution_count": null,
   "metadata": {},
   "outputs": [],
   "source": [
    "# aug_data_3.5turbo1106.jsonl: 1.0으로 PAIR: MAP 0.4955 MRR 0.4955\n",
    "# aug_data_3.5turbo1106.jsonl: 1.0,-1.0 위 코드로 PAIR: MAP 0.7197 MRR 0.7242\n",
    "# "
   ]
  }
 ],
 "metadata": {
  "kernelspec": {
   "display_name": "base",
   "language": "python",
   "name": "python3"
  },
  "language_info": {
   "codemirror_mode": {
    "name": "ipython",
    "version": 3
   },
   "file_extension": ".py",
   "mimetype": "text/x-python",
   "name": "python",
   "nbconvert_exporter": "python",
   "pygments_lexer": "ipython3",
   "version": "3.10.13"
  }
 },
 "nbformat": 4,
 "nbformat_minor": 2
}
